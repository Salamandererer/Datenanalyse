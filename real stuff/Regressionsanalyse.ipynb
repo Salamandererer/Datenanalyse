{
 "cells": [
  {
   "cell_type": "markdown",
   "source": [
    "# Regressionsanalyse\n",
    "\n",
    "\n",
    "Diese Klasse behinhaltet die Methoden\n",
    "\n",
    "- smape: liefert den smape (Symmetric mean absolute percentage error) zwischen einer Target Seite und der Predicteten Seite zu der Target Seite.\n",
    "- lineareRegression: führt eine Lineare Regression für eine Target Seite und deren Backlink Seiten (Seiten, die auf diese Target Seite verlinken) aus. Hierfür werden alle Backlinks dieser Seite geholt und dann in dem Model der linearen Regression bearbeitet. Zudem wird die predictete Seite geplottet, der SMAPE zwischen Target Seite und der predicteten Seite und zudem wird auch noch der SMAPE als Boxplot dargestellt.\n",
    "- logisticRegression: führt eine Logistische Regression für eine Target Seite und deren Backlink Seiten (Seiten, die auf diese Target Seite verlinken) aus. Hierfür werden alle Backlinks dieser Seite geholt und dann in dem Model der logistischen Regression bearbeitet. Zudem wird die predictete Seite geplottet, der SMAPE zwischen Target Seite und der predicteten Seite und zudem wird auch noch der SMAPE als Boxplot dargestellt.\n",
    "\n",
    "\n",
    "Um eine Regression durchzuführen ist es nötig unten unter \"article\" die Seite anzugeben, mit der man eine Regression ausführen möchte."
   ],
   "metadata": {
    "collapsed": false
   }
  },
  {
   "cell_type": "code",
   "execution_count": null,
   "outputs": [],
   "source": [
    "import pandas as pd\n",
    "import numpy as np\n",
    "from matplotlib import pyplot as plt\n",
    "from pandas.core import frame\n",
    "from sklearn.linear_model import LinearRegression\n",
    "from sklearn.linear_model import LogisticRegression\n",
    "from linkmethods import get_views, get_links"
   ],
   "metadata": {
    "collapsed": false,
    "pycharm": {
     "is_executing": true
    }
   }
  },
  {
   "cell_type": "code",
   "execution_count": null,
   "outputs": [],
   "source": [
    "def smape(target, forecast):\n",
    "    if type(target) == pd.core.frame.DataFrame:\n",
    "        target = target.values\n",
    "\n",
    "    denominator = np.abs(target) + np.abs(forecast)\n",
    "    flag = denominator == 0.\n",
    "\n",
    "    smape = 2 * (\n",
    "            (np.abs(target - forecast) * (1 - flag)) / (denominator + flag)\n",
    "    )\n",
    "    return smape\n"
   ],
   "metadata": {
    "collapsed": false,
    "pycharm": {
     "is_executing": true
    }
   }
  },
  {
   "cell_type": "code",
   "execution_count": null,
   "outputs": [],
   "source": [
    "def lineareRegression(article):\n",
    "    mainviews = get_views(article)\n",
    "    backlinksMainview = get_links(article, \"linkshere\")\n",
    "    df = pd.DataFrame()\n",
    "    len1 = len(mainviews)\n",
    "\n",
    "    for entry in backlinksMainview:  # for every backlink from the mainpage\n",
    "        views = get_views(entry)  # get the views\n",
    "        len2 = len(views)\n",
    "        if len2 < len1:  # then compare if they have the same amount of entries\n",
    "            diff = len1 - len2\n",
    "            for i in range(0, diff):\n",
    "                views.append(0)\n",
    "\n",
    "        df.insert(loc=0, column=entry, value=views)\n",
    "\n",
    "    x = df\n",
    "    y = mainviews\n",
    "\n",
    "    model = LinearRegression()\n",
    "    model.fit(x, y)\n",
    "\n",
    "    intercept = model.intercept_\n",
    "    slope = model.coef_\n",
    "    r_sq = model.score(x, y)\n",
    "\n",
    "    print(\"intercept:\", intercept)\n",
    "    print(\"slope:\", slope)\n",
    "    print(\"coefficient of determination:\", r_sq)\n",
    "\n",
    "    yhat = model.predict(x)\n",
    "    yhat[yhat < 0] = 0\n",
    "\n",
    "    x1 = np.linspace(2015, 2022.5, num=len(yhat))\n",
    "\n",
    "    plt.plot(x1, yhat)\n",
    "    plt.xlabel(\"Time\")\n",
    "    plt.ylabel(\"Views\")\n",
    "    plt.title(article + \" Lineare Regression\")\n",
    "    plt.show()\n",
    "\n",
    "    # relativer fehler\n",
    "    differenceViews = smape(mainviews, yhat)\n",
    "    plt.plot(x1, differenceViews)\n",
    "    plt.xlabel(\"Difference \" + article + \" to all Backlinks\")\n",
    "    plt.ylabel(\"Average Error\")\n",
    "    plt.show()\n",
    "\n",
    "\n",
    "    plt.boxplot(differenceViews)\n",
    "    plt.title(\"Lin Regression\")\n",
    "    plt.ylabel(\"Average Error\")\n",
    "    plt.xlabel(article)\n",
    "    plt.show()\n",
    "\n",
    "    print(\"SMAPE Lin Regression: \", differenceViews.mean())\n",
    "\n",
    "    return intercept, slope, r_sq"
   ],
   "metadata": {
    "collapsed": false,
    "pycharm": {
     "is_executing": true
    }
   }
  },
  {
   "cell_type": "code",
   "execution_count": null,
   "outputs": [],
   "source": [
    "def logisticRegression(article):\n",
    "    mainviews = get_views(article)\n",
    "    backlinksMainview = get_links(article, \"linkshere\")\n",
    "    df = pd.DataFrame()\n",
    "    len1 = len(mainviews)\n",
    "\n",
    "    for entry in backlinksMainview:\n",
    "        views = get_views(entry)\n",
    "        len2 = len(views)\n",
    "        if len2 < len1:\n",
    "            diff = len1 - len2\n",
    "            for i in range(0, diff):\n",
    "                views.append(0)\n",
    "\n",
    "        df.insert(loc=0, column=entry, value=views)\n",
    "\n",
    "    x = df\n",
    "    y = mainviews\n",
    "\n",
    "    model = LogisticRegression()\n",
    "    model.fit(x, y)\n",
    "\n",
    "    intercept = model.intercept_\n",
    "    slope = model.coef_\n",
    "    r_sq = model.score(x, y)\n",
    "\n",
    "    print(\"intercept:\", intercept)\n",
    "    print(\"slope:\", slope)\n",
    "    print(\"coefficient of determination:\", r_sq)\n",
    "\n",
    "    yhat = model.predict(x)\n",
    "    yhat[yhat < 0] = 0\n",
    "\n",
    "    x1 = np.linspace(2015, 2022.5, num=len(yhat))\n",
    "\n",
    "    plt.plot(x1, yhat)\n",
    "    plt.xlabel(\"Time\")\n",
    "    plt.ylabel(\"Views\")\n",
    "    plt.title(article + \" Logarithmisch Lineare Regression\")\n",
    "    plt.show()\n",
    "\n",
    "    # relativer fehler\n",
    "    differenceViews = smape(mainviews, yhat)\n",
    "    plt.plot(x1, differenceViews)\n",
    "    plt.xlabel(\"Difference \" + article + \" to all Backlinks\")\n",
    "    plt.ylabel(\"Average Error\")\n",
    "    plt.show()\n",
    "\n",
    "    plt.boxplot(smape(mainviews, yhat))\n",
    "    plt.title(\"Log Regression\")\n",
    "    plt.title(\"Log Regression\")\n",
    "    plt.ylabel(\"Average Error\")\n",
    "    plt.xlabel(article)\n",
    "    plt.show()\n",
    "\n",
    "    print(\"SMAPE Log-Lin Regression: \", differenceViews.mean())"
   ],
   "metadata": {
    "collapsed": false,
    "pycharm": {
     "is_executing": true
    }
   }
  },
  {
   "cell_type": "code",
   "execution_count": null,
   "outputs": [],
   "source": [
    "article = \"Schmetterlinge\"\n",
    "lineareRegression(article)\n",
    "logisticRegression(article)"
   ],
   "metadata": {
    "collapsed": false,
    "pycharm": {
     "is_executing": true
    }
   }
  }
 ],
 "metadata": {
  "kernelspec": {
   "display_name": "Python 3",
   "language": "python",
   "name": "python3"
  },
  "language_info": {
   "codemirror_mode": {
    "name": "ipython",
    "version": 2
   },
   "file_extension": ".py",
   "mimetype": "text/x-python",
   "name": "python",
   "nbconvert_exporter": "python",
   "pygments_lexer": "ipython2",
   "version": "2.7.6"
  }
 },
 "nbformat": 4,
 "nbformat_minor": 0
}
