{
 "cells": [
  {
   "cell_type": "code",
   "execution_count": 1,
   "metadata": {
    "collapsed": true
   },
   "outputs": [],
   "source": [
    "import networkx as nx\n",
    "import os\n",
    "import glob\n",
    "import matplotlib.pyplot as plt\n",
    "import pandas as pd\n",
    "import pathlib as Path\n",
    "from linkmethods import filterlinks, get_links, get_views"
   ]
  },
  {
   "cell_type": "code",
   "execution_count": 2,
   "outputs": [],
   "source": [
    "article = 'Meisen'"
   ],
   "metadata": {
    "collapsed": false
   }
  },
  {
   "cell_type": "code",
   "execution_count": 3,
   "outputs": [
    {
     "name": "stdout",
     "output_type": "stream",
     "text": [
      "['Aegithalos', 'Alter Friedhof (Gießen)', 'Amsel', 'Apodaca Provincial Park', 'Appetenzverhalten', 'Arten des Anhangs I der Vogelschutzrichtlinie der EU', 'Bartkauz', 'Bartmeise', 'Baumhopfe', 'Bergkohlmeise', 'Beth Slikas', 'Beutelmeisen', 'Blaumeise', 'Blochinger Sandwinkel', 'Borodino-Buntmeise', 'Braunbürzelspecht', 'Brauner Bär (Schmetterling)', 'Buchsbaumzünsler', 'Buntmeise', 'Buntspecht', 'Burckhardtshöhe', 'Bylerward', 'Chibinen', 'Christopher M. Perrins', 'Cyanistes', 'Deutschland', 'Dommelspecht', 'Dunenspecht', 'Es rappelt im Karton', 'Europa- und Naturschutzgebiet Gerzkopf', 'Federsee', 'Fichtenmeise', 'Geographie der Vereinigten Staaten', 'Geographie Deutschlands', 'Gleispark Frintrop', 'Goldhähnchen-Laubsänger', 'Gordon Bay Provincial Park', 'Groß Zicker', 'Grüner Tropfenastrild', 'Gutshaus Friedenfelde', 'Handbook of the Birds of the World', 'Handschwinge', 'Hanko-Halbinsel', 'Hans Löhrl', 'Hartenstein (Mittelfranken)', 'Haubenmeise', 'Haussperling', 'Hellwinkel', 'Henry Whitely', 'Hudsonmeise', 'Höhlenbrüter', 'Hüttensänger', 'Hüttertal', 'Ibiza', 'Isergebirge', 'Josef Prokop Pražák', 'Kanarenmeise', 'Katavi-Nationalpark', 'Katy Trail State Park', 'Kleiber (Art)', 'Kleiner Schillerfalter', 'Kohldistel', 'Kohlmeise', 'Kokardenspecht', 'Kurzschwanzspecht', 'Königsmeise', 'Laasn', 'Lapplandmeise', 'Lasurmeise', 'Len Howard', 'Liebesinsel (Spree)', 'Lilla Lövö', 'Liste der Hemeraner Straßennamen', 'Liste der Strassennamen von Basel', 'Liste der Straßen in Aachen-Mitte', 'Liste der Straßen in Bergkamen', 'Liste der Straßen in Essen-Burgaltendorf', 'Liste der Straßen in Freising', 'Liste der Straßen in Olpe', 'Liste der Straßen in Selm', 'Liste der Straßen und Plätze in Berlin-Dahlem', 'Liste der Straßen und Plätze in Prohlis', 'Liste der Straßen und Plätze in Trier', 'Liste der Straßen, Plätze und Brücken in Hamburg-Barmbek-Nord', 'Liste der Straßen, Plätze und Brücken in Hamburg-Poppenbüttel', 'Liste der Straßennamen in Ravensburg', 'Liste der Straßennamen in Solingen (A–H)', 'Liste der Straßennamen in Solingen (R–Z)', 'Liste der Straßennamen von Burgdorf (Region Hannover)', 'Liste der Straßennamen von Hof', 'Liste der Straßennamen von Igersheim', 'Liste der Straßennamen von Schwarzenbach an der Saale', 'Liste der Wirbeltierarten des Kruger-Nationalparks', 'Liste Ingolstädter Straßennamen', 'Liste Planegger Straßennamen', 'Made', 'Maisach (Amper)', 'Meise (Begriffsklärung)', 'Meise', 'Meisen (Begriffsklärung)', 'Meisenknödel', 'Meißen (Begriffsklärung)', 'Meißwinkel (Kürten)', 'Mesenholl', 'Montgrí-Massiv', 'Nahrungskette', 'Naturschutzgebiet Jellen', 'Neumarkt (Südtirol)', 'Neusser Stadtwald', 'Notchview', 'Paridae', 'Parus', 'Pechpfuhl (Ludwigsfelde)', 'Philogène Auguste Galilée Wytsman', 'Pinien-Prozessionsspinner', 'Prestvannet', 'Raet-Nationalpark', 'Rago-Nationalpark', 'Rotbrustmeise', 'Rudolf Berndt (Ornithologe)', 'Sambesi-Rußmeise', 'Schlehdorn', 'Schloss Clerf', 'Schloss Hagenburg', 'Schmetterlinge', 'Schnurrvögel', 'Schwanzmeise', 'Schwanzmeisen', 'Schwarzhäubchenmeise', 'Schwarzkopfmeise', 'Schwattet Gatt', 'Schönberg (Ebringen)', 'Schöndorf (an der Ruwer)', 'Sikora', 'Singvögel', 'Sondernaturschutzgebiet des Parks Burcina', 'Spechtschaden', 'Sperber (Art)', 'Stadtwald (Bad Salzuflen)', 'Stillleben mit Obstschale, Vögeln und Fensterausblick', 'Straßenverkehrslärm', 'Sultansmeise', 'Sumpfmeise', 'Suttonella ornithocola', 'Systematik der Vögel', 'Sýkořice', 'Taiwanmeise', 'Tannenmeise', 'Taubergießen', 'Tibetmeise', 'Trauerschnäpper', 'Uebachtal', 'Unglückshäher (Gattung)', 'Usutu-Virus', 'Vogelnest', 'Vogelschutzgehölz Hausener Auwald', 'Vögel', 'Weichfresser', 'Weidenmeise', 'Wendehals (Vogel)', 'Wintergoldhähnchen', 'Zweitbrut']\n"
     ]
    }
   ],
   "source": [
    "path = fr'datafiles/{article}/backlinksdata'\n",
    "cropped_result = [r[:-4] for r in os.listdir(path)]\n",
    "print(cropped_result)"
   ],
   "metadata": {
    "collapsed": false
   }
  },
  {
   "cell_type": "code",
   "execution_count": 4,
   "outputs": [],
   "source": [
    "flinks = []\n",
    "for entry in cropped_result:\n",
    "    try:\n",
    "        flinks.append(filterlinks(get_links(entry,\"links\")))\n",
    "    except:\n",
    "        print(\"Failed to pull data from:\",entry)\n",
    "        cropped_result.remove(entry)\n",
    "        pass"
   ],
   "metadata": {
    "collapsed": false
   }
  },
  {
   "cell_type": "code",
   "execution_count": 5,
   "outputs": [
    {
     "data": {
      "text/plain": "              Aegithalos            Alter Friedhof (Gießen)  \\\n0            Afghanistan                    14. Jahrhundert   \n1           Beutelmeisen                    19. Jahrhundert   \n2     Brauenschwanzmeise       Alfred Bock (Schriftsteller)   \n3      Burmaschwanzmeise                              Altar   \n4                  China  Alter jüdischer Friedhof (Gießen)   \n...                  ...                                ...   \n2216               Empty                              Empty   \n2217               Empty                              Empty   \n2218               Empty                              Empty   \n2219               Empty                              Empty   \n2220               Empty                              Empty   \n\n                   Amsel          Apodaca Provincial Park   Appetenzverhalten  \\\n0               Aaskrähe       Amerikanischer Erdbeerbaum            Aversion   \n1                 Ablaut            BC Geographical Names            Begierde   \n2     Adaptive Radiation               Biosphärenreservat         Endhandlung   \n3                  Adult                     Bowen Island           Ethologie   \n4            Afghanistan  Bowen Island Ecological Reserve  Grzimeks Tierleben   \n...                  ...                              ...                 ...   \n2216               Empty                            Empty               Empty   \n2217               Empty                            Empty               Empty   \n2218               Empty                            Empty               Empty   \n2219               Empty                            Empty               Empty   \n2220               Empty                            Empty               Empty   \n\n     Arten des Anhangs I der Vogelschutzrichtlinie der EU        Bartkauz  \\\n0                                          Adlerbussard             Adult   \n1                                            Alkenvögel            Alaska   \n2                                            Alpenkrähe      Allopatrisch   \n3                                       Alpenschneehuhn         Amphibien   \n4                                     Alpenstrandläufer    Anadyr (Fluss)   \n...                                                 ...               ...   \n2216                                              Empty             Empty   \n2217                                              Empty             Empty   \n2218                                              Empty             Empty   \n2219                                              Empty             Empty   \n2220                                              Empty             Empty   \n\n             Bartmeise            Baumhopfe       Bergkohlmeise  ...  \\\n0     (8771) Biarmicus               Afrika      Art (Biologie)  ...   \n1                Adult             Baumhopf              Bhutan  ...   \n2       Art (Biologie)  Baumhopfe (Gattung)  Familie (Biologie)  ...   \n3             Asteroid           Baumläufer  Gattung (Biologie)  ...   \n4           Bartstreif       Bucerotiformes            Himalaya  ...   \n...                ...                  ...                 ...  ...   \n2216             Empty                Empty               Empty  ...   \n2217             Empty                Empty               Empty  ...   \n2218             Empty                Empty               Empty  ...   \n2219             Empty                Empty               Empty  ...   \n2220             Empty                Empty               Empty  ...   \n\n     Unglückshäher (Gattung)      Usutu-Virus                   Vogelnest  \\\n0         Adaptive Radiation          3'-Ende                    Aaskrähe   \n1     Altgriechische Sprache          5'-Ende                      Ammern   \n2                 Bergkrähen  5′-Cap-Struktur  Antimikrobielle Substanzen   \n3               Beringstraße           Aachen                Arides Klima   \n4                 Blauelster          Akronym                 Beutelmeise   \n...                      ...              ...                         ...   \n2216                   Empty            Empty                       Empty   \n2217                   Empty            Empty                       Empty   \n2218                   Empty            Empty                       Empty   \n2219                   Empty            Empty                       Empty   \n2220                   Empty            Empty                       Empty   \n\n     Vogelschutzgehölz Hausener Auwald                 Vögel  \\\n0                                Ahorn      Adler (Biologie)   \n1                    Altwasser (Fluss)           Aerodynamik   \n2                               Asseln  Afrikanischer Strauß   \n3                           Baumläufer  Akkommodation (Auge)   \n4                           Brombeeren        Althochdeutsch   \n...                                ...                   ...   \n2216                             Empty                 Empty   \n2217                             Empty                 Empty   \n2218                             Empty                 Empty   \n2219                             Empty                 Empty   \n2220                             Empty                 Empty   \n\n              Weichfresser     Weidenmeise  Wendehals (Vogel)  \\\n0             Allesfresser          Ahorne   (8773) Torquilla   \n1                    Amsel  Art (Biologie)  Adriatisches Meer   \n2               Baumläufer            Baum            Akazien   \n3     Bayerischer Rundfunk          Birken             Alaska   \n4                      Beo     Bruchwälder            Ameisen   \n...                    ...             ...                ...   \n2216                 Empty           Empty              Empty   \n2217                 Empty           Empty              Empty   \n2218                 Empty           Empty              Empty   \n2219                 Empty           Empty              Empty   \n2220                 Empty           Empty              Empty   \n\n          Wintergoldhähnchen        Zweitbrut  \n0                   Algerien             Brut  \n1             Art (Biologie)         Drosseln  \n2          Arven-Lärchenwald       Entenvögel  \n3                Aufplustern       Greifvogel  \n4     Avifauna Mitteleuropas  Konkurrenzdruck  \n...                      ...              ...  \n2216                   Empty            Empty  \n2217                   Empty            Empty  \n2218                   Empty            Empty  \n2219                   Empty            Empty  \n2220                   Empty            Empty  \n\n[2221 rows x 162 columns]",
      "text/html": "<div>\n<style scoped>\n    .dataframe tbody tr th:only-of-type {\n        vertical-align: middle;\n    }\n\n    .dataframe tbody tr th {\n        vertical-align: top;\n    }\n\n    .dataframe thead th {\n        text-align: right;\n    }\n</style>\n<table border=\"1\" class=\"dataframe\">\n  <thead>\n    <tr style=\"text-align: right;\">\n      <th></th>\n      <th>Aegithalos</th>\n      <th>Alter Friedhof (Gießen)</th>\n      <th>Amsel</th>\n      <th>Apodaca Provincial Park</th>\n      <th>Appetenzverhalten</th>\n      <th>Arten des Anhangs I der Vogelschutzrichtlinie der EU</th>\n      <th>Bartkauz</th>\n      <th>Bartmeise</th>\n      <th>Baumhopfe</th>\n      <th>Bergkohlmeise</th>\n      <th>...</th>\n      <th>Unglückshäher (Gattung)</th>\n      <th>Usutu-Virus</th>\n      <th>Vogelnest</th>\n      <th>Vogelschutzgehölz Hausener Auwald</th>\n      <th>Vögel</th>\n      <th>Weichfresser</th>\n      <th>Weidenmeise</th>\n      <th>Wendehals (Vogel)</th>\n      <th>Wintergoldhähnchen</th>\n      <th>Zweitbrut</th>\n    </tr>\n  </thead>\n  <tbody>\n    <tr>\n      <th>0</th>\n      <td>Afghanistan</td>\n      <td>14. Jahrhundert</td>\n      <td>Aaskrähe</td>\n      <td>Amerikanischer Erdbeerbaum</td>\n      <td>Aversion</td>\n      <td>Adlerbussard</td>\n      <td>Adult</td>\n      <td>(8771) Biarmicus</td>\n      <td>Afrika</td>\n      <td>Art (Biologie)</td>\n      <td>...</td>\n      <td>Adaptive Radiation</td>\n      <td>3'-Ende</td>\n      <td>Aaskrähe</td>\n      <td>Ahorn</td>\n      <td>Adler (Biologie)</td>\n      <td>Allesfresser</td>\n      <td>Ahorne</td>\n      <td>(8773) Torquilla</td>\n      <td>Algerien</td>\n      <td>Brut</td>\n    </tr>\n    <tr>\n      <th>1</th>\n      <td>Beutelmeisen</td>\n      <td>19. Jahrhundert</td>\n      <td>Ablaut</td>\n      <td>BC Geographical Names</td>\n      <td>Begierde</td>\n      <td>Alkenvögel</td>\n      <td>Alaska</td>\n      <td>Adult</td>\n      <td>Baumhopf</td>\n      <td>Bhutan</td>\n      <td>...</td>\n      <td>Altgriechische Sprache</td>\n      <td>5'-Ende</td>\n      <td>Ammern</td>\n      <td>Altwasser (Fluss)</td>\n      <td>Aerodynamik</td>\n      <td>Amsel</td>\n      <td>Art (Biologie)</td>\n      <td>Adriatisches Meer</td>\n      <td>Art (Biologie)</td>\n      <td>Drosseln</td>\n    </tr>\n    <tr>\n      <th>2</th>\n      <td>Brauenschwanzmeise</td>\n      <td>Alfred Bock (Schriftsteller)</td>\n      <td>Adaptive Radiation</td>\n      <td>Biosphärenreservat</td>\n      <td>Endhandlung</td>\n      <td>Alpenkrähe</td>\n      <td>Allopatrisch</td>\n      <td>Art (Biologie)</td>\n      <td>Baumhopfe (Gattung)</td>\n      <td>Familie (Biologie)</td>\n      <td>...</td>\n      <td>Bergkrähen</td>\n      <td>5′-Cap-Struktur</td>\n      <td>Antimikrobielle Substanzen</td>\n      <td>Asseln</td>\n      <td>Afrikanischer Strauß</td>\n      <td>Baumläufer</td>\n      <td>Baum</td>\n      <td>Akazien</td>\n      <td>Arven-Lärchenwald</td>\n      <td>Entenvögel</td>\n    </tr>\n    <tr>\n      <th>3</th>\n      <td>Burmaschwanzmeise</td>\n      <td>Altar</td>\n      <td>Adult</td>\n      <td>Bowen Island</td>\n      <td>Ethologie</td>\n      <td>Alpenschneehuhn</td>\n      <td>Amphibien</td>\n      <td>Asteroid</td>\n      <td>Baumläufer</td>\n      <td>Gattung (Biologie)</td>\n      <td>...</td>\n      <td>Beringstraße</td>\n      <td>Aachen</td>\n      <td>Arides Klima</td>\n      <td>Baumläufer</td>\n      <td>Akkommodation (Auge)</td>\n      <td>Bayerischer Rundfunk</td>\n      <td>Birken</td>\n      <td>Alaska</td>\n      <td>Aufplustern</td>\n      <td>Greifvogel</td>\n    </tr>\n    <tr>\n      <th>4</th>\n      <td>China</td>\n      <td>Alter jüdischer Friedhof (Gießen)</td>\n      <td>Afghanistan</td>\n      <td>Bowen Island Ecological Reserve</td>\n      <td>Grzimeks Tierleben</td>\n      <td>Alpenstrandläufer</td>\n      <td>Anadyr (Fluss)</td>\n      <td>Bartstreif</td>\n      <td>Bucerotiformes</td>\n      <td>Himalaya</td>\n      <td>...</td>\n      <td>Blauelster</td>\n      <td>Akronym</td>\n      <td>Beutelmeise</td>\n      <td>Brombeeren</td>\n      <td>Althochdeutsch</td>\n      <td>Beo</td>\n      <td>Bruchwälder</td>\n      <td>Ameisen</td>\n      <td>Avifauna Mitteleuropas</td>\n      <td>Konkurrenzdruck</td>\n    </tr>\n    <tr>\n      <th>...</th>\n      <td>...</td>\n      <td>...</td>\n      <td>...</td>\n      <td>...</td>\n      <td>...</td>\n      <td>...</td>\n      <td>...</td>\n      <td>...</td>\n      <td>...</td>\n      <td>...</td>\n      <td>...</td>\n      <td>...</td>\n      <td>...</td>\n      <td>...</td>\n      <td>...</td>\n      <td>...</td>\n      <td>...</td>\n      <td>...</td>\n      <td>...</td>\n      <td>...</td>\n      <td>...</td>\n    </tr>\n    <tr>\n      <th>2216</th>\n      <td>Empty</td>\n      <td>Empty</td>\n      <td>Empty</td>\n      <td>Empty</td>\n      <td>Empty</td>\n      <td>Empty</td>\n      <td>Empty</td>\n      <td>Empty</td>\n      <td>Empty</td>\n      <td>Empty</td>\n      <td>...</td>\n      <td>Empty</td>\n      <td>Empty</td>\n      <td>Empty</td>\n      <td>Empty</td>\n      <td>Empty</td>\n      <td>Empty</td>\n      <td>Empty</td>\n      <td>Empty</td>\n      <td>Empty</td>\n      <td>Empty</td>\n    </tr>\n    <tr>\n      <th>2217</th>\n      <td>Empty</td>\n      <td>Empty</td>\n      <td>Empty</td>\n      <td>Empty</td>\n      <td>Empty</td>\n      <td>Empty</td>\n      <td>Empty</td>\n      <td>Empty</td>\n      <td>Empty</td>\n      <td>Empty</td>\n      <td>...</td>\n      <td>Empty</td>\n      <td>Empty</td>\n      <td>Empty</td>\n      <td>Empty</td>\n      <td>Empty</td>\n      <td>Empty</td>\n      <td>Empty</td>\n      <td>Empty</td>\n      <td>Empty</td>\n      <td>Empty</td>\n    </tr>\n    <tr>\n      <th>2218</th>\n      <td>Empty</td>\n      <td>Empty</td>\n      <td>Empty</td>\n      <td>Empty</td>\n      <td>Empty</td>\n      <td>Empty</td>\n      <td>Empty</td>\n      <td>Empty</td>\n      <td>Empty</td>\n      <td>Empty</td>\n      <td>...</td>\n      <td>Empty</td>\n      <td>Empty</td>\n      <td>Empty</td>\n      <td>Empty</td>\n      <td>Empty</td>\n      <td>Empty</td>\n      <td>Empty</td>\n      <td>Empty</td>\n      <td>Empty</td>\n      <td>Empty</td>\n    </tr>\n    <tr>\n      <th>2219</th>\n      <td>Empty</td>\n      <td>Empty</td>\n      <td>Empty</td>\n      <td>Empty</td>\n      <td>Empty</td>\n      <td>Empty</td>\n      <td>Empty</td>\n      <td>Empty</td>\n      <td>Empty</td>\n      <td>Empty</td>\n      <td>...</td>\n      <td>Empty</td>\n      <td>Empty</td>\n      <td>Empty</td>\n      <td>Empty</td>\n      <td>Empty</td>\n      <td>Empty</td>\n      <td>Empty</td>\n      <td>Empty</td>\n      <td>Empty</td>\n      <td>Empty</td>\n    </tr>\n    <tr>\n      <th>2220</th>\n      <td>Empty</td>\n      <td>Empty</td>\n      <td>Empty</td>\n      <td>Empty</td>\n      <td>Empty</td>\n      <td>Empty</td>\n      <td>Empty</td>\n      <td>Empty</td>\n      <td>Empty</td>\n      <td>Empty</td>\n      <td>...</td>\n      <td>Empty</td>\n      <td>Empty</td>\n      <td>Empty</td>\n      <td>Empty</td>\n      <td>Empty</td>\n      <td>Empty</td>\n      <td>Empty</td>\n      <td>Empty</td>\n      <td>Empty</td>\n      <td>Empty</td>\n    </tr>\n  </tbody>\n</table>\n<p>2221 rows × 162 columns</p>\n</div>"
     },
     "execution_count": 5,
     "metadata": {},
     "output_type": "execute_result"
    }
   ],
   "source": [
    "df = pd.DataFrame(flinks,index=cropped_result).transpose()\n",
    "df = df.fillna('Empty')\n",
    "df"
   ],
   "metadata": {
    "collapsed": false
   }
  },
  {
   "cell_type": "code",
   "execution_count": 6,
   "outputs": [
    {
     "name": "stdout",
     "output_type": "stream",
     "text": [
      "Working on... Aegithalos\n",
      "No Data Availible for: Brauenschwanzmeise\n",
      "No Data Availible for: Burmaschwanzmeise\n",
      "Working on... Alter Friedhof (Gießen)\n",
      "Working on... Amsel\n",
      "Working on... Apodaca Provincial Park\n",
      "No Data Availible for: Bowen Island Ecological Reserve\n",
      "Working on... Appetenzverhalten\n",
      "Working on... Arten des Anhangs I der Vogelschutzrichtlinie der EU\n",
      "Working on... Bartkauz\n",
      "Working on... Bartmeise\n",
      "Working on... Baumhopfe\n",
      "No Data Availible for: Baumhopfe (Gattung)\n",
      "Working on... Bergkohlmeise\n",
      "Working on... Beth Slikas\n",
      "Working on... Beutelmeisen\n",
      "No Data Availible for: Anthoscopus\n",
      "Working on... Blaumeise\n",
      "Working on... Blochinger Sandwinkel\n",
      "Working on... Borodino-Buntmeise\n",
      "Working on... Braunbürzelspecht\n",
      "Working on... Brauner Bär (Schmetterling)\n",
      "No Data Availible for: Arctia\n",
      "Working on... Buchsbaumzünsler\n",
      "Working on... Buntmeise\n",
      "No Data Availible for: Castanopsis cuspidata\n",
      "Working on... Buntspecht\n",
      "Working on... Burckhardtshöhe\n",
      "Working on... Bylerward\n",
      "Working on... Chibinen\n",
      "No Data Availible for: Aikuaiwentschorr\n",
      "Working on... Christopher M. Perrins\n",
      "Working on... Cyanistes\n",
      "Working on... Deutschland\n",
      "Working on... Dommelspecht\n",
      "Working on... Dunenspecht\n",
      "Working on... Es rappelt im Karton\n",
      "Working on... Europa- und Naturschutzgebiet Gerzkopf\n",
      "No Data Availible for: Ahornallee in Eben\n",
      "Working on... Federsee\n",
      "Working on... Fichtenmeise\n",
      "Working on... Geographie der Vereinigten Staaten\n",
      "Working on... Geographie Deutschlands\n",
      "Working on... Gleispark Frintrop\n",
      "Working on... Goldhähnchen-Laubsänger\n",
      "Working on... Gordon Bay Provincial Park\n",
      "Working on... Groß Zicker\n",
      "Working on... Grüner Tropfenastrild\n",
      "Working on... Gutshaus Friedenfelde\n",
      "No Data Availible for: Annois von Arnim-Burow\n",
      "Working on... Handbook of the Birds of the World\n",
      "Working on... Handschwinge\n",
      "Working on... Hanko-Halbinsel\n",
      "Working on... Hans Löhrl\n",
      "Working on... Hartenstein (Mittelfranken)\n",
      "No Data Availible for: Ankatal\n",
      "Working on... Haubenmeise\n",
      "Working on... Haussperling\n",
      "Working on... Hellwinkel\n",
      "Working on... Henry Whitely\n",
      "Working on... Hudsonmeise\n",
      "Working on... Höhlenbrüter\n",
      "Working on... Hüttensänger\n",
      "Working on... Hüttertal\n",
      "Working on... Ibiza\n",
      "Working on... Isergebirge\n",
      "Working on... Josef Prokop Pražák\n",
      "Working on... Kanarenmeise\n",
      "No Data Availible for: Christian Dietzen\n",
      "Working on... Katavi-Nationalpark\n",
      "Working on... Katy Trail State Park\n",
      "No Data Availible for: Boonville (Missouri)\n",
      "Working on... Kleiber (Art)\n",
      "Working on... Kleiner Schillerfalter\n",
      "No Data Availible for: Apatura\n",
      "Working on... Kohldistel\n",
      "Working on... Kohlmeise\n",
      "Working on... Kokardenspecht\n",
      "Working on... Kurzschwanzspecht\n",
      "Working on... Königsmeise\n",
      "Working on... Laasn\n",
      "Working on... Lapplandmeise\n",
      "Working on... Lasurmeise\n",
      "Working on... Len Howard\n",
      "Working on... Liebesinsel (Spree)\n",
      "Working on... Lilla Lövö\n",
      "Working on... Liste der Hemeraner Straßennamen\n",
      "Working on... Liste der Strassennamen von Basel\n",
      "No Data Availible for: Adlerberg (Jura)\n",
      "Working on... Liste der Straßen in Aachen-Mitte\n",
      "Working on... Liste der Straßen in Bergkamen\n",
      "Working on... Liste der Straßen in Essen-Burgaltendorf\n",
      "Working on... Liste der Straßen in Freising\n",
      "Working on... Liste der Straßen in Olpe\n",
      "Working on... Liste der Straßen in Selm\n",
      "Working on... Liste der Straßen und Plätze in Berlin-Dahlem\n",
      "Working on... Liste der Straßen und Plätze in Prohlis\n",
      "No Data Availible for: Altprohlis\n",
      "Working on... Liste der Straßen und Plätze in Trier\n",
      "Working on... Liste der Straßen, Plätze und Brücken in Hamburg-Barmbek-Nord\n",
      "Working on... Liste der Straßen, Plätze und Brücken in Hamburg-Poppenbüttel\n",
      "Working on... Liste der Straßennamen in Ravensburg\n",
      "Working on... Liste der Straßennamen in Solingen (A–H)\n",
      "Working on... Liste der Straßennamen in Solingen (R–Z)\n",
      "Working on... Liste der Straßennamen von Burgdorf (Region Hannover)\n",
      "Working on... Liste der Straßennamen von Hof\n",
      "Working on... Liste der Straßennamen von Igersheim\n",
      "Working on... Liste der Straßennamen von Schwarzenbach an der Saale\n",
      "Working on... Liste der Wirbeltierarten des Kruger-Nationalparks\n",
      "Working on... Liste Ingolstädter Straßennamen\n",
      "Working on... Liste Planegger Straßennamen\n",
      "Working on... Made\n",
      "Working on... Maisach (Amper)\n",
      "Working on... Meise (Begriffsklärung)\n",
      "Working on... Meise\n",
      "All backlins of Meise checked\n",
      "Working on... Meisen (Begriffsklärung)\n",
      "No Data Availible for: Karl Meisen\n",
      "Working on... Meisenknödel\n",
      "Working on... Meißen (Begriffsklärung)\n",
      "Working on... Meißwinkel (Kürten)\n",
      "Working on... Mesenholl\n",
      "Working on... Montgrí-Massiv\n",
      "Working on... Nahrungskette\n",
      "Working on... Naturschutzgebiet Jellen\n",
      "Working on... Neumarkt (Südtirol)\n",
      "Working on... Neusser Stadtwald\n",
      "Working on... Notchview\n",
      "Working on... Paridae\n",
      "All backlins of Paridae checked\n",
      "Working on... Parus\n",
      "No Data Availible for: Parus (Gattung)\n",
      "All backlins of Parus checked\n",
      "Working on... Pechpfuhl (Ludwigsfelde)\n",
      "Working on... Philogène Auguste Galilée Wytsman\n",
      "Working on... Pinien-Prozessionsspinner\n",
      "Working on... Prestvannet\n",
      "Working on... Raet-Nationalpark\n",
      "Working on... Rago-Nationalpark\n",
      "Working on... Rotbrustmeise\n",
      "Working on... Rudolf Berndt (Ornithologe)\n",
      "Working on... Sambesi-Rußmeise\n",
      "Working on... Schlehdorn\n",
      "Working on... Schloss Clerf\n",
      "Working on... Schloss Hagenburg\n",
      "Working on... Schmetterlinge\n",
      "No Data Availible for: Aberration (Biologie)\n",
      "Working on... Schnurrvögel\n",
      "No Data Availible for: Antilophia\n",
      "No Data Availible for: Atlaspipra\n",
      "No Data Availible for: Blaubürzelpipra\n",
      "Working on... Schwanzmeise\n",
      "Working on... Schwanzmeisen\n",
      "No Data Availible for: Brauenschwanzmeise\n",
      "No Data Availible for: Burmaschwanzmeise\n",
      "Working on... Schwarzhäubchenmeise\n",
      "Working on... Schwarzkopfmeise\n",
      "Working on... Schwattet Gatt\n",
      "Working on... Schönberg (Ebringen)\n",
      "Working on... Schöndorf (an der Ruwer)\n",
      "Working on... Sikora\n",
      "No Data Availible for: Adam Sikora (Dichter)\n",
      "Working on... Singvögel\n",
      "Working on... Sondernaturschutzgebiet des Parks Burcina\n",
      "Working on... Spechtschaden\n",
      "Working on... Sperber (Art)\n",
      "Working on... Stadtwald (Bad Salzuflen)\n",
      "Working on... Stillleben mit Obstschale, Vögeln und Fensterausblick\n",
      "No Data Availible for: Felix Scheffler (Kunsthistoriker)\n",
      "Working on... Straßenverkehrslärm\n",
      "Working on... Sultansmeise\n",
      "Working on... Sumpfmeise\n",
      "Working on... Suttonella ornithocola\n",
      "Working on... Systematik der Vögel\n",
      "Working on... Sýkořice\n",
      "Working on... Taiwanmeise\n",
      "Working on... Tannenmeise\n",
      "Working on... Taubergießen\n",
      "No Data Availible for: Altwasser Goldscheuer\n",
      "Working on... Tibetmeise\n",
      "Working on... Trauerschnäpper\n",
      "Working on... Uebachtal\n",
      "No Data Availible for: Am Kerstall\n",
      "Working on... Unglückshäher (Gattung)\n",
      "Working on... Usutu-Virus\n",
      "Working on... Vogelnest\n",
      "Working on... Vogelschutzgehölz Hausener Auwald\n",
      "Working on... Vögel\n",
      "Working on... Weichfresser\n",
      "Working on... Weidenmeise\n",
      "Working on... Wendehals (Vogel)\n",
      "Working on... Wintergoldhähnchen\n",
      "Working on... Zweitbrut\n"
     ]
    }
   ],
   "source": [
    "rank = []\n",
    "for e in cropped_result:\n",
    "    print(\"Working on...\",e)\n",
    "    for index,row in df[0:5].iterrows():\n",
    "        if(row[e] == \"Empty\"):\n",
    "            print(\"All backlins of\",e,\"checked\")\n",
    "            break\n",
    "        else:\n",
    "            #print(\"Getting data\", index, \"/\", len(df.columns) - (df[e].value_counts('Empty')))\n",
    "            rank.append([e,sum(get_views(f\"{row[e]}\"))]) #The Datafrane has much entrys with \"None\" thus im stopping the loop as the number of Backlinks from page runs out"
   ],
   "metadata": {
    "collapsed": false
   }
  },
  {
   "cell_type": "code",
   "execution_count": 18,
   "outputs": [
    {
     "ename": "KeyError",
     "evalue": "['Aegithalos', 'Alter Friedhof (Gießen)', 'Amsel', 'Apodaca Provincial Park', 'Appetenzverhalten', 'Arten des Anhangs I der Vogelschutzrichtlinie der EU', 'Bartkauz', 'Bartmeise', 'Baumhopfe', 'Bergkohlmeise', 'Beth Slikas', 'Beutelmeisen', 'Blaumeise', 'Blochinger Sandwinkel', 'Borodino-Buntmeise', 'Braunbürzelspecht', 'Brauner Bär (Schmetterling)', 'Buchsbaumzünsler', 'Buntmeise', 'Buntspecht', 'Burckhardtshöhe', 'Bylerward', 'Chibinen', 'Christopher M. Perrins', 'Cyanistes', 'Deutschland', 'Dommelspecht', 'Dunenspecht', 'Es rappelt im Karton', 'Europa- und Naturschutzgebiet Gerzkopf', 'Federsee', 'Fichtenmeise', 'Geographie der Vereinigten Staaten', 'Geographie Deutschlands', 'Gleispark Frintrop', 'Goldhähnchen-Laubsänger', 'Gordon Bay Provincial Park', 'Groß Zicker', 'Grüner Tropfenastrild', 'Gutshaus Friedenfelde', 'Handbook of the Birds of the World', 'Handschwinge', 'Hanko-Halbinsel', 'Hans Löhrl', 'Hartenstein (Mittelfranken)', 'Haubenmeise', 'Haussperling', 'Hellwinkel', 'Henry Whitely', 'Hudsonmeise', 'Höhlenbrüter', 'Hüttensänger', 'Hüttertal', 'Ibiza', 'Isergebirge', 'Josef Prokop Pražák', 'Kanarenmeise', 'Katavi-Nationalpark', 'Katy Trail State Park', 'Kleiber (Art)', 'Kleiner Schillerfalter', 'Kohldistel', 'Kohlmeise', 'Kokardenspecht', 'Kurzschwanzspecht', 'Königsmeise', 'Laasn', 'Lapplandmeise', 'Lasurmeise', 'Len Howard', 'Liebesinsel (Spree)', 'Lilla Lövö', 'Liste der Hemeraner Straßennamen', 'Liste der Strassennamen von Basel', 'Liste der Straßen in Aachen-Mitte', 'Liste der Straßen in Bergkamen', 'Liste der Straßen in Essen-Burgaltendorf', 'Liste der Straßen in Freising', 'Liste der Straßen in Olpe', 'Liste der Straßen in Selm', 'Liste der Straßen und Plätze in Berlin-Dahlem', 'Liste der Straßen und Plätze in Prohlis', 'Liste der Straßen und Plätze in Trier', 'Liste der Straßen, Plätze und Brücken in Hamburg-Barmbek-Nord', 'Liste der Straßen, Plätze und Brücken in Hamburg-Poppenbüttel', 'Liste der Straßennamen in Ravensburg', 'Liste der Straßennamen in Solingen (A–H)', 'Liste der Straßennamen in Solingen (R–Z)', 'Liste der Straßennamen von Burgdorf (Region Hannover)', 'Liste der Straßennamen von Hof', 'Liste der Straßennamen von Igersheim', 'Liste der Straßennamen von Schwarzenbach an der Saale', 'Liste der Wirbeltierarten des Kruger-Nationalparks', 'Liste Ingolstädter Straßennamen', 'Liste Planegger Straßennamen', 'Made', 'Maisach (Amper)', 'Meise (Begriffsklärung)', 'Meise', 'Meisen (Begriffsklärung)', 'Meisenknödel', 'Meißen (Begriffsklärung)', 'Meißwinkel (Kürten)', 'Mesenholl', 'Montgrí-Massiv', 'Nahrungskette', 'Naturschutzgebiet Jellen', 'Neumarkt (Südtirol)', 'Neusser Stadtwald', 'Notchview', 'Paridae', 'Parus', 'Pechpfuhl (Ludwigsfelde)', 'Philogène Auguste Galilée Wytsman', 'Pinien-Prozessionsspinner', 'Prestvannet', 'Raet-Nationalpark', 'Rago-Nationalpark', 'Rotbrustmeise', 'Rudolf Berndt (Ornithologe)', 'Sambesi-Rußmeise', 'Schlehdorn', 'Schloss Clerf', 'Schloss Hagenburg', 'Schmetterlinge', 'Schnurrvögel', 'Schwanzmeise', 'Schwanzmeisen', 'Schwarzhäubchenmeise', 'Schwarzkopfmeise', 'Schwattet Gatt', 'Schönberg (Ebringen)', 'Schöndorf (an der Ruwer)', 'Sikora', 'Singvögel', 'Sondernaturschutzgebiet des Parks Burcina', 'Spechtschaden', 'Sperber (Art)', 'Stadtwald (Bad Salzuflen)', 'Stillleben mit Obstschale, Vögeln und Fensterausblick', 'Straßenverkehrslärm', 'Sultansmeise', 'Sumpfmeise', 'Suttonella ornithocola', 'Systematik der Vögel', 'Sýkořice', 'Taiwanmeise', 'Tannenmeise', 'Taubergießen', 'Tibetmeise', 'Trauerschnäpper', 'Uebachtal', 'Unglückshäher (Gattung)', 'Usutu-Virus', 'Vogelnest', 'Vogelschutzgehölz Hausener Auwald', 'Vögel', 'Weichfresser', 'Weidenmeise', 'Wendehals (Vogel)', 'Wintergoldhähnchen', 'Zweitbrut']",
     "output_type": "error",
     "traceback": [
      "\u001B[1;31m---------------------------------------------------------------------------\u001B[0m",
      "\u001B[1;31mKeyError\u001B[0m                                  Traceback (most recent call last)",
      "Cell \u001B[1;32mIn [18], line 2\u001B[0m\n\u001B[0;32m      1\u001B[0m rank_df \u001B[38;5;241m=\u001B[39m pd\u001B[38;5;241m.\u001B[39mDataFrame(rank,columns\u001B[38;5;241m=\u001B[39m[\u001B[38;5;124m\"\u001B[39m\u001B[38;5;124mTest\u001B[39m\u001B[38;5;124m\"\u001B[39m,\u001B[38;5;124m\"\u001B[39m\u001B[38;5;124mAll views\u001B[39m\u001B[38;5;124m\"\u001B[39m])\n\u001B[1;32m----> 2\u001B[0m \u001B[43mrank_df\u001B[49m\u001B[38;5;241;43m.\u001B[39;49m\u001B[43msort_values\u001B[49m\u001B[43m(\u001B[49m\u001B[43m[\u001B[49m\u001B[43mcropped_result\u001B[49m\u001B[43m]\u001B[49m\u001B[43m,\u001B[49m\u001B[43mascending\u001B[49m\u001B[38;5;241;43m=\u001B[39;49m\u001B[38;5;28;43;01mTrue\u001B[39;49;00m\u001B[43m)\u001B[49m\n\u001B[0;32m      3\u001B[0m rank_df\n",
      "File \u001B[1;32m~\\PycharmProjects\\pythonProject\\venv\\lib\\site-packages\\pandas\\util\\_decorators.py:331\u001B[0m, in \u001B[0;36mdeprecate_nonkeyword_arguments.<locals>.decorate.<locals>.wrapper\u001B[1;34m(*args, **kwargs)\u001B[0m\n\u001B[0;32m    325\u001B[0m \u001B[38;5;28;01mif\u001B[39;00m \u001B[38;5;28mlen\u001B[39m(args) \u001B[38;5;241m>\u001B[39m num_allow_args:\n\u001B[0;32m    326\u001B[0m     warnings\u001B[38;5;241m.\u001B[39mwarn(\n\u001B[0;32m    327\u001B[0m         msg\u001B[38;5;241m.\u001B[39mformat(arguments\u001B[38;5;241m=\u001B[39m_format_argument_list(allow_args)),\n\u001B[0;32m    328\u001B[0m         \u001B[38;5;167;01mFutureWarning\u001B[39;00m,\n\u001B[0;32m    329\u001B[0m         stacklevel\u001B[38;5;241m=\u001B[39mfind_stack_level(),\n\u001B[0;32m    330\u001B[0m     )\n\u001B[1;32m--> 331\u001B[0m \u001B[38;5;28;01mreturn\u001B[39;00m func(\u001B[38;5;241m*\u001B[39margs, \u001B[38;5;241m*\u001B[39m\u001B[38;5;241m*\u001B[39mkwargs)\n",
      "File \u001B[1;32m~\\PycharmProjects\\pythonProject\\venv\\lib\\site-packages\\pandas\\core\\frame.py:6901\u001B[0m, in \u001B[0;36mDataFrame.sort_values\u001B[1;34m(self, by, axis, ascending, inplace, kind, na_position, ignore_index, key)\u001B[0m\n\u001B[0;32m   6897\u001B[0m \u001B[38;5;28;01melif\u001B[39;00m \u001B[38;5;28mlen\u001B[39m(by):\n\u001B[0;32m   6898\u001B[0m     \u001B[38;5;66;03m# len(by) == 1\u001B[39;00m\n\u001B[0;32m   6900\u001B[0m     by \u001B[38;5;241m=\u001B[39m by[\u001B[38;5;241m0\u001B[39m]\n\u001B[1;32m-> 6901\u001B[0m     k \u001B[38;5;241m=\u001B[39m \u001B[38;5;28;43mself\u001B[39;49m\u001B[38;5;241;43m.\u001B[39;49m\u001B[43m_get_label_or_level_values\u001B[49m\u001B[43m(\u001B[49m\u001B[43mby\u001B[49m\u001B[43m,\u001B[49m\u001B[43m \u001B[49m\u001B[43maxis\u001B[49m\u001B[38;5;241;43m=\u001B[39;49m\u001B[43maxis\u001B[49m\u001B[43m)\u001B[49m\n\u001B[0;32m   6903\u001B[0m     \u001B[38;5;66;03m# need to rewrap column in Series to apply key function\u001B[39;00m\n\u001B[0;32m   6904\u001B[0m     \u001B[38;5;28;01mif\u001B[39;00m key \u001B[38;5;129;01mis\u001B[39;00m \u001B[38;5;129;01mnot\u001B[39;00m \u001B[38;5;28;01mNone\u001B[39;00m:\n\u001B[0;32m   6905\u001B[0m         \u001B[38;5;66;03m# error: Incompatible types in assignment (expression has type\u001B[39;00m\n\u001B[0;32m   6906\u001B[0m         \u001B[38;5;66;03m# \"Series\", variable has type \"ndarray\")\u001B[39;00m\n",
      "File \u001B[1;32m~\\PycharmProjects\\pythonProject\\venv\\lib\\site-packages\\pandas\\core\\generic.py:1850\u001B[0m, in \u001B[0;36mNDFrame._get_label_or_level_values\u001B[1;34m(self, key, axis)\u001B[0m\n\u001B[0;32m   1844\u001B[0m     values \u001B[38;5;241m=\u001B[39m (\n\u001B[0;32m   1845\u001B[0m         \u001B[38;5;28mself\u001B[39m\u001B[38;5;241m.\u001B[39maxes[axis]\n\u001B[0;32m   1846\u001B[0m         \u001B[38;5;241m.\u001B[39mget_level_values(key)  \u001B[38;5;66;03m# type: ignore[assignment]\u001B[39;00m\n\u001B[0;32m   1847\u001B[0m         \u001B[38;5;241m.\u001B[39m_values\n\u001B[0;32m   1848\u001B[0m     )\n\u001B[0;32m   1849\u001B[0m \u001B[38;5;28;01melse\u001B[39;00m:\n\u001B[1;32m-> 1850\u001B[0m     \u001B[38;5;28;01mraise\u001B[39;00m \u001B[38;5;167;01mKeyError\u001B[39;00m(key)\n\u001B[0;32m   1852\u001B[0m \u001B[38;5;66;03m# Check for duplicates\u001B[39;00m\n\u001B[0;32m   1853\u001B[0m \u001B[38;5;28;01mif\u001B[39;00m values\u001B[38;5;241m.\u001B[39mndim \u001B[38;5;241m>\u001B[39m \u001B[38;5;241m1\u001B[39m:\n",
      "\u001B[1;31mKeyError\u001B[0m: ['Aegithalos', 'Alter Friedhof (Gießen)', 'Amsel', 'Apodaca Provincial Park', 'Appetenzverhalten', 'Arten des Anhangs I der Vogelschutzrichtlinie der EU', 'Bartkauz', 'Bartmeise', 'Baumhopfe', 'Bergkohlmeise', 'Beth Slikas', 'Beutelmeisen', 'Blaumeise', 'Blochinger Sandwinkel', 'Borodino-Buntmeise', 'Braunbürzelspecht', 'Brauner Bär (Schmetterling)', 'Buchsbaumzünsler', 'Buntmeise', 'Buntspecht', 'Burckhardtshöhe', 'Bylerward', 'Chibinen', 'Christopher M. Perrins', 'Cyanistes', 'Deutschland', 'Dommelspecht', 'Dunenspecht', 'Es rappelt im Karton', 'Europa- und Naturschutzgebiet Gerzkopf', 'Federsee', 'Fichtenmeise', 'Geographie der Vereinigten Staaten', 'Geographie Deutschlands', 'Gleispark Frintrop', 'Goldhähnchen-Laubsänger', 'Gordon Bay Provincial Park', 'Groß Zicker', 'Grüner Tropfenastrild', 'Gutshaus Friedenfelde', 'Handbook of the Birds of the World', 'Handschwinge', 'Hanko-Halbinsel', 'Hans Löhrl', 'Hartenstein (Mittelfranken)', 'Haubenmeise', 'Haussperling', 'Hellwinkel', 'Henry Whitely', 'Hudsonmeise', 'Höhlenbrüter', 'Hüttensänger', 'Hüttertal', 'Ibiza', 'Isergebirge', 'Josef Prokop Pražák', 'Kanarenmeise', 'Katavi-Nationalpark', 'Katy Trail State Park', 'Kleiber (Art)', 'Kleiner Schillerfalter', 'Kohldistel', 'Kohlmeise', 'Kokardenspecht', 'Kurzschwanzspecht', 'Königsmeise', 'Laasn', 'Lapplandmeise', 'Lasurmeise', 'Len Howard', 'Liebesinsel (Spree)', 'Lilla Lövö', 'Liste der Hemeraner Straßennamen', 'Liste der Strassennamen von Basel', 'Liste der Straßen in Aachen-Mitte', 'Liste der Straßen in Bergkamen', 'Liste der Straßen in Essen-Burgaltendorf', 'Liste der Straßen in Freising', 'Liste der Straßen in Olpe', 'Liste der Straßen in Selm', 'Liste der Straßen und Plätze in Berlin-Dahlem', 'Liste der Straßen und Plätze in Prohlis', 'Liste der Straßen und Plätze in Trier', 'Liste der Straßen, Plätze und Brücken in Hamburg-Barmbek-Nord', 'Liste der Straßen, Plätze und Brücken in Hamburg-Poppenbüttel', 'Liste der Straßennamen in Ravensburg', 'Liste der Straßennamen in Solingen (A–H)', 'Liste der Straßennamen in Solingen (R–Z)', 'Liste der Straßennamen von Burgdorf (Region Hannover)', 'Liste der Straßennamen von Hof', 'Liste der Straßennamen von Igersheim', 'Liste der Straßennamen von Schwarzenbach an der Saale', 'Liste der Wirbeltierarten des Kruger-Nationalparks', 'Liste Ingolstädter Straßennamen', 'Liste Planegger Straßennamen', 'Made', 'Maisach (Amper)', 'Meise (Begriffsklärung)', 'Meise', 'Meisen (Begriffsklärung)', 'Meisenknödel', 'Meißen (Begriffsklärung)', 'Meißwinkel (Kürten)', 'Mesenholl', 'Montgrí-Massiv', 'Nahrungskette', 'Naturschutzgebiet Jellen', 'Neumarkt (Südtirol)', 'Neusser Stadtwald', 'Notchview', 'Paridae', 'Parus', 'Pechpfuhl (Ludwigsfelde)', 'Philogène Auguste Galilée Wytsman', 'Pinien-Prozessionsspinner', 'Prestvannet', 'Raet-Nationalpark', 'Rago-Nationalpark', 'Rotbrustmeise', 'Rudolf Berndt (Ornithologe)', 'Sambesi-Rußmeise', 'Schlehdorn', 'Schloss Clerf', 'Schloss Hagenburg', 'Schmetterlinge', 'Schnurrvögel', 'Schwanzmeise', 'Schwanzmeisen', 'Schwarzhäubchenmeise', 'Schwarzkopfmeise', 'Schwattet Gatt', 'Schönberg (Ebringen)', 'Schöndorf (an der Ruwer)', 'Sikora', 'Singvögel', 'Sondernaturschutzgebiet des Parks Burcina', 'Spechtschaden', 'Sperber (Art)', 'Stadtwald (Bad Salzuflen)', 'Stillleben mit Obstschale, Vögeln und Fensterausblick', 'Straßenverkehrslärm', 'Sultansmeise', 'Sumpfmeise', 'Suttonella ornithocola', 'Systematik der Vögel', 'Sýkořice', 'Taiwanmeise', 'Tannenmeise', 'Taubergießen', 'Tibetmeise', 'Trauerschnäpper', 'Uebachtal', 'Unglückshäher (Gattung)', 'Usutu-Virus', 'Vogelnest', 'Vogelschutzgehölz Hausener Auwald', 'Vögel', 'Weichfresser', 'Weidenmeise', 'Wendehals (Vogel)', 'Wintergoldhähnchen', 'Zweitbrut']"
     ]
    }
   ],
   "source": [
    "rank_df = pd.DataFrame(rank,columns=[\"Test\",\"All views\"])\n",
    "rank_df.sort_values([cropped_result],ascending=True)\n",
    "rank_df"
   ],
   "metadata": {
    "collapsed": false
   }
  },
  {
   "cell_type": "code",
   "execution_count": null,
   "outputs": [],
   "source": [
    "tuples = []\n",
    "for entry in flinks:\n",
    "    for e in entry[0:13]:\n",
    "        if(entry[0] == e):\n",
    "            pass\n",
    "        else:\n",
    "            tuples.append((entry[0],e))"
   ],
   "metadata": {
    "collapsed": false
   }
  },
  {
   "cell_type": "code",
   "execution_count": null,
   "outputs": [],
   "source": [
    "frame = pd.DataFrame(tuples)\n",
    "frame"
   ],
   "metadata": {
    "collapsed": false
   }
  },
  {
   "cell_type": "code",
   "execution_count": null,
   "outputs": [],
   "source": [
    "G = nx.Graph()\n",
    "G.add_nodes_from(cropped_result)\n",
    "flinkroutingp = []\n",
    "for i in enumerate(flinks):\n",
    "    flinkroutingp.append(i[1][0])\n",
    "    G.add_node(i[1][0])\n",
    "G.add_node(article)"
   ],
   "metadata": {
    "collapsed": false
   }
  },
  {
   "cell_type": "code",
   "execution_count": null,
   "outputs": [],
   "source": [
    "G.add_edges_from([(r,article) for r in cropped_result])\n",
    "G.add_edges_from([(r) for r in tuples])"
   ],
   "metadata": {
    "collapsed": false
   }
  },
  {
   "cell_type": "code",
   "execution_count": null,
   "outputs": [],
   "source": [
    "plt.rcParams[\"figure.figsize\"] = (65,65)\n",
    "nx.draw(G, with_labels=True, font_size=9, pos=nx.kamada_kawai_layout(G))\n",
    "plt.savefig(f\"Kamadakawailayout from {article}.png\",format=\"PNG\")"
   ],
   "metadata": {
    "collapsed": false
   }
  },
  {
   "cell_type": "code",
   "execution_count": null,
   "outputs": [],
   "source": [
    "plt.rcParams[\"figure.figsize\"] = (60,60)\n",
    "nx.spring_layout(G,k=0.15,iterations=10)\n",
    "nx.draw(G, with_labels=True, node_size=1500, node_color=\"skyblue\")\n",
    "plt.savefig(f\"Graph from {article}.png\",format=\"PNG\")"
   ],
   "metadata": {
    "collapsed": false
   }
  },
  {
   "cell_type": "code",
   "execution_count": null,
   "outputs": [],
   "source": [
    "from linkmethods import get_target, get_backlink_views\n",
    "import numpy as np"
   ],
   "metadata": {
    "collapsed": false
   }
  },
  {
   "cell_type": "code",
   "execution_count": null,
   "outputs": [],
   "source": [
    "mean_views = list(np.array(get_backlink_views(\"Meisen\", get_target(\"Meisen\"))).mean(axis=1))"
   ],
   "metadata": {
    "collapsed": false
   }
  },
  {
   "cell_type": "code",
   "execution_count": null,
   "outputs": [],
   "source": [
    "len(cropped_result)"
   ],
   "metadata": {
    "collapsed": false
   }
  },
  {
   "cell_type": "code",
   "execution_count": null,
   "outputs": [],
   "source": [
    "source = [i for i in range(len(cropped_result))]\n",
    "target = [len(source)]*len(source)\n",
    "value = mean_views\n",
    "print(np.shape(source))\n",
    "print(source)\n",
    "print(np.shape(target))\n",
    "print(target)\n",
    "print(np.shape(value))\n",
    "print(value)"
   ],
   "metadata": {
    "collapsed": false
   }
  },
  {
   "cell_type": "code",
   "execution_count": null,
   "outputs": [],
   "source": [
    "import plotly.graph_objects as go"
   ],
   "metadata": {
    "collapsed": false
   }
  },
  {
   "cell_type": "code",
   "execution_count": null,
   "outputs": [],
   "source": [
    "link = dict(source=source, target= target, value= value)\n",
    "data = go.Sankey(link=link)\n",
    "#fig = go.Figure(data)\n",
    "fig = go.Figure(data=[go.Sankey(\n",
    "    node= dict(\n",
    "        pad = 15,\n",
    "        thickness=15,\n",
    "        label=cropped_result\n",
    "    ),\n",
    "    link= dict(\n",
    "        source=source,\n",
    "        target=target,\n",
    "        value=value\n",
    "    )\n",
    ")])\n",
    "fig.update_layout(title_text=\"\", font_size=10, width=2000, height=2000)\n",
    "fig.show()"
   ],
   "metadata": {
    "collapsed": false
   }
  },
  {
   "cell_type": "code",
   "execution_count": null,
   "outputs": [],
   "source": [
    "fig.write_html(r\"C:\\Users\\Marvin\\Desktop\\sankey.html\")"
   ],
   "metadata": {
    "collapsed": false
   }
  },
  {
   "cell_type": "code",
   "execution_count": null,
   "outputs": [],
   "source": [],
   "metadata": {
    "collapsed": false
   }
  }
 ],
 "metadata": {
  "kernelspec": {
   "display_name": "Python 3",
   "language": "python",
   "name": "python3"
  },
  "language_info": {
   "codemirror_mode": {
    "name": "ipython",
    "version": 2
   },
   "file_extension": ".py",
   "mimetype": "text/x-python",
   "name": "python",
   "nbconvert_exporter": "python",
   "pygments_lexer": "ipython2",
   "version": "2.7.6"
  }
 },
 "nbformat": 4,
 "nbformat_minor": 0
}
