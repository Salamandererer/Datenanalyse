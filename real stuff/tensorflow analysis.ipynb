{
 "cells": [
  {
   "cell_type": "code",
   "execution_count": 1,
   "metadata": {
    "collapsed": true
   },
   "outputs": [],
   "source": [
    "import tensorflow as tf\n",
    "from tensorflow import keras\n",
    "from packaging import version\n",
    "from datetime import datetime\n",
    "import pandas as pd\n",
    "import numpy as np\n",
    "import os\n",
    "import glob"
   ]
  },
  {
   "cell_type": "code",
   "execution_count": 2,
   "outputs": [
    {
     "name": "stdout",
     "output_type": "stream",
     "text": [
      "TensorFlow version:  2.11.0\n"
     ]
    }
   ],
   "source": [
    "print(\"TensorFlow version: \", tf.__version__)\n",
    "assert version.parse(tf.__version__).release[0] >= 2, \"This notebook requires TensorFlow 2.0 or above.\""
   ],
   "metadata": {
    "collapsed": false
   }
  },
  {
   "cell_type": "code",
   "execution_count": 3,
   "outputs": [
    {
     "data": {
      "text/plain": "'2.11.0'"
     },
     "execution_count": 3,
     "metadata": {},
     "output_type": "execute_result"
    }
   ],
   "source": [
    "import tensorboard\n",
    "tensorboard.__version__"
   ],
   "metadata": {
    "collapsed": false
   }
  },
  {
   "cell_type": "code",
   "execution_count": 4,
   "outputs": [],
   "source": [
    "from linkmethods import get_pageviews"
   ],
   "metadata": {
    "collapsed": false
   }
  },
  {
   "cell_type": "code",
   "execution_count": 5,
   "outputs": [],
   "source": [
    "from keras.models import Sequential\n",
    "from keras.layers import *"
   ],
   "metadata": {
    "collapsed": false
   }
  },
  {
   "cell_type": "code",
   "execution_count": 49,
   "outputs": [
    {
     "name": "stderr",
     "output_type": "stream",
     "text": [
      "Der Befehl \"rm\" ist entweder falsch geschrieben oder\n",
      "konnte nicht gefunden werden.\n"
     ]
    }
   ],
   "source": [
    "!rm -rf ./logs/"
   ],
   "metadata": {
    "collapsed": false
   }
  },
  {
   "cell_type": "code",
   "execution_count": 102,
   "outputs": [],
   "source": [],
   "metadata": {
    "collapsed": false
   }
  },
  {
   "cell_type": "code",
   "execution_count": 9,
   "outputs": [
    {
     "data": {
      "text/plain": "            views\ntimestamp        \n2015070100    220\n2015070200    222\n2015070300    218\n2015070400    228\n2015070500    287\n...           ...\n2022062700    208\n2022062800    192\n2022062900    190\n2022063000    180\n2022070100    212\n\n[2558 rows x 1 columns]",
      "text/html": "<div>\n<style scoped>\n    .dataframe tbody tr th:only-of-type {\n        vertical-align: middle;\n    }\n\n    .dataframe tbody tr th {\n        vertical-align: top;\n    }\n\n    .dataframe thead th {\n        text-align: right;\n    }\n</style>\n<table border=\"1\" class=\"dataframe\">\n  <thead>\n    <tr style=\"text-align: right;\">\n      <th></th>\n      <th>views</th>\n    </tr>\n    <tr>\n      <th>timestamp</th>\n      <th></th>\n    </tr>\n  </thead>\n  <tbody>\n    <tr>\n      <th>2015070100</th>\n      <td>220</td>\n    </tr>\n    <tr>\n      <th>2015070200</th>\n      <td>222</td>\n    </tr>\n    <tr>\n      <th>2015070300</th>\n      <td>218</td>\n    </tr>\n    <tr>\n      <th>2015070400</th>\n      <td>228</td>\n    </tr>\n    <tr>\n      <th>2015070500</th>\n      <td>287</td>\n    </tr>\n    <tr>\n      <th>...</th>\n      <td>...</td>\n    </tr>\n    <tr>\n      <th>2022062700</th>\n      <td>208</td>\n    </tr>\n    <tr>\n      <th>2022062800</th>\n      <td>192</td>\n    </tr>\n    <tr>\n      <th>2022062900</th>\n      <td>190</td>\n    </tr>\n    <tr>\n      <th>2022063000</th>\n      <td>180</td>\n    </tr>\n    <tr>\n      <th>2022070100</th>\n      <td>212</td>\n    </tr>\n  </tbody>\n</table>\n<p>2558 rows × 1 columns</p>\n</div>"
     },
     "execution_count": 9,
     "metadata": {},
     "output_type": "execute_result"
    }
   ],
   "source": [
    "path= os.path.abspath(r\"C:\\Users\\Marvin\\PycharmProjects\\pythonProject\\datafiles\")\n",
    "\n",
    "syear = 2015\n",
    "start = datetime(syear, 7, 1)\n",
    "end = datetime(2022, 7, 1)\n",
    "data = get_pageviews(\"Meisen\", start, end, project=\"de.wikipedia.org\")\n",
    "df_meisen = pd.DataFrame(data)[[\"timestamp\",\"views\"]]\n",
    "df_meisen[\"timestamp\"] = pd.to_numeric(df_meisen[\"timestamp\"])\n",
    "df_meisen = df_meisen.set_index(\"timestamp\")\n",
    "\n",
    "df_meisen"
   ],
   "metadata": {
    "collapsed": false
   }
  },
  {
   "cell_type": "code",
   "execution_count": 29,
   "outputs": [],
   "source": [
    "from zeitreihenanalyse import pageviewget\n",
    "from linksAnalysis import get_back_links"
   ],
   "metadata": {
    "collapsed": false
   }
  },
  {
   "cell_type": "code",
   "execution_count": 12,
   "outputs": [],
   "source": [
    "abs_path = r\"C:\\Users\\Marvin\\PycharmProjects\\pythonProject\\datafiles\\Meisen\\Blinks\"\n",
    "path = os.path.abspath(abs_path)\n",
    "csv_files = glob.glob(os.path.join(path, \"*.csv\"))\n",
    "\n",
    "flatten_views = []\n",
    "\n",
    "for f in csv_files:\n",
    "    df = pd.read_csv(f)\n",
    "    df = df[[\"timestamp\",\"views\"]].set_index(\"timestamp\").reindex_like(df_meisen).fillna(0)\n",
    "\n",
    "    views = df.views.to_numpy()\n",
    "    flatten_views.extend(views)"
   ],
   "metadata": {
    "collapsed": false
   }
  },
  {
   "cell_type": "code",
   "execution_count": 35,
   "outputs": [
    {
     "data": {
      "text/plain": "(36, 2558, 1)"
     },
     "execution_count": 35,
     "metadata": {},
     "output_type": "execute_result"
    }
   ],
   "source": [
    "data = np.array(flatten_views).reshape((36,2558,1))\n",
    "data.shape"
   ],
   "metadata": {
    "collapsed": false
   }
  },
  {
   "cell_type": "code",
   "execution_count": 33,
   "outputs": [
    {
     "data": {
      "text/plain": "(36, 2558)"
     },
     "execution_count": 33,
     "metadata": {},
     "output_type": "execute_result"
    }
   ],
   "source": [
    "target = np.array(df_meisen.views)\n",
    "target = np.array([np.copy(target) for _ in range((data.shape[0]))])\n",
    "\n",
    "target.shape"
   ],
   "metadata": {
    "collapsed": false
   }
  },
  {
   "cell_type": "code",
   "execution_count": 152,
   "outputs": [
    {
     "name": "stdout",
     "output_type": "stream",
     "text": [
      "Epoch 1/40\n",
      "8/8 [==============================] - 0s 22ms/step - loss: 118.5932 - accuracy: 0.0000e+00\n",
      "Epoch 2/40\n",
      "8/8 [==============================] - 0s 24ms/step - loss: 114.5858 - accuracy: 0.0000e+00\n",
      "Epoch 3/40\n",
      "8/8 [==============================] - 0s 23ms/step - loss: 93.7171 - accuracy: 0.0000e+00\n",
      "Epoch 4/40\n",
      "8/8 [==============================] - 0s 21ms/step - loss: 87.8072 - accuracy: 0.0000e+00\n",
      "Epoch 5/40\n",
      "8/8 [==============================] - 0s 22ms/step - loss: 90.4610 - accuracy: 0.1111\n",
      "Epoch 6/40\n",
      "8/8 [==============================] - 0s 21ms/step - loss: 94.6742 - accuracy: 0.5833\n",
      "Epoch 7/40\n",
      "8/8 [==============================] - 0s 22ms/step - loss: 93.1081 - accuracy: 0.1944\n",
      "Epoch 8/40\n",
      "8/8 [==============================] - 0s 22ms/step - loss: 120.1042 - accuracy: 0.8333\n",
      "Epoch 9/40\n",
      "8/8 [==============================] - 0s 21ms/step - loss: 109.7237 - accuracy: 0.7500\n",
      "Epoch 10/40\n",
      "8/8 [==============================] - 0s 23ms/step - loss: 92.6820 - accuracy: 0.8611\n",
      "Epoch 11/40\n",
      "8/8 [==============================] - 0s 22ms/step - loss: 86.8066 - accuracy: 0.3611\n",
      "Epoch 12/40\n",
      "8/8 [==============================] - 0s 21ms/step - loss: 90.5076 - accuracy: 0.0556\n",
      "Epoch 13/40\n",
      "8/8 [==============================] - 0s 21ms/step - loss: 86.3041 - accuracy: 0.0000e+00\n",
      "Epoch 14/40\n",
      "8/8 [==============================] - 0s 21ms/step - loss: 98.1608 - accuracy: 0.3611\n",
      "Epoch 15/40\n",
      "8/8 [==============================] - 0s 22ms/step - loss: 79.0967 - accuracy: 0.3333\n",
      "Epoch 16/40\n",
      "8/8 [==============================] - 0s 22ms/step - loss: 76.1521 - accuracy: 0.0833\n",
      "Epoch 17/40\n",
      "8/8 [==============================] - 0s 23ms/step - loss: 81.7838 - accuracy: 0.0278\n",
      "Epoch 18/40\n",
      "8/8 [==============================] - 0s 22ms/step - loss: 84.0615 - accuracy: 0.0278\n",
      "Epoch 19/40\n",
      "8/8 [==============================] - 0s 22ms/step - loss: 70.0895 - accuracy: 0.1667\n",
      "Epoch 20/40\n",
      "8/8 [==============================] - 0s 22ms/step - loss: 77.9409 - accuracy: 0.0556\n",
      "Epoch 21/40\n",
      "8/8 [==============================] - 0s 21ms/step - loss: 73.6492 - accuracy: 0.2500\n",
      "Epoch 22/40\n",
      "8/8 [==============================] - 0s 24ms/step - loss: 72.9057 - accuracy: 0.7778\n",
      "Epoch 23/40\n",
      "8/8 [==============================] - 0s 25ms/step - loss: 63.5423 - accuracy: 0.6111\n",
      "Epoch 24/40\n",
      "8/8 [==============================] - 0s 24ms/step - loss: 62.2600 - accuracy: 0.7778\n",
      "Epoch 25/40\n",
      "8/8 [==============================] - 0s 23ms/step - loss: 73.3198 - accuracy: 0.6111\n",
      "Epoch 26/40\n",
      "8/8 [==============================] - 0s 22ms/step - loss: 79.4257 - accuracy: 0.7500\n",
      "Epoch 27/40\n",
      "8/8 [==============================] - 0s 22ms/step - loss: 71.9971 - accuracy: 0.7778\n",
      "Epoch 28/40\n",
      "8/8 [==============================] - 0s 21ms/step - loss: 69.6478 - accuracy: 0.8333\n",
      "Epoch 29/40\n",
      "8/8 [==============================] - 0s 21ms/step - loss: 70.1097 - accuracy: 0.8333\n",
      "Epoch 30/40\n",
      "8/8 [==============================] - 0s 21ms/step - loss: 62.4047 - accuracy: 0.8611\n",
      "Epoch 31/40\n",
      "8/8 [==============================] - 0s 22ms/step - loss: 64.6218 - accuracy: 0.5278\n",
      "Epoch 32/40\n",
      "8/8 [==============================] - 0s 22ms/step - loss: 60.3117 - accuracy: 0.9722\n",
      "Epoch 33/40\n",
      "8/8 [==============================] - 0s 22ms/step - loss: 68.9063 - accuracy: 0.7500\n",
      "Epoch 34/40\n",
      "8/8 [==============================] - 0s 22ms/step - loss: 83.3414 - accuracy: 0.6667\n",
      "Epoch 35/40\n",
      "8/8 [==============================] - 0s 24ms/step - loss: 81.0098 - accuracy: 0.8889\n",
      "Epoch 36/40\n",
      "8/8 [==============================] - 0s 22ms/step - loss: 101.8145 - accuracy: 0.8889\n",
      "Epoch 37/40\n",
      "8/8 [==============================] - 0s 23ms/step - loss: 83.5481 - accuracy: 0.8056\n",
      "Epoch 38/40\n",
      "8/8 [==============================] - 0s 23ms/step - loss: 75.1015 - accuracy: 0.9444\n",
      "Epoch 39/40\n",
      "8/8 [==============================] - 0s 22ms/step - loss: 64.6270 - accuracy: 0.8611\n",
      "Epoch 40/40\n",
      "8/8 [==============================] - 0s 22ms/step - loss: 77.0182 - accuracy: 0.8056\n"
     ]
    },
    {
     "data": {
      "text/plain": "<keras.callbacks.History at 0x1461100a260>"
     },
     "execution_count": 152,
     "metadata": {},
     "output_type": "execute_result"
    }
   ],
   "source": [
    "# Define the model.\n",
    "model = Sequential()\n",
    "\n",
    "# 1 dense hidden layer with 250 nodes ~90+ acc\n",
    "model.add(Input(shape=(2558,))) # Input tensor\n",
    "model.add(Dense(units=250)) # hidden layer 1,\n",
    "model.add(Dense(units=2558)) #output layer\n",
    "\n",
    "\n",
    "model.compile(\n",
    "    optimizer='adam',\n",
    "    loss='MeanAbsolutePercentageError',\n",
    "    metrics=['accuracy'])\n",
    "\n",
    "log_dir = \"logs/fit/\" + datetime.now().strftime(\"%Y%m%d-%H%M%S\")\n",
    "tensorboard_callback = tf.keras.callbacks.TensorBoard(log_dir=log_dir, histogram_freq=1)\n",
    "\n",
    "# Train the model.\n",
    "model.fit(\n",
    "    data,\n",
    "    target,\n",
    "    batch_size=5,\n",
    "    epochs=40,\n",
    "    callbacks=[tensorboard_callback])"
   ],
   "metadata": {
    "collapsed": false
   }
  },
  {
   "cell_type": "code",
   "execution_count": 124,
   "outputs": [
    {
     "name": "stdout",
     "output_type": "stream",
     "text": [
      "The tensorboard extension is already loaded. To reload it, use:\n",
      "  %reload_ext tensorboard\n"
     ]
    }
   ],
   "source": [
    "%load_ext tensorboard"
   ],
   "metadata": {
    "collapsed": false
   }
  },
  {
   "cell_type": "code",
   "execution_count": 70,
   "outputs": [
    {
     "data": {
      "text/plain": "Launching TensorBoard..."
     },
     "metadata": {},
     "output_type": "display_data"
    }
   ],
   "source": [
    "%tensorboard --logdir logs/fit --host localhost --port 8088"
   ],
   "metadata": {
    "collapsed": false
   }
  },
  {
   "cell_type": "code",
   "execution_count": 69,
   "outputs": [
    {
     "ename": "SyntaxError",
     "evalue": "cannot assign to expression here. Maybe you meant '==' instead of '='? (2022872164.py, line 1)",
     "output_type": "error",
     "traceback": [
      "\u001B[1;36m  Cell \u001B[1;32mIn [69], line 1\u001B[1;36m\u001B[0m\n\u001B[1;33m    tensorboard --logdir=logs/ --host localhost --port 8088\u001B[0m\n\u001B[1;37m    ^\u001B[0m\n\u001B[1;31mSyntaxError\u001B[0m\u001B[1;31m:\u001B[0m cannot assign to expression here. Maybe you meant '==' instead of '='?\n"
     ]
    }
   ],
   "source": [],
   "metadata": {
    "collapsed": false
   }
  },
  {
   "cell_type": "code",
   "execution_count": null,
   "outputs": [],
   "source": [],
   "metadata": {
    "collapsed": false
   }
  }
 ],
 "metadata": {
  "kernelspec": {
   "display_name": "Python 3",
   "language": "python",
   "name": "python3"
  },
  "language_info": {
   "codemirror_mode": {
    "name": "ipython",
    "version": 2
   },
   "file_extension": ".py",
   "mimetype": "text/x-python",
   "name": "python",
   "nbconvert_exporter": "python",
   "pygments_lexer": "ipython2",
   "version": "2.7.6"
  }
 },
 "nbformat": 4,
 "nbformat_minor": 0
}
