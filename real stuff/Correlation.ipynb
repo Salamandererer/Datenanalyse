{
 "cells": [
  {
   "cell_type": "code",
   "execution_count": 3,
   "metadata": {
    "collapsed": true
   },
   "outputs": [],
   "source": [
    "import os\n",
    "import pandas as pd\n",
    "\n",
    "from linkmethods import get_pageviews, get_target, get_backlink_strings,get_views,filterlinks,get_links"
   ]
  },
  {
   "cell_type": "code",
   "execution_count": 4,
   "outputs": [],
   "source": [
    "article = \"Meisen\" #wenn ein : im titel dann bugg"
   ],
   "metadata": {
    "collapsed": false
   }
  },
  {
   "cell_type": "code",
   "execution_count": 5,
   "outputs": [],
   "source": [
    "all_main_backlinks = get_links(article,\"linkshere\") #grab all backlinks from one page"
   ],
   "metadata": {
    "collapsed": false
   }
  },
  {
   "cell_type": "code",
   "execution_count": 6,
   "outputs": [],
   "source": [
    "filter_all_backlinks = filterlinks(all_main_backlinks)\n",
    "df = pd.DataFrame(filter_all_backlinks,columns=[\"backlinks\"]) #filter not neseccary Backlinks from the list and write it to a csv for later use\n",
    "path = fr\"datafiles\\{article}\"\n",
    "try:\n",
    "    os.mkdir(path)\n",
    "except:\n",
    "    pass\n",
    "df.to_csv(path + '/' f'{article}bldata.csv', index=False)"
   ],
   "metadata": {
    "collapsed": false
   }
  },
  {
   "cell_type": "code",
   "execution_count": 7,
   "outputs": [
    {
     "name": "stdout",
     "output_type": "stream",
     "text": [
      "284\n",
      "197\n"
     ]
    }
   ],
   "source": [
    "print(len(all_main_backlinks))\n",
    "print((len(filter_all_backlinks)))  #see number that got filtererd"
   ],
   "metadata": {
    "collapsed": false
   }
  },
  {
   "cell_type": "code",
   "execution_count": 8,
   "outputs": [],
   "source": [
    "filter_all_backlinks = pd.read_csv(fr\"datafiles\\{article}\\{article}bldata.csv\") #read the csv from disk\n",
    "filter_all_backlinks = filter_all_backlinks['backlinks'].values.tolist()"
   ],
   "metadata": {
    "collapsed": false
   }
  },
  {
   "cell_type": "code",
   "execution_count": 9,
   "outputs": [
    {
     "name": "stdout",
     "output_type": "stream",
     "text": [
      "['Schmetterlinge', 'Buntspecht', 'Bartkauz', 'Chibinen', 'Ibiza', 'Appetenzverhalten', 'Hartenstein (Mittelfranken)', 'Nahrungskette', 'Singvögel', 'Amsel', 'Kohlmeise', 'Vögel', 'Sperber (Art)', 'Blaumeise', 'Sumpfmeise', 'Weidenmeise', 'Haubenmeise', 'Tannenmeise', 'Schwanzmeise', 'Schlehdorn', 'Federsee', 'Neumarkt (Südtirol)', 'Wendehals (Vogel)', 'Haussperling', 'Kleiber (Art)', 'Systematik der Vögel', 'Paridae', 'Taubergießen', 'Isergebirge', 'Maisach (Amper)', 'Geographie der Vereinigten Staaten', 'Brauner Bär (Schmetterling)', 'Schloss Hagenburg', 'Kohldistel', 'Höhlenbrüter', 'Bartmeise', 'Trauerschnäpper', 'Schönberg (Ebringen)', 'Pinien-Prozessionsspinner', 'Kleiner Schillerfalter', 'Schnurrvögel', 'Straßenverkehrslärm', 'Geographie Deutschlands', 'Lasurmeise', 'Liste der Straßennamen in Ravensburg', 'Dunenspecht', 'Hans Löhrl', 'Handschwinge', 'Usutu-Virus', 'Grüner Tropfenastrild', 'Grauhäubchenmeise', 'Meise (Begriffsklärung)', 'Zweitbrut', 'Schwarzkopfmeise', 'Deutschland', 'Sikora', 'Kokardenspecht', 'Baumhopfe', 'Borodino-Buntmeise', 'Buntmeise', 'Gebirgsmeise', 'Hudsonmeise', 'Taiwanmeise', 'Es rappelt im Karton', 'Liste Ingolstädter Straßennamen', 'Uebachtal', 'Montgrí-Massiv', 'Lapplandmeise', 'Balkanmeise', 'Schöndorf (an der Ruwer)', 'Alter Friedhof (Gießen)', 'Liste der Strassennamen von Basel', 'Pechpfuhl (Ludwigsfelde)', 'Cyanistes', 'Liste Planegger Straßennamen', 'Wintergoldhähnchen', 'Buchsbaumzünsler', 'Gleispark Frintrop', 'Meisenknödel', 'Mesenholl', 'Naturschutzgebiet Jellen', 'Katy Trail State Park', 'Aegithalos', 'Schwanzmeisen', 'Parus', 'Liste der Hemeraner Straßennamen', 'Rotbrustmeise', 'Handbook of the Birds of the World', 'Rago-Nationalpark', 'Katavi-Nationalpark', 'Rudolf Berndt (Ornithologe)', 'Liste der Straßen in Olpe', 'Hüttensänger', 'Len Howard', 'Meißwinkel (Kürten)', 'Vogelschutzgehölz Hausener Auwald', 'Meise', 'Meisen (Begriffsklärung)', 'Kurzschwanzspecht', 'Braunbürzelspecht', 'Dommelspecht', 'Beutelmeisen', 'Liste der Straßennamen von Burgdorf (Region Hannover)', 'Spechtschaden', 'Burckhardtshöhe', 'Unglückshäher (Gattung)', 'Lilla Lövö', 'Liste der Wirbeltierarten des Kruger-Nationalparks', 'Europa- und Naturschutzgebiet Gerzkopf', 'Arten des Anhangs I der Vogelschutzrichtlinie der EU', 'Liste der Straßen und Plätze in Berlin-Dahlem', 'Gordon Bay Provincial Park', 'Groß Zicker', 'Stillleben mit Obstschale, Vögeln und Fensterausblick', 'Hüttertal', 'Henry Whitely', 'Beth Slikas', 'Laasn', 'Gutshaus Friedenfelde', 'Hanko-Halbinsel', 'Neusser Stadtwald', 'Hellwinkel', 'Josef Prokop Pražák', 'Liste der Straßen, Plätze und Brücken in Hamburg-Barmbek-Nord', 'Liste der Straßen in Freising', 'Prestvannet', 'Liste der Straßennamen von Hof', 'Schwattet Gatt', 'Sýkořice', 'Liebesinsel (Spree)', 'Notchview', 'Liste der Straßennamen von Schwarzenbach an der Saale', 'Tibetmeise', 'Liste der Straßen in Selm', 'Liste der Straßen in Bergkamen', 'Bylerward', 'Kanarenmeise', 'Grauhaubenmeise', 'Fichtenmeise', 'Philogène Auguste Galilée Wytsman', 'Liste der Straßennamen in Solingen (A–H)', 'Sondernaturschutzgebiet des Parks Burcina', 'Liste der Straßennamen in Solingen (R–Z)', 'Blochinger Sandwinkel', 'Brillenmeise', 'Schwarzhäubchenmeise', 'Apodaca Provincial Park', 'Sultansmeise', 'Sambesi-Rußmeise', 'Liste der Straßen in Essen-Burgaltendorf', 'Schloss Clerf', 'Königsmeise', 'Liste der Straßen und Plätze in Prohlis', 'Elfenschnäpper (Familie)', 'Goldhähnchen-Laubsänger', 'Bergkohlmeise', 'Liste der Straßennamen von Igersheim', 'Weichfresser', 'Vogelnest', 'Liste der Straßen, Plätze und Brücken in Hamburg-Poppenbüttel', 'Raet-Nationalpark', 'Christopher M. Perrins', 'Elizabeth Lack', 'Stadtwald (Bad Salzuflen)', 'Suttonella ornithocola', 'Liste der Straßen in Aachen-Mitte', 'Liste der Straßen und Plätze in Trier', 'Hyliotas', 'Baumsänger', 'Tigerzaunkönig', 'Liste der Wappen in der Verbandsgemeinde Ruwer', 'Liste der Straßennamen von Heilbronn', 'Jacques Blondel (Ökologe)', 'Gipfel des Glockert', 'Meißen (Begriffsklärung)', 'Cebukauz', 'Vogelbestimmung', 'Liste der Straßennamen und Ortschaften Klagenfurts', 'Kalkklippen der Gobert', 'Haubenvireo', 'Sylviida', 'Dreifarben-Brillenvanga', 'Braunstirn-Brillenvanga', 'Weißmantel-Rußmeise', 'Somalirußmeise', 'Schwarzbrust-Rußmeise', 'Rostkehl-Rußmeise', 'Einfarb-Rußmeise', 'Weißschulter-Rußmeise', 'Weißflügel-Rußmeise', 'Weißbauch-Rußmeise', 'Rostbauch-Rußmeise', 'Miomborußmeise', 'Kaprußmeise', 'Akazienrußmeise', 'Zimtbauch-Rußmeise', 'Carprußmeise']\n"
     ]
    }
   ],
   "source": [
    "print(filter_all_backlinks)"
   ],
   "metadata": {
    "collapsed": false
   }
  },
  {
   "cell_type": "code",
   "execution_count": 10,
   "outputs": [
    {
     "name": "stdout",
     "output_type": "stream",
     "text": [
      "Working on... Schmetterlinge\n",
      "2022546 sum 520 Anzahl backlinks von Schmetterlinge at 0 / 197\n",
      "Working on... Buntspecht\n",
      "1234583 sum 181 Anzahl backlinks von Buntspecht at 1 / 197\n",
      "Working on... Bartkauz\n",
      "117673 sum 125 Anzahl backlinks von Bartkauz at 2 / 197\n",
      "Working on... Chibinen\n",
      "34148 sum 265 Anzahl backlinks von Chibinen at 3 / 197\n",
      "Working on... Ibiza\n",
      "1154938 sum 443 Anzahl backlinks von Ibiza at 4 / 197\n",
      "Working on... Appetenzverhalten\n",
      "105924 sum 27 Anzahl backlinks von Appetenzverhalten at 5 / 197\n",
      "Working on... Hartenstein (Mittelfranken)\n",
      "42472 sum 189 Anzahl backlinks von Hartenstein (Mittelfranken) at 6 / 197\n",
      "Working on... Nahrungskette\n",
      "338283 sum 127 Anzahl backlinks von Nahrungskette at 7 / 197\n",
      "Working on... Singvögel\n",
      "439283 sum 208 Anzahl backlinks von Singvögel at 8 / 197\n",
      "Working on... Amsel\n",
      "3668715 sum 339 Anzahl backlinks von Amsel at 9 / 197\n",
      "Working on... Kohlmeise\n",
      "1824024 sum 212 Anzahl backlinks von Kohlmeise at 10 / 197\n",
      "Working on... Vögel\n",
      "1540145 sum 346 Anzahl backlinks von Vögel at 11 / 197\n",
      "Working on... Sperber (Art)\n",
      "934239 sum 111 Anzahl backlinks von Sperber (Art) at 12 / 197\n",
      "Working on... Blaumeise\n",
      "1391025 sum 260 Anzahl backlinks von Blaumeise at 13 / 197\n",
      "Working on... Sumpfmeise\n",
      "286046 sum 121 Anzahl backlinks von Sumpfmeise at 14 / 197\n",
      "Working on... Weidenmeise\n",
      "185585 sum 82 Anzahl backlinks von Weidenmeise at 15 / 197\n",
      "Working on... Haubenmeise\n",
      "203193 sum 46 Anzahl backlinks von Haubenmeise at 16 / 197\n",
      "Working on... Tannenmeise\n",
      "336277 sum 98 Anzahl backlinks von Tannenmeise at 17 / 197\n",
      "Working on... Schwanzmeise\n",
      "516643 sum 123 Anzahl backlinks von Schwanzmeise at 18 / 197\n",
      "Working on... Schlehdorn\n",
      "1507788 sum 168 Anzahl backlinks von Schlehdorn at 19 / 197\n",
      "Working on... Federsee\n",
      "211285 sum 472 Anzahl backlinks von Federsee at 20 / 197\n",
      "Working on... Neumarkt (Südtirol)\n",
      "95046 sum 260 Anzahl backlinks von Neumarkt (Südtirol) at 21 / 197\n",
      "Working on... Wendehals (Vogel)\n",
      "223829 sum 173 Anzahl backlinks von Wendehals (Vogel) at 22 / 197\n",
      "Working on... Haussperling\n",
      "1941729 sum 301 Anzahl backlinks von Haussperling at 23 / 197\n",
      "Working on... Kleiber (Art)\n",
      "957411 sum 98 Anzahl backlinks von Kleiber (Art) at 24 / 197\n",
      "Working on... Systematik der Vögel\n",
      "276960 sum 365 Anzahl backlinks von Systematik der Vögel at 25 / 197\n",
      "Working on... Paridae\n",
      "2450 sum 1 Anzahl backlinks von Paridae at 26 / 197\n",
      "Working on... Taubergießen\n",
      "83696 sum 310 Anzahl backlinks von Taubergießen at 27 / 197\n",
      "Working on... Isergebirge\n",
      "152093 sum 197 Anzahl backlinks von Isergebirge at 28 / 197\n",
      "Working on... Maisach (Amper)\n",
      "14827 sum 48 Anzahl backlinks von Maisach (Amper) at 29 / 197\n",
      "Working on... Geographie der Vereinigten Staaten\n",
      "481528 sum 745 Anzahl backlinks von Geographie der Vereinigten Staaten at 30 / 197\n",
      "Working on... Brauner Bär (Schmetterling)\n",
      "183834 sum 69 Anzahl backlinks von Brauner Bär (Schmetterling) at 31 / 197\n",
      "Working on... Schloss Hagenburg\n",
      "30571 sum 53 Anzahl backlinks von Schloss Hagenburg at 32 / 197\n",
      "Working on... Kohldistel\n",
      "63662 sum 69 Anzahl backlinks von Kohldistel at 33 / 197\n",
      "Working on... Höhlenbrüter\n",
      "63607 sum 59 Anzahl backlinks von Höhlenbrüter at 34 / 197\n",
      "Working on... Bartmeise\n",
      "70574 sum 43 Anzahl backlinks von Bartmeise at 35 / 197\n",
      "Working on... Trauerschnäpper\n",
      "166114 sum 37 Anzahl backlinks von Trauerschnäpper at 36 / 197\n",
      "Working on... Schönberg (Ebringen)\n",
      "42206 sum 189 Anzahl backlinks von Schönberg (Ebringen) at 37 / 197\n",
      "Working on... Pinien-Prozessionsspinner\n",
      "159665 sum 76 Anzahl backlinks von Pinien-Prozessionsspinner at 38 / 197\n",
      "Working on... Kleiner Schillerfalter\n",
      "50433 sum 52 Anzahl backlinks von Kleiner Schillerfalter at 39 / 197\n",
      "Working on... Schnurrvögel\n",
      "27004 sum 67 Anzahl backlinks von Schnurrvögel at 40 / 197\n",
      "Working on... Straßenverkehrslärm\n",
      "107433 sum 120 Anzahl backlinks von Straßenverkehrslärm at 41 / 197\n",
      "Working on... Geographie Deutschlands\n",
      "546973 sum 858 Anzahl backlinks von Geographie Deutschlands at 42 / 197\n",
      "Working on... Lasurmeise\n",
      "30468 sum 27 Anzahl backlinks von Lasurmeise at 43 / 197\n",
      "Working on... Liste der Straßennamen in Ravensburg\n",
      "14498 sum 327 Anzahl backlinks von Liste der Straßennamen in Ravensburg at 44 / 197\n",
      "Working on... Dunenspecht\n",
      "15403 sum 83 Anzahl backlinks von Dunenspecht at 45 / 197\n",
      "Working on... Hans Löhrl\n",
      "4478 sum 41 Anzahl backlinks von Hans Löhrl at 46 / 197\n",
      "Working on... Handschwinge\n",
      "32135 sum 18 Anzahl backlinks von Handschwinge at 47 / 197\n",
      "Working on... Usutu-Virus\n",
      "190325 sum 109 Anzahl backlinks von Usutu-Virus at 48 / 197\n",
      "Working on... Grüner Tropfenastrild\n",
      "5679 sum 57 Anzahl backlinks von Grüner Tropfenastrild at 49 / 197\n",
      "Working on... Grauhäubchenmeise\n",
      "No Data Availible for: Grauhäubchenmeise\n",
      "0 sum 21 Anzahl backlinks von Grauhäubchenmeise at 50 / 197\n",
      "Working on... Meise (Begriffsklärung)\n",
      "6318 sum 14 Anzahl backlinks von Meise (Begriffsklärung) at 51 / 197\n",
      "Working on... Zweitbrut\n",
      "3595 sum 19 Anzahl backlinks von Zweitbrut at 52 / 197\n",
      "Working on... Schwarzkopfmeise\n",
      "56931 sum 21 Anzahl backlinks von Schwarzkopfmeise at 53 / 197\n",
      "Working on... Deutschland\n",
      "44606346 sum 2236 Anzahl backlinks von Deutschland at 54 / 197\n",
      "Working on... Sikora\n",
      "20016 sum 60 Anzahl backlinks von Sikora at 55 / 197\n",
      "Working on... Kokardenspecht\n",
      "6583 sum 58 Anzahl backlinks von Kokardenspecht at 56 / 197\n",
      "Working on... Baumhopfe\n",
      "21122 sum 49 Anzahl backlinks von Baumhopfe at 57 / 197\n",
      "Working on... Borodino-Buntmeise\n",
      "3966 sum 20 Anzahl backlinks von Borodino-Buntmeise at 58 / 197\n",
      "Working on... Buntmeise\n",
      "28237 sum 61 Anzahl backlinks von Buntmeise at 59 / 197\n",
      "Working on... Gebirgsmeise\n",
      "No Data Availible for: Gebirgsmeise\n",
      "0 sum 20 Anzahl backlinks von Gebirgsmeise at 60 / 197\n",
      "Working on... Hudsonmeise\n",
      "13244 sum 40 Anzahl backlinks von Hudsonmeise at 61 / 197\n",
      "Working on... Taiwanmeise\n",
      "11903 sum 29 Anzahl backlinks von Taiwanmeise at 62 / 197\n",
      "Working on... Es rappelt im Karton\n",
      "51752 sum 49 Anzahl backlinks von Es rappelt im Karton at 63 / 197\n",
      "Working on... Liste Ingolstädter Straßennamen\n",
      "23036 sum 917 Anzahl backlinks von Liste Ingolstädter Straßennamen at 64 / 197\n",
      "Working on... Uebachtal\n",
      "2877 sum 156 Anzahl backlinks von Uebachtal at 65 / 197\n",
      "Working on... Montgrí-Massiv\n",
      "6907 sum 57 Anzahl backlinks von Montgrí-Massiv at 66 / 197\n",
      "Working on... Lapplandmeise\n",
      "16062 sum 20 Anzahl backlinks von Lapplandmeise at 67 / 197\n",
      "Working on... Balkanmeise\n",
      "No Data Availible for: Balkanmeise\n",
      "0 sum 27 Anzahl backlinks von Balkanmeise at 68 / 197\n",
      "Working on... Schöndorf (an der Ruwer)\n",
      "22254 sum 194 Anzahl backlinks von Schöndorf (an der Ruwer) at 69 / 197\n",
      "Working on... Alter Friedhof (Gießen)\n",
      "24946 sum 129 Anzahl backlinks von Alter Friedhof (Gießen) at 70 / 197\n",
      "Working on... Liste der Strassennamen von Basel\n",
      "77098 sum 617 Anzahl backlinks von Liste der Strassennamen von Basel at 71 / 197\n",
      "Working on... Pechpfuhl (Ludwigsfelde)\n",
      "8015 sum 83 Anzahl backlinks von Pechpfuhl (Ludwigsfelde) at 72 / 197\n",
      "Working on... Cyanistes\n",
      "12021 sum 33 Anzahl backlinks von Cyanistes at 73 / 197\n",
      "Working on... Liste Planegger Straßennamen\n",
      "4041 sum 97 Anzahl backlinks von Liste Planegger Straßennamen at 74 / 197\n",
      "Working on... Wintergoldhähnchen\n",
      "570737 sum 66 Anzahl backlinks von Wintergoldhähnchen at 75 / 197\n",
      "Working on... Buchsbaumzünsler\n",
      "1623158 sum 92 Anzahl backlinks von Buchsbaumzünsler at 76 / 197\n",
      "Working on... Gleispark Frintrop\n",
      "11178 sum 112 Anzahl backlinks von Gleispark Frintrop at 77 / 197\n",
      "Working on... Meisenknödel\n",
      "60817 sum 21 Anzahl backlinks von Meisenknödel at 78 / 197\n",
      "Working on... Mesenholl\n",
      "4227 sum 57 Anzahl backlinks von Mesenholl at 79 / 197\n",
      "Working on... Naturschutzgebiet Jellen\n",
      "3679 sum 97 Anzahl backlinks von Naturschutzgebiet Jellen at 80 / 197\n",
      "Working on... Katy Trail State Park\n",
      "4469 sum 50 Anzahl backlinks von Katy Trail State Park at 81 / 197\n",
      "Working on... Aegithalos\n",
      "6180 sum 32 Anzahl backlinks von Aegithalos at 82 / 197\n",
      "Working on... Schwanzmeisen\n",
      "44815 sum 47 Anzahl backlinks von Schwanzmeisen at 83 / 197\n",
      "Working on... Parus\n",
      "6491 sum 5 Anzahl backlinks von Parus at 84 / 197\n",
      "Working on... Liste der Hemeraner Straßennamen\n",
      "11104 sum 328 Anzahl backlinks von Liste der Hemeraner Straßennamen at 85 / 197\n",
      "Working on... Rotbrustmeise\n",
      "16195 sum 41 Anzahl backlinks von Rotbrustmeise at 86 / 197\n",
      "Working on... Handbook of the Birds of the World\n",
      "18051 sum 236 Anzahl backlinks von Handbook of the Birds of the World at 87 / 197\n",
      "Working on... Rago-Nationalpark\n",
      "11534 sum 120 Anzahl backlinks von Rago-Nationalpark at 88 / 197\n",
      "Working on... Katavi-Nationalpark\n",
      "13337 sum 800 Anzahl backlinks von Katavi-Nationalpark at 89 / 197\n",
      "Working on... Rudolf Berndt (Ornithologe)\n",
      "3912 sum 33 Anzahl backlinks von Rudolf Berndt (Ornithologe) at 90 / 197\n",
      "Working on... Liste der Straßen in Olpe\n",
      "8927 sum 231 Anzahl backlinks von Liste der Straßen in Olpe at 91 / 197\n",
      "Working on... Hüttensänger\n",
      "62753 sum 111 Anzahl backlinks von Hüttensänger at 92 / 197\n",
      "Working on... Len Howard\n",
      "7859 sum 22 Anzahl backlinks von Len Howard at 93 / 197\n",
      "Working on... Meißwinkel (Kürten)\n",
      "3192 sum 234 Anzahl backlinks von Meißwinkel (Kürten) at 94 / 197\n",
      "Working on... Vogelschutzgehölz Hausener Auwald\n",
      "3818 sum 38 Anzahl backlinks von Vogelschutzgehölz Hausener Auwald at 95 / 197\n",
      "Working on... Meise\n",
      "31032 sum 1 Anzahl backlinks von Meise at 96 / 197\n",
      "Working on... Meisen (Begriffsklärung)\n",
      "6579 sum 9 Anzahl backlinks von Meisen (Begriffsklärung) at 97 / 197\n",
      "Working on... Kurzschwanzspecht\n",
      "4696 sum 34 Anzahl backlinks von Kurzschwanzspecht at 98 / 197\n",
      "Working on... Braunbürzelspecht\n",
      "3085 sum 33 Anzahl backlinks von Braunbürzelspecht at 99 / 197\n",
      "Working on... Dommelspecht\n",
      "3191 sum 31 Anzahl backlinks von Dommelspecht at 100 / 197\n",
      "Working on... Beutelmeisen\n",
      "32538 sum 53 Anzahl backlinks von Beutelmeisen at 101 / 197\n",
      "Working on... Liste der Straßennamen von Burgdorf (Region Hannover)\n",
      "13241 sum 164 Anzahl backlinks von Liste der Straßennamen von Burgdorf (Region Hannover) at 102 / 197\n",
      "Working on... Spechtschaden\n",
      "21588 sum 7 Anzahl backlinks von Spechtschaden at 103 / 197\n",
      "Working on... Burckhardtshöhe\n",
      "4890 sum 115 Anzahl backlinks von Burckhardtshöhe at 104 / 197\n",
      "Working on... Unglückshäher (Gattung)\n",
      "17203 sum 53 Anzahl backlinks von Unglückshäher (Gattung) at 105 / 197\n",
      "Working on... Lilla Lövö\n",
      "3062 sum 18 Anzahl backlinks von Lilla Lövö at 106 / 197\n",
      "Working on... Liste der Wirbeltierarten des Kruger-Nationalparks\n",
      "25753 sum 632 Anzahl backlinks von Liste der Wirbeltierarten des Kruger-Nationalparks at 107 / 197\n",
      "Working on... Europa- und Naturschutzgebiet Gerzkopf\n",
      "3731 sum 105 Anzahl backlinks von Europa- und Naturschutzgebiet Gerzkopf at 108 / 197\n",
      "Working on... Arten des Anhangs I der Vogelschutzrichtlinie der EU\n",
      "55434 sum 251 Anzahl backlinks von Arten des Anhangs I der Vogelschutzrichtlinie der EU at 109 / 197\n",
      "Working on... Liste der Straßen und Plätze in Berlin-Dahlem\n",
      "58459 sum 639 Anzahl backlinks von Liste der Straßen und Plätze in Berlin-Dahlem at 110 / 197\n",
      "Working on... Gordon Bay Provincial Park\n",
      "3106 sum 55 Anzahl backlinks von Gordon Bay Provincial Park at 111 / 197\n",
      "Working on... Groß Zicker\n",
      "16695 sum 27 Anzahl backlinks von Groß Zicker at 112 / 197\n",
      "Working on... Stillleben mit Obstschale, Vögeln und Fensterausblick\n",
      "10964 sum 24 Anzahl backlinks von Stillleben mit Obstschale, Vögeln und Fensterausblick at 113 / 197\n",
      "Working on... Hüttertal\n",
      "19417 sum 188 Anzahl backlinks von Hüttertal at 114 / 197\n",
      "Working on... Henry Whitely\n",
      "4000 sum 83 Anzahl backlinks von Henry Whitely at 115 / 197\n",
      "Working on... Beth Slikas\n",
      "3424 sum 37 Anzahl backlinks von Beth Slikas at 116 / 197\n",
      "Working on... Laasn\n",
      "4859 sum 60 Anzahl backlinks von Laasn at 117 / 197\n",
      "Working on... Gutshaus Friedenfelde\n",
      "5872 sum 59 Anzahl backlinks von Gutshaus Friedenfelde at 118 / 197\n",
      "Working on... Hanko-Halbinsel\n",
      "8889 sum 29 Anzahl backlinks von Hanko-Halbinsel at 119 / 197\n",
      "Working on... Neusser Stadtwald\n",
      "8545 sum 58 Anzahl backlinks von Neusser Stadtwald at 120 / 197\n",
      "Working on... Hellwinkel\n",
      "11672 sum 126 Anzahl backlinks von Hellwinkel at 121 / 197\n",
      "Working on... Josef Prokop Pražák\n",
      "1413 sum 23 Anzahl backlinks von Josef Prokop Pražák at 122 / 197\n",
      "Working on... Liste der Straßen, Plätze und Brücken in Hamburg-Barmbek-Nord\n",
      "19245 sum 277 Anzahl backlinks von Liste der Straßen, Plätze und Brücken in Hamburg-Barmbek-Nord at 123 / 197\n",
      "Working on... Liste der Straßen in Freising\n",
      "14660 sum 294 Anzahl backlinks von Liste der Straßen in Freising at 124 / 197\n",
      "Working on... Prestvannet\n",
      "5577 sum 137 Anzahl backlinks von Prestvannet at 125 / 197\n",
      "Working on... Liste der Straßennamen von Hof\n",
      "19766 sum 247 Anzahl backlinks von Liste der Straßennamen von Hof at 126 / 197\n",
      "Working on... Schwattet Gatt\n",
      "10697 sum 147 Anzahl backlinks von Schwattet Gatt at 127 / 197\n",
      "Working on... Sýkořice\n",
      "4301 sum 130 Anzahl backlinks von Sýkořice at 128 / 197\n",
      "Working on... Liebesinsel (Spree)\n",
      "22743 sum 46 Anzahl backlinks von Liebesinsel (Spree) at 129 / 197\n",
      "Working on... Notchview\n",
      "1999 sum 61 Anzahl backlinks von Notchview at 130 / 197\n",
      "Working on... Liste der Straßennamen von Schwarzenbach an der Saale\n",
      "6684 sum 132 Anzahl backlinks von Liste der Straßennamen von Schwarzenbach an der Saale at 131 / 197\n",
      "Working on... Tibetmeise\n",
      "9182 sum 48 Anzahl backlinks von Tibetmeise at 132 / 197\n",
      "Working on... Liste der Straßen in Selm\n",
      "7282 sum 169 Anzahl backlinks von Liste der Straßen in Selm at 133 / 197\n",
      "Working on... Liste der Straßen in Bergkamen\n",
      "10033 sum 278 Anzahl backlinks von Liste der Straßen in Bergkamen at 134 / 197\n",
      "Working on... Bylerward\n",
      "6116 sum 89 Anzahl backlinks von Bylerward at 135 / 197\n",
      "Working on... Kanarenmeise\n",
      "19397 sum 31 Anzahl backlinks von Kanarenmeise at 136 / 197\n",
      "Working on... Grauhaubenmeise\n",
      "No Data Availible for: Grauhaubenmeise\n",
      "0 sum 42 Anzahl backlinks von Grauhaubenmeise at 137 / 197\n",
      "Working on... Fichtenmeise\n",
      "21767 sum 49 Anzahl backlinks von Fichtenmeise at 138 / 197\n",
      "Working on... Philogène Auguste Galilée Wytsman\n",
      "3248 sum 49 Anzahl backlinks von Philogène Auguste Galilée Wytsman at 139 / 197\n",
      "Working on... Liste der Straßennamen in Solingen (A–H)\n",
      "20795 sum 623 Anzahl backlinks von Liste der Straßennamen in Solingen (A–H) at 140 / 197\n",
      "Working on... Sondernaturschutzgebiet des Parks Burcina\n",
      "2825 sum 51 Anzahl backlinks von Sondernaturschutzgebiet des Parks Burcina at 141 / 197\n",
      "Working on... Liste der Straßennamen in Solingen (R–Z)\n",
      "11816 sum 411 Anzahl backlinks von Liste der Straßennamen in Solingen (R–Z) at 142 / 197\n",
      "Working on... Blochinger Sandwinkel\n",
      "4312 sum 193 Anzahl backlinks von Blochinger Sandwinkel at 143 / 197\n",
      "Working on... Brillenmeise\n",
      "No Data Availible for: Brillenmeise\n",
      "0 sum 28 Anzahl backlinks von Brillenmeise at 144 / 197\n",
      "Working on... Schwarzhäubchenmeise\n",
      "10215 sum 32 Anzahl backlinks von Schwarzhäubchenmeise at 145 / 197\n",
      "Working on... Apodaca Provincial Park\n",
      "2607 sum 43 Anzahl backlinks von Apodaca Provincial Park at 146 / 197\n",
      "Working on... Sultansmeise\n",
      "10947 sum 65 Anzahl backlinks von Sultansmeise at 147 / 197\n",
      "Working on... Sambesi-Rußmeise\n",
      "2011 sum 42 Anzahl backlinks von Sambesi-Rußmeise at 148 / 197\n",
      "Working on... Liste der Straßen in Essen-Burgaltendorf\n",
      "5712 sum 104 Anzahl backlinks von Liste der Straßen in Essen-Burgaltendorf at 149 / 197\n",
      "Working on... Schloss Clerf\n",
      "28083 sum 65 Anzahl backlinks von Schloss Clerf at 150 / 197\n",
      "Working on... Königsmeise\n",
      "9505 sum 47 Anzahl backlinks von Königsmeise at 151 / 197\n",
      "Working on... Liste der Straßen und Plätze in Prohlis\n",
      "3189 sum 186 Anzahl backlinks von Liste der Straßen und Plätze in Prohlis at 152 / 197\n",
      "Working on... Elfenschnäpper (Familie)\n",
      "No Data Availible for: Elfenschnäpper (Familie)\n",
      "0 sum 47 Anzahl backlinks von Elfenschnäpper (Familie) at 153 / 197\n",
      "Working on... Goldhähnchen-Laubsänger\n",
      "11979 sum 127 Anzahl backlinks von Goldhähnchen-Laubsänger at 154 / 197\n",
      "Working on... Bergkohlmeise\n",
      "9040 sum 34 Anzahl backlinks von Bergkohlmeise at 155 / 197\n",
      "Working on... Liste der Straßennamen von Igersheim\n",
      "2944 sum 99 Anzahl backlinks von Liste der Straßennamen von Igersheim at 156 / 197\n",
      "Working on... Weichfresser\n",
      "10222 sum 56 Anzahl backlinks von Weichfresser at 157 / 197\n",
      "Working on... Vogelnest\n",
      "47385 sum 80 Anzahl backlinks von Vogelnest at 158 / 197\n",
      "Working on... Liste der Straßen, Plätze und Brücken in Hamburg-Poppenbüttel\n",
      "4538 sum 171 Anzahl backlinks von Liste der Straßen, Plätze und Brücken in Hamburg-Poppenbüttel at 159 / 197\n",
      "Working on... Raet-Nationalpark\n",
      "2018 sum 68 Anzahl backlinks von Raet-Nationalpark at 160 / 197\n",
      "Working on... Christopher M. Perrins\n",
      "1971 sum 46 Anzahl backlinks von Christopher M. Perrins at 161 / 197\n",
      "Working on... Elizabeth Lack\n",
      "949 sum 27 Anzahl backlinks von Elizabeth Lack at 162 / 197\n",
      "Working on... Stadtwald (Bad Salzuflen)\n",
      "2205 sum 147 Anzahl backlinks von Stadtwald (Bad Salzuflen) at 163 / 197\n",
      "Working on... Suttonella ornithocola\n",
      "22169 sum 36 Anzahl backlinks von Suttonella ornithocola at 164 / 197\n",
      "Working on... Liste der Straßen in Aachen-Mitte\n",
      "13782 sum 906 Anzahl backlinks von Liste der Straßen in Aachen-Mitte at 165 / 197\n",
      "Working on... Liste der Straßen und Plätze in Trier\n",
      "9197 sum 589 Anzahl backlinks von Liste der Straßen und Plätze in Trier at 166 / 197\n",
      "Working on... Hyliotas\n",
      "1025 sum 23 Anzahl backlinks von Hyliotas at 167 / 197\n",
      "Working on... Baumsänger\n",
      "978 sum 26 Anzahl backlinks von Baumsänger at 168 / 197\n",
      "Working on... Tigerzaunkönig\n",
      "1108 sum 66 Anzahl backlinks von Tigerzaunkönig at 169 / 197\n",
      "Working on... Liste der Wappen in der Verbandsgemeinde Ruwer\n",
      "1265 sum 113 Anzahl backlinks von Liste der Wappen in der Verbandsgemeinde Ruwer at 170 / 197\n",
      "Working on... Liste der Straßennamen von Heilbronn\n",
      "798 sum 849 Anzahl backlinks von Liste der Straßennamen von Heilbronn at 171 / 197\n",
      "Working on... Jacques Blondel (Ökologe)\n",
      "575 sum 33 Anzahl backlinks von Jacques Blondel (Ökologe) at 172 / 197\n",
      "Working on... Gipfel des Glockert\n",
      "490 sum 35 Anzahl backlinks von Gipfel des Glockert at 173 / 197\n",
      "Working on... Meißen (Begriffsklärung)\n",
      "7791 sum 27 Anzahl backlinks von Meißen (Begriffsklärung) at 174 / 197\n",
      "Working on... Cebukauz\n",
      "390 sum 52 Anzahl backlinks von Cebukauz at 175 / 197\n",
      "Working on... Vogelbestimmung\n",
      "642 sum 83 Anzahl backlinks von Vogelbestimmung at 176 / 197\n",
      "Working on... Liste der Straßennamen und Ortschaften Klagenfurts\n",
      "829 sum 1420 Anzahl backlinks von Liste der Straßennamen und Ortschaften Klagenfurts at 177 / 197\n",
      "Working on... Kalkklippen der Gobert\n",
      "287 sum 227 Anzahl backlinks von Kalkklippen der Gobert at 178 / 197\n",
      "Working on... Haubenvireo\n",
      "No Data Availible for: Haubenvireo\n",
      "0 sum 32 Anzahl backlinks von Haubenvireo at 179 / 197\n",
      "Working on... Sylviida\n",
      "No Data Availible for: Sylviida\n",
      "0 sum 80 Anzahl backlinks von Sylviida at 180 / 197\n",
      "Working on... Dreifarben-Brillenvanga\n",
      "No Data Availible for: Dreifarben-Brillenvanga\n",
      "0 sum 55 Anzahl backlinks von Dreifarben-Brillenvanga at 181 / 197\n",
      "Working on... Braunstirn-Brillenvanga\n",
      "No Data Availible for: Braunstirn-Brillenvanga\n",
      "0 sum 49 Anzahl backlinks von Braunstirn-Brillenvanga at 182 / 197\n",
      "Working on... Weißmantel-Rußmeise\n",
      "No Data Availible for: Weißmantel-Rußmeise\n",
      "0 sum 36 Anzahl backlinks von Weißmantel-Rußmeise at 183 / 197\n",
      "Working on... Somalirußmeise\n",
      "No Data Availible for: Somalirußmeise\n",
      "0 sum 46 Anzahl backlinks von Somalirußmeise at 184 / 197\n",
      "Working on... Schwarzbrust-Rußmeise\n",
      "No Data Availible for: Schwarzbrust-Rußmeise\n",
      "0 sum 43 Anzahl backlinks von Schwarzbrust-Rußmeise at 185 / 197\n",
      "Working on... Rostkehl-Rußmeise\n",
      "No Data Availible for: Rostkehl-Rußmeise\n",
      "0 sum 35 Anzahl backlinks von Rostkehl-Rußmeise at 186 / 197\n",
      "Working on... Einfarb-Rußmeise\n",
      "No Data Availible for: Einfarb-Rußmeise\n",
      "0 sum 45 Anzahl backlinks von Einfarb-Rußmeise at 187 / 197\n",
      "Working on... Weißschulter-Rußmeise\n",
      "No Data Availible for: Weißschulter-Rußmeise\n",
      "0 sum 44 Anzahl backlinks von Weißschulter-Rußmeise at 188 / 197\n",
      "Working on... Weißflügel-Rußmeise\n",
      "No Data Availible for: Weißflügel-Rußmeise\n",
      "0 sum 48 Anzahl backlinks von Weißflügel-Rußmeise at 189 / 197\n",
      "Working on... Weißbauch-Rußmeise\n",
      "No Data Availible for: Weißbauch-Rußmeise\n",
      "0 sum 41 Anzahl backlinks von Weißbauch-Rußmeise at 190 / 197\n",
      "Working on... Rostbauch-Rußmeise\n",
      "No Data Availible for: Rostbauch-Rußmeise\n",
      "0 sum 46 Anzahl backlinks von Rostbauch-Rußmeise at 191 / 197\n",
      "Working on... Miomborußmeise\n",
      "No Data Availible for: Miomborußmeise\n",
      "0 sum 46 Anzahl backlinks von Miomborußmeise at 192 / 197\n",
      "Working on... Kaprußmeise\n",
      "No Data Availible for: Kaprußmeise\n",
      "0 sum 45 Anzahl backlinks von Kaprußmeise at 193 / 197\n",
      "Working on... Akazienrußmeise\n",
      "No Data Availible for: Akazienrußmeise\n",
      "0 sum 54 Anzahl backlinks von Akazienrußmeise at 194 / 197\n",
      "Working on... Zimtbauch-Rußmeise\n",
      "No Data Availible for: Zimtbauch-Rußmeise\n",
      "0 sum 39 Anzahl backlinks von Zimtbauch-Rußmeise at 195 / 197\n",
      "Working on... Carprußmeise\n",
      "No Data Availible for: Carprußmeise\n",
      "0 sum 48 Anzahl backlinks von Carprußmeise at 196 / 197\n"
     ]
    }
   ],
   "source": [
    "num_link_data = []\n",
    "sumview_data = []\n",
    "for position, entrys in enumerate(filter_all_backlinks):\n",
    "        try:\n",
    "            print(\"Working on...\", entrys )\n",
    "            backlinks = get_links(entrys,\"links\")\n",
    "            num_views = sum(get_views(entrys))\n",
    "            print(num_views,\"sum\" , len(backlinks),\"Anzahl backlinks von\", entrys,\"at\" , position, \"/\", len(filter_all_backlinks))\n",
    "            num_link_data.append([entrys,len(backlinks)]) #savin an array consisting of the article, then the number of all backlinks they have.\n",
    "            sumview_data.append([entrys,num_views]) #saving an array consisting of the Article, then the sum of all views.\n",
    "        except:\n",
    "            pass"
   ],
   "metadata": {
    "collapsed": false
   }
  },
  {
   "cell_type": "code",
   "execution_count": 16,
   "outputs": [],
   "source": [
    "Corr2list = []\n",
    "corrindex = []\n",
    "for e in range(len(num_link_data)):\n",
    "    corrindex.append(num_link_data[e])\n",
    "    Corr2list.append(sumview_data[e])"
   ],
   "metadata": {
    "collapsed": false
   }
  },
  {
   "cell_type": "code",
   "execution_count": 18,
   "outputs": [
    {
     "data": {
      "text/plain": "    main dataframe views  Sum backlinks pageview\n0         Schmetterlinge                 2022546\n1             Buntspecht                 1234583\n2               Bartkauz                  117673\n3               Chibinen                   34148\n4                  Ibiza                 1154938\n..                   ...                     ...\n192       Miomborußmeise                       0\n193          Kaprußmeise                       0\n194      Akazienrußmeise                       0\n195   Zimtbauch-Rußmeise                       0\n196         Carprußmeise                       0\n\n[197 rows x 2 columns]",
      "text/html": "<div>\n<style scoped>\n    .dataframe tbody tr th:only-of-type {\n        vertical-align: middle;\n    }\n\n    .dataframe tbody tr th {\n        vertical-align: top;\n    }\n\n    .dataframe thead th {\n        text-align: right;\n    }\n</style>\n<table border=\"1\" class=\"dataframe\">\n  <thead>\n    <tr style=\"text-align: right;\">\n      <th></th>\n      <th>main dataframe views</th>\n      <th>Sum backlinks pageview</th>\n    </tr>\n  </thead>\n  <tbody>\n    <tr>\n      <th>0</th>\n      <td>Schmetterlinge</td>\n      <td>2022546</td>\n    </tr>\n    <tr>\n      <th>1</th>\n      <td>Buntspecht</td>\n      <td>1234583</td>\n    </tr>\n    <tr>\n      <th>2</th>\n      <td>Bartkauz</td>\n      <td>117673</td>\n    </tr>\n    <tr>\n      <th>3</th>\n      <td>Chibinen</td>\n      <td>34148</td>\n    </tr>\n    <tr>\n      <th>4</th>\n      <td>Ibiza</td>\n      <td>1154938</td>\n    </tr>\n    <tr>\n      <th>...</th>\n      <td>...</td>\n      <td>...</td>\n    </tr>\n    <tr>\n      <th>192</th>\n      <td>Miomborußmeise</td>\n      <td>0</td>\n    </tr>\n    <tr>\n      <th>193</th>\n      <td>Kaprußmeise</td>\n      <td>0</td>\n    </tr>\n    <tr>\n      <th>194</th>\n      <td>Akazienrußmeise</td>\n      <td>0</td>\n    </tr>\n    <tr>\n      <th>195</th>\n      <td>Zimtbauch-Rußmeise</td>\n      <td>0</td>\n    </tr>\n    <tr>\n      <th>196</th>\n      <td>Carprußmeise</td>\n      <td>0</td>\n    </tr>\n  </tbody>\n</table>\n<p>197 rows × 2 columns</p>\n</div>"
     },
     "execution_count": 18,
     "metadata": {},
     "output_type": "execute_result"
    }
   ],
   "source": [
    "corr2 = pd.DataFrame(Corr2list,columns=[\"main dataframe views\",\"Sum backlinks pageview\"])\n",
    "corr2"
   ],
   "metadata": {
    "collapsed": false
   }
  },
  {
   "cell_type": "code",
   "execution_count": null,
   "outputs": [],
   "source": [
    "corr2.corr(method=\"pearson\")"
   ],
   "metadata": {
    "collapsed": false
   }
  },
  {
   "cell_type": "code",
   "execution_count": null,
   "outputs": [],
   "source": [
    "joinedlist = []\n",
    "for e in range(len(num_link_data)):\n",
    "    numbl = num_link_data[e][1]\n",
    "    sumbl = sumview_data[e][1]\n",
    "    joinedlist.append([numbl,sumbl])"
   ],
   "metadata": {
    "collapsed": false
   }
  },
  {
   "cell_type": "code",
   "execution_count": null,
   "outputs": [],
   "source": [
    "joinedlist"
   ],
   "metadata": {
    "collapsed": false
   }
  },
  {
   "cell_type": "code",
   "execution_count": null,
   "outputs": [],
   "source": [
    "joineddf = pd.DataFrame(joinedlist,columns=[\"NumofForwardlinks\",\"Sumviews\"],index=name)\n",
    "joineddf"
   ],
   "metadata": {
    "collapsed": false
   }
  },
  {
   "cell_type": "code",
   "execution_count": null,
   "outputs": [],
   "source": [
    "checklink = \"Kim_Kardashian\" #Type in the Page you want to get more Information of\n",
    "check = filterlinks(get_links(checklink,\"links\"))\n",
    "print( \"these are all forwardlinks of the defined page:\",check)\n",
    "check2 = filterlinks(get_links(checklink,\"linkshere\"))\n",
    "print(\"The Number of Forwardlinks=\", len(check))"
   ],
   "metadata": {
    "collapsed": false
   }
  },
  {
   "cell_type": "code",
   "execution_count": null,
   "outputs": [],
   "source": [
    "joineddf.corr(method=\"pearson\")"
   ],
   "metadata": {
    "collapsed": false
   }
  },
  {
   "cell_type": "code",
   "execution_count": null,
   "outputs": [],
   "source": [
    "#saving the fetched data in csv to save progess\n",
    "dataframe = pd.DataFrame(num_link_data, columns=[\"Page\",\"Backlinks\"])\n",
    "dataframe2 =pd.DataFrame(sumview_data,columns=[\"Page\", \"Sumviews\"])\n",
    "dataframe\n",
    "dataframe2"
   ],
   "metadata": {
    "collapsed": false
   }
  },
  {
   "cell_type": "code",
   "execution_count": null,
   "outputs": [],
   "source": [
    "path = r\"datafiles\\Deutschland\"\n",
    "dataframe.to_csv(path + '/' f'{\"num_backlink_data\"}' + '.csv', index=False)\n",
    "dataframe2.to_csv(path + '/' f'{\"sumview_data\"}' + '.csv', index=False)"
   ],
   "metadata": {
    "collapsed": false
   }
  },
  {
   "cell_type": "code",
   "execution_count": null,
   "outputs": [],
   "source": [
    "backlinks_data_saved = num_backlink_data"
   ],
   "metadata": {
    "collapsed": false
   }
  },
  {
   "cell_type": "code",
   "execution_count": null,
   "outputs": [],
   "source": [
    "print(len(all_main_backlinks))\n",
    "print(len(num_backlink_data))"
   ],
   "metadata": {
    "collapsed": false
   }
  }
 ],
 "metadata": {
  "kernelspec": {
   "display_name": "Python 3",
   "language": "python",
   "name": "python3"
  },
  "language_info": {
   "codemirror_mode": {
    "name": "ipython",
    "version": 2
   },
   "file_extension": ".py",
   "mimetype": "text/x-python",
   "name": "python",
   "nbconvert_exporter": "python",
   "pygments_lexer": "ipython2",
   "version": "2.7.6"
  }
 },
 "nbformat": 4,
 "nbformat_minor": 0
}
