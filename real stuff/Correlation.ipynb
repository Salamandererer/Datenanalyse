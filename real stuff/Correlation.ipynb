{
 "cells": [
  {
   "cell_type": "code",
   "execution_count": 2,
   "metadata": {
    "collapsed": true
   },
   "outputs": [],
   "source": [
    "import glob\n",
    "import os\n",
    "import pandas as pd\n",
    "from linkmethods import get_back_links,get_pageviews, get_target, get_backlink_strings,get_views,filterlinks,get_links"
   ]
  },
  {
   "cell_type": "code",
   "execution_count": 3,
   "outputs": [],
   "source": [
    "article = \"Politikwissenschaft\" #wenn ein : im titel dann bugg"
   ],
   "metadata": {
    "collapsed": false
   }
  },
  {
   "cell_type": "code",
   "execution_count": 4,
   "outputs": [],
   "source": [
    "all_main_backlinks = get_links(article,\"linkshere\") #grab all backlinks from one page"
   ],
   "metadata": {
    "collapsed": false
   }
  },
  {
   "cell_type": "code",
   "execution_count": 5,
   "outputs": [],
   "source": [
    "filter_all_backlinks = filterlinks(all_main_backlinks)\n",
    "df = pd.DataFrame(filter_all_backlinks,columns=[\"backlinks\"]) #filter not neseccary Backlinks from the list and write it to a csv for later use\n",
    "path = fr\"datafiles\\{article}\"\n",
    "try:\n",
    "    os.mkdir(path)\n",
    "except:\n",
    "    pass\n",
    "df.to_csv(path + '/' f'{article}bldata.csv', index=False)"
   ],
   "metadata": {
    "collapsed": false
   }
  },
  {
   "cell_type": "code",
   "execution_count": 6,
   "outputs": [
    {
     "name": "stdout",
     "output_type": "stream",
     "text": [
      "7488\n",
      "7020\n"
     ]
    }
   ],
   "source": [
    "print(len(all_main_backlinks))\n",
    "print((len(filter_all_backlinks)))  #see number that got filtererd"
   ],
   "metadata": {
    "collapsed": false
   }
  },
  {
   "cell_type": "code",
   "execution_count": 16,
   "outputs": [],
   "source": [
    "filter_all_backlinks = pd.read_csv(fr\"datafiles\\{article}\\{article}bldata.csv\") #read the csv from disk\n",
    "filter_all_backlinks = filter_all_backlinks['backlinks'].values.tolist()"
   ],
   "metadata": {
    "collapsed": false
   }
  },
  {
   "cell_type": "markdown",
   "source": [
    "printing all backlinks from article"
   ],
   "metadata": {
    "collapsed": false
   }
  },
  {
   "cell_type": "code",
   "execution_count": 17,
   "outputs": [
    {
     "name": "stdout",
     "output_type": "stream",
     "text": [
      "['Arithmetisches Kodieren', 'Ada Lovelace', 'Awk', 'Algorithmus', 'AutoCAD', 'Anwendungssoftware', 'Assemblersprache', 'Ada (Programmiersprache)', 'Betriebssystem', 'BASIC', 'Byte', 'Berechenbarkeitstheorie', 'Computer', 'Curl (Programmiersprache)', 'C (Programmiersprache)', 'Computerprogramm', 'C++', 'Compiler', 'Chomsky-Hierarchie', 'Daten', 'Dialekt', 'Definition', 'Deutsches Technikmuseum', 'Datei', 'Euklidischer Algorithmus', 'Edsger W. Dijkstra', 'Formale Sprache', 'File', 'Garbage Collection', 'GPL (Begriffsklärung)', 'Hypertext Markup Language', 'Informatik', 'ICQ', 'Julianisches Datum', 'Konstruierte Sprache', 'Komplexe Zahl', 'Lisp', 'LaTeX', 'Mineralogie', 'Monty Python', 'Minix (Betriebssystem)', 'MMIX', 'Makro', 'Maschinensprache', 'Midnight Commander', 'OPENSTEP', 'Niklaus Wirth', 'Negation', 'Oberon (Programmiersprache)', 'Apache OpenOffice', 'Zeittafel der Programmiersprachen', 'Java (Programmiersprache)', 'Plankalkül', 'Perl (Programmiersprache)', 'Prolog (Programmiersprache)', 'Quelltext', 'RSA-Kryptosystem', 'Regulärer Ausdruck', 'Rekursion', 'SNOBOL4', 'Sprache', 'Sprachwissenschaft', 'SQL', 'Digitaler Signalprozessor', 'Skriptsprache', 'Turing Award', 'Turingmaschine', 'TeX', 'Unix', 'World Wide Web', 'Wget', 'XSL Transformation', 'Zwischenablage', '1964', '24. Februar', 'Plansprache', 'At-Zeichen', 'GNU Compiler Collection', 'Code', 'RPM Package Manager', 'Emacs', 'Gödelscher Unvollständigkeitssatz', 'Bill Gates', 'Endlicher Automat', 'Tk (Toolkit)', 'Klasse (Objektorientierung)', 'Mathematische Notation', 'Mozilla Application Suite', 'Galeon', 'Gnome', 'Church-Turing-These', 'CATIA', 'Commodore 128', 'AbiWord', 'Liste von BASIC-Dialekten', 'Polygon', 'Integrierte Entwicklungsumgebung', 'Gzip', 'Eulerkreisproblem', 'Turbo Pascal', 'Dijkstra-Algorithmus', 'Grad (Graphentheorie)', 'Softwareseitiges Multithreading', 'Zusammenhang (Graphentheorie)', 'Potenz (Mathematik)', 'Matching (Graphentheorie)', 'Embarcadero Delphi', 'Interpreter', 'GNUstep', 'Blitz Basic', 'MySQL', 'Präsentationsprogramm', 'Konqueror', 'Opera (Browser)', 'Simple DirectMedia Layer', 'Wine', 'QCad', 'Concurrent Versions System', 'Fragezeichen', 'COBOL', 'Qt (Bibliothek)', 'KDevelop', 'Umgebungsvariable', 'GTK (Programmbibliothek)', 'Make', 'Stapelspeicher', 'Warteschlange (Datenstruktur)', 'Forth (Programmiersprache)', 'Apostroph', 'Webseite', 'Webdesign', 'Syntaxhervorhebung', 'Visual Basic .NET', 'Website', 'Datensatz', 'Samba (Software)', 'PHP-Nuke', 'Lynx (Browser)', 'W3m', 'Links (Browser)', 'Miranda IM', 'Mutt', 'Binärschnittstelle', 'Laufzeitumgebung', 'Programmfehler', 'Heimcomputer', 'Nichts', 'Enterprise-Resource-Planning', 'Emacs Lisp', 'GNU Privacy Guard', 'Db2', 'Pretty Good Privacy', 'Scheme', 'Abstrakte Klasse', 'PhpMyAdmin', 'Objektorientierte Programmierung', 'Quadratwurzel', 'Bjarne Stroustrup', 'Pufferüberlauf', 'PostgreSQL', 'Gambas (Programmiersprache)', 'Desktop-Publishing', 'Adobe Acrobat Reader DC', 'Generische Programmierung', 'Kommandozeile', 'Alt Gr', 'Feld (Datentyp)', 'Algorithmus von Kruskal', 'Bipartiter Graph', 'Namensraum', 'Algorithmus von Prim', 'XnView', 'X Multimedia System', 'Linux Loader', 'ISO 639', 'Apache HTTP Server', 'Sicherheitslücke', 'Arpanet', 'POV-Ray', 'Funktionale Programmierung', 'PostScript', 'Kongruenz (Zahlentheorie)', 'IrfanView', 'Gleichheitszeichen', 'Grace Hopper', 'John Ousterhout', 'Zope (Webanwendungsserver)', 'Amiga Workbench', 'Microsoft Word', 'Datenwort', 'NCSA Mosaic', 'Common Desktop Environment', 'Gnus (Software)', 'Vim', 'SAP MaxDB', 'Java Database Connectivity', 'Tabellenkalkulation', 'Xfce', 'XChat', 'XML-RPC', 'Hercules (Emulator)', 'Information Management System', 'Cheat (Computerspiel)', 'Java-Laufzeitumgebung', 'Java-Anwendung', 'CinePaint', 'Common Gateway Interface', 'Interprozesskommunikation', 'Strukturierte Programmierung', 'Larry Wall', 'Prozess (Informatik)', 'Bytecode', 'Geschichte von Unix', 'Calligra Suite', 'X Window System', 'Common Object Request Broker Architecture', 'Compiere', 'Computersprache', 'Multi Media Extension', 'Et-Zeichen', 'Eiffel (Programmiersprache)', 'Algol 60', 'ALGOL', 'Quake', 'Jakarta Server Pages', 'Brainfuck', 'Mehrfachvererbung', 'Winamp', 'System Management Language', 'Cyc', 'ICab', 'Hash', 'Kognitionswissenschaft', 'Lempel-Ziv-Welch-Algorithmus', 'Großrechner', 'Datentyp', 'Heap (Datenstruktur)', 'The Bat', 'JonDo', 'Theoretische Informatik', 'Exim', 'Webmaster', 'Programmcode', 'Modula-2', 'Höhere Programmiersprache', 'Computersimulation', 'Perl Compatible Regular Expressions', 'XFree86', 'Cluster (Programmiersprache)', 'Polarkoordinaten', 'Huffman-Kodierung', 'Ken Thompson', 'ABAP', 'LAMP (Softwarepaket)', 'Einerkomplement', 'Gleitkommazahl', 'APL (Programmiersprache)', 'Attribut (Programmierung)', 'Clippingebene', 'DirectX', 'Software Development Kit', 'Datenformat', 'Microsoft Office', 'Eclipse (IDE)', 'OpenGL', 'Qmail', 'Junktor', 'Fluxbox', 'Enlightenment', 'Tupel', 'StarOffice', 'RPG (Programmiersprache)', 'OpenSSH', 'Rekursive Programmierung', 'Schleife (Programmierung)', 'Kontrollstruktur', 'Dennis Ritchie', 'Brian W. Kernighan', 'Datenstrom', 'Web Services Description Language', 'QuickTime', 'Monosemantik', 'Window Maker', 'Wort (theoretische Informatik)', 'Sierpinski-Dreieck', 'Eins', 'James Gosling', 'Einstellige Verknüpfung', 'Auszeichnungssprache', 'Char (Datentyp)', 'MLDonkey', 'ScummVM', 'JEdit', 'JUnit', 'Standard Widget Toolkit', 'Autocoder', 'Free Pascal', 'Blender (Software)', 'Unix-Shell', 'Kalkül', 'AutoLISP', 'IceWM', 'Datenbanktrigger', 'Steam', 'Zugriffsrecht', 'Hallo-Welt-Programm', 'Hybridsprache', 'Zirkumflex', 'Basic Combined Programming Language', 'Imperative Programmierung', 'Just-in-time-Kompilierung', 'Bugzilla', 'Palm OS', 'Voronoi-Diagramm', 'AOL Instant Messenger', 'Slrn', 'JBuilder', 'Gaußsches Eliminationsverfahren', 'Boolean', 'Datenbankschnittstelle', 'Opa', 'YaST', 'Aspektorientierte Programmierung', 'Commodore BASIC', 'ABCDE (Audiosoftware)', 'Esoterische Programmiersprache', 'DBASE', 'MPlayer', 'Liste von Webbrowsern', 'Porter-Stemmer-Algorithmus', 'Zufallszahlengenerator', 'Netzwerkdatenbankmodell', 'Microsoft SQL Server', 'Alfred V. Aho', 'Eingebettetes System', 'Trillian', 'Constraint', 'Softwaretechnik', 'Mesa 3D', 'Geograf (CAD)', 'Amaya (Browser)', 'Adobe Dreamweaver', 'ASP.NET', 'BibTeX', 'Mono (Software)', 'Free Lossless Audio Codec', 'Bzip2', 'Sylpheed', 'OSGi', 'Sinclair QL', 'EMule', 'Visuelle Programmierumgebung', 'Spacewar!', 'Ghostscript', 'Liste von Programmiersprachen', 'Parser', 'GRASS GIS', 'Squeak', 'Common Unix Printing System', 'Grand Unified Bootloader', 'Windows Live Messenger', 'KWin', 'Partitioned Data Set', 'Plattform (Computer)', 'Baum (Graphentheorie)', 'Schlüsselwort (Programmierung)', 'UPX', 'Konstruktoren und Destruktoren', 'Combobox', 'Schrägstrich', 'FVWM', 'Motif', 'Look and Feel', 'Listenfeld', 'Erweiterter euklidischer Algorithmus', 'Bildlaufleiste', 'OpenCms', 'Diffie-Hellman-Schlüsselaustausch', 'Programmierparadigma', 'Kontextfreie Grammatik', 'GNU-C-Bibliothek', 'Plone', 'Netzjargon', 'Kontextfreie Sprache', 'Cross-Site-Scripting', 'Alan J. Perlis', 'OpenAL', 'WxWidgets', 'B-Baum', 'NetHack', 'Microsoft Outlook', 'Varianten der Programmiersprache C', 'C-Standard-Bibliothek', 'Sprunganweisung', 'Referenzparameter', 'Namensparameter', 'Parameter (Informatik)', 'Dillo', 'MIDlet', 'Firebird (Datenbank)', 'LPC (Programmiersprache)', 'GW-BASIC', 'Wertergebnisparameter', 'Cubase', 'Lotus 1-2-3', 'Tin (Newsreader)', 'Nassi-Shneiderman-Diagramm', 'Koch-Kurve', 'Bochs', 'SpamAssassin', 'LOOP-Programm', 'Ackermannfunktion', 'Rucksackproblem', 'Automatentheorie', 'Methode (Programmierung)', 'Assertion (Informatik)', 'FrameMaker', '4th Dimension', 'Eye-Tracking', 'HotSpot', 'HCL Notes', 'Groff', 'Charles H. Moore', 'Unterprogramm', 'Courier Mail Server', 'MoinMoin (Software)', 'Modulare Programmierung', 'Diet libc', 'Prozedurale Programmierung', 'Cc65', 'ITunes', 'PhpBB', 'Cinema 4D', 'Adobe Director', 'Shareaza', 'Horn-Formel', 'BIND', 'Safari (Browser)', 'Nmap', 'KHTML', 'Tiefensuche', 'Skype', 'WSJT', 'SOGo', 'Apache Ant', 'Clarion (Programmiersprache)', 'ChatZilla', 'MUMPS', 'Visual Studio', 'Mozilla Thunderbird', 'Pegasus Mail', 'ActionScript', 'LAME', 'Omikron', 'Maclisp', 'Common Lisp', 'WebObjects', 'LilyPond', 'Apache Subversion', 'Hamming-Code', 'Modul (Software)', 'Semikolon', 'Shannon-Fano-Kodierung', 'Jana (Informatik)', 'Gnome Web', 'Logo (Programmiersprache)', 'Transputer', 'Occam', 'Microsoft Internet Information Services', 'Xvid', 'BSCW', 'Breitensuche', 'HotJava', 'Funktion (Programmierung)', 'Ausrufezeichen', 'Spieleentwickler', 'Datenkapselung (Programmierung)', 'Programmablaufplan', 'Metasprache', 'Mutex', 'Denotationelle Semantik', 'Gecko (Software)', 'GNU Debugger', 'Kontact', 'Agner Krarup Erlang', 'Auslassungspunkte', 'Gespeicherte Prozedur', 'Microsoft Dynamics 365 Business Central', 'Turing-Vollständigkeit', 'PostNuke', 'RPG Maker', 'Reverse Polish LISP', 'Parallel Virtual Machine', 'GNU Make', 'Smarty', 'Maya (Software)', 'NetBeans IDE', 'Rsync', 'Parrot', 'GNUnet', 'Mambo (CMS)', 'Leerraum', 'ArchiCAD', 'John G. Kemeny', 'Adobe InDesign', 'FFmpeg', 'KC compact', 'Drucker (Gerät)', 'Adobe Flash', 'COMAL', 'Struts', 'GiFT', 'Xpdf', 'IFolder', 'Quine (Computerprogramm)', 'Z shell', 'Objective CAML', 'Universal Automatic Calculator', 'Schnittstellenbeschreibungssprache', 'GIMP', 'Matlab', 'Djbdns', 'Simula', 'Xine', 'MUTE', 'Migration (Informationstechnik)', 'Sendmail', 'ELAN (Programmiersprache)', 'Oz (Programmiersprache)', 'Prozedur (Programmierung)', 'Polymorphie (Programmierung)', 'Log4j', 'Schnittstelle (Objektorientierung)', 'PSYCED', 'Common Language Infrastructure', 'Common Language Specification', 'Fetchmail', 'GAP (Software)', 'Kompositum (Entwurfsmuster)', 'Microchip AVR', 'Zeiger (Informatik)', 'Mathematica', 'Programmbibliothek', 'Literal', 'Computermusik', 'Socket (Software)', 'Reason (Software)', 'Dirac (Videoformat)', 'Berkeley Open Infrastructure for Network Computing', 'Multi Router Traffic Grapher', 'Cocoa (API)', 'Postfix (Mail Transfer Agent)', 'YaBasic', 'YafaRay', 'MiKTeX', 'Data Definition Language', 'KPhone', 'Heinz Zemanek', 'Io (Programmiersprache)', 'Netwide Assembler', 'Inform', 'Maschinelle Übersetzung', 'Codegenerator', 'Revision Control System', 'Bresenham-Algorithmus', 'Ipfw', 'Blackbox (Fenstermanager)', 'Arkustangens und Arkuskotangens', 'Graph (Graphentheorie)', 'AMule', 'Gtk-gnutella', 'AppleWorks', '3ds Max', 'Advanced Packaging Tool', 'Shiira', 'Blackdown Java', 'OpenVPN', 'Checkbox', 'Bellman-Ford-Algorithmus', 'Kongruenzgenerator', 'Apache Cocoon', 'Inverser Kongruenzgenerator', 'Typumwandlung', 'Pkgsrc', 'PuTTY', 'Cygwin', 'GFA-BASIC', 'Textfeld', 'Vergleichsoperator', 'Sprachfertigkeit', 'Zufallszahl', 'Box-Muller-Methode', 'Polar-Methode', 'Moodle', 'JACK Audio Connection Kit', 'Ardour', 'Squid', 'PostGIS', 'Cubic IDE', 'Derive', 'HP 48', 'Backslash', 'Kodi (Software)', 'Referenz (Programmierung)', 'Zend Engine', 'Mycin (Expertensystem)', 'Polnische Notation', 'Drupal', 'LaTeX2html', 'LabVIEW', 'Open Programming Language', 'Kontaktplan', 'Advanced Linux Sound Architecture', 'Dylan (Programmiersprache)', 'WS-Flow Language', 'LimeWire', 'Klammer (Zeichen)', 'Modellgetriebene Architektur', 'Abandonware', 'Common Warehouse Metamodel', 'MAME', 'Xoops', 'ObjectiF', 'Distcc', 'Kommentar (Programmierung)', 'Visual C++', 'MegaCAD', 'Überladen', 'Just another Perl hacker', 'EXtensible Open Router Platform', 'The Sword Project', 'R (Programmiersprache)', 'UseModWiki', 'JOGL', 'Ettercap', 'Minuszeichen', 'CHILL', 'Ncurses', 'K-Meleon', 'Fenster (Computer)', 'Malbolge', 'Anonyme Funktion', 'Bezeichner', 'Majordomo', 'Customer Information Control System', 'Nichtproportionale Schriftart', 'Allegro (Programmbibliothek)', 'Evolution (Software)', 'Datenfluss', 'PILOT', 'Portal:Informatik', 'TeamSpeak', 'Soulseek', 'Rhino (Programmierung)', 'John the Ripper', 'WinRAR', 'Zählen', 'For-Schleife', 'Sodipodi', 'JDOM', 'OpenSSL', 'Windows Installer XML', 'Guido van Rossum', 'Foobar2000', 'Linphone', 'Open PC Server Integration', '$', 'Apache Tomcat', 'Springerproblem', 'MinGW', 'Ingres (Datenbanksystem)', 'Kaffeine', 'CrossOver', 'Eggdrop', 'Algorithmus von Floyd und Warshall', 'Quanta Plus', 'Sobel-Operator', 'Vererbung (Programmierung)', 'Groovy', 'Radiobutton', 'Plucker', 'Pidgin (Instant Messenger)', 'Doclet', 'Sudo', 'Rückruffunktion', 'Formular', 'PearPC', 'Positionswinkel', 'Pseudozufall', 'Entwurf integrierter Schaltungen', 'SharpDevelop', 'Parallele Programmierung', 'Erlang (Programmiersprache)', 'Laufzeitbibliothek', 'Friedrich L. Bauer', 'MonoDevelop', 'CODASYL', 'Natural (Programmiersprache)', 'ISO 646', 'Norton Commander', 'SQLite', 'WavPack', 'Bedingte Anweisung und Verzweigung', 'Datenbanksprache', 'CL (Programmiersprache)', 'Syntaxdiagramm', 'Inkscape', 'Partitionsproblem', 'Yellowdog Updater, Modified', 'MuPAD', 'Snort', 'Rhythmbox', 'Pan (Newsreader)', 'Clipper (Programmiersprache)', 'Threadsicherheit', 'Baum (Datenstruktur)', 'Mozilla Sunbird', 'Xbase++', 'OpenGL Shading Language', 'Lazarus (Entwicklungsumgebung)', 'PHProjekt', 'Effizienz (Informatik)', 'ImageMagick', 'Ausdruck (Programmierung)', 'Support Vector Machine', 'VLC media player', 'Kataphorik', 'Nutch', 'Metazeichen', 'Microsoft Exchange Server', 'Ffdshow', 'Contenido', 'Icecast', 'PROGRES', 'PL', 'Mozilla Camino', 'Asterisk (Telefonanlage)', 'BitlBee', 'Produktionsregel', 'RRDtool', 'Project Looking Glass', 'Celestia', 'GNU Aspell', 'D (Programmiersprache)', 'Graphical Kernel System', 'Visuelle Programmiersprache', 'Enigmail', 'Serviceorientierte Architektur', 'V8 (JavaScript-Implementierung)', 'Reflexion (Programmierung)', 'Gnuplot', 'Irssi', 'Cyclone (Programmiersprache)', 'Jakarta Faces', 'Apache Portable Runtime', 'O’Reilly Verlag', 'Cooperative Linux', 'HuffYUV', 'GNU Octave', 'Adobe Premiere', 'WildFly', 'Syntaxfehler', 'MEncoder', 'GNU Scientific Library', 'FileZilla', '4GL', 'Liste bedeutender Personen für die Informatik', 'Adium', 'AviSynth', 'Cmd.exe', 'Praktische Informatik', 'Dia (Software)', 'Escape-Sequenz', 'Markt+Technik Verlag', 'Vuze', 'Gray-Code', 'Maxima (Computeralgebrasystem)', 'Miranda (Programmiersprache)', 'BlueJ', 'Udev', 'Symbolleiste', 'LINPACK', 'Householdertransformation', 'Turtle-Grafik', 'VirtualDub', 'PC 1715', 'Logischer Operator', 'XL (XML-Programmiersprache)', 'Skalare Variable', 'QEMU', 'Impulse Tracker', 'CorelDraw Graphics Suite', 'IPFilter', 'Tor (Netzwerk)', 'Mellel', 'Dynamische Typisierung', 'MESS', 'GEDA (Software)', 'Logic Pro', 'Strukturierter Text', 'Gnumeric', 'Yacc', 'Ressource (Software)', 'OsCommerce', 'DOSBox', 'SAP NetWeaver Business Intelligence', 'Linux-VServer', 'Visicalc', 'Scribus', 'MIRC', 'Lightweight Java Game Library', 'Winny', 'Arachne (Browser)', 'Java Naming and Directory Interface', 'CURL', 'Kile (Software)', 'Kate (Texteditor)', 'KWrite', 'Adobe Fireworks', 'KSnapshot', 'DigiKam', 'Gwenview', 'KmPlot', 'KStars', 'Kalzium (KDE)', 'TrueCrypt', 'Amarok (Software)', 'Kopete', 'KJots', 'PmWiki', 'Fast Light Toolkit', 'Jeskola Buzz', 'JCreator', 'Seymour Papert', 'C-Control', 'GLib', 'Objektcode', 'Informix', 'CBM-500-Serie', 'CBM-600-Serie', 'CBM-700-Serie', 'Sternchen (Schriftzeichen)', 'Scala (Programmiersprache)', 'Captive (Dateisystem)', 'XeTeX', 'TeXShop', 'Umrechnung zwischen julianischem Datum und gregorianischem Kalender', 'OpenMP', 'Tiki (Software)', 'Starke Typisierung', 'Typisierung (Informatik)', 'Statische Typisierung', 'Typsicherheit', 'Anwendungssystem', 'Maxthon', 'DC++', 'Terragen', 'SnipSnap', 'NeoOffice', 'Joe Armstrong (Informatiker)', 'JavaCC', 'Smart Package Manager', 'Beagle (Software)', 'Ekiga', 'SIM Instant Messenger', 'Nice (Programmiersprache)', 'ARexx', 'Unreal Engine', 'IWork', 'Window manager improved', 'Jini', 'Jetty (Webserver)', 'Common Lisp Object System', 'InnoDB', 'Parallel Random Access Machine', 'Cactus (Framework)', 'FreeType', 'Deque', 'OpenLDAP', 'GObject', 'K3b', 'Zinf', 'FreeBASIC', 'LiveJournal', 'Menü (Computer)', 'FL Studio', 'WaveLab', 'I2P', 'Aircrack', 'Auswertung (Informatik)', 'Keycode', 'PowerBuilder', 'GNU Screen', 'LabPlot', 'NASA World Wind', 'Troff', 'BootCD', 'ARts', 'Kolab', 'Rdesktop', 'MythTV', 'Sibelius (Software)', 'JuK', 'Konsole (KDE)', 'Kompare', 'High Level Shading Language', 'Mathcad', 'Xterm', 'Axiom (Software)', 'Cross-Cutting Concern', 'Multimediatechnik', 'Hibernate (Framework)', 'Intentionale Programmierung', 'Liste der Mozilla-Produkte', 'DOTLAN', 'Total Commander', 'Morpheus (Filesharing-Client)', 'Audacity', 'WxPython', 'Vorlage:Infobox Software', 'International Conference on Functional Programming Contest', 'Adobe Acrobat', 'WorldWideWeb', 'Tkinter', 'Flag (Informatik)', 'Freenet (Software)', 'Algol 68', 'GNU Mailman', 'Floodfill', 'TR 440', 'Mozilla Minimo', 'Maschinensemantik', 'Xen', 'Kenneth E. Iverson', 'Java Development Kit', 'Bluebottle', 'Mark Overmars', 'Coreboot', 'WordPress', 'Rosegarden', 'Finale (Software)', 'Borland Quattro Pro', 'Programmiermodell', 'Stern (Geometrie)', 'POKE und PEEK', 'Licq', 'Integer (Datentyp)', 'Automatically Programmed Tools', 'SeaMonkey', 'GNU Compiler for Java', 'Jikes', 'Message Oriented Middleware', 'Active Oberon', 'Kismet (Sniffer)', 'Instruktion', 'AxCrypt', 'Quelltextformatierung', 'Programmierstil', 'ADOdb', 'Doxygen', 'Variable (Programmierung)', 'Apache Axis', 'KSysguard', 'KPDF', 'KGet', 'Nagios', 'Media Player Classic', 'NLite', 'GpsDrive', 'Gary Kildall', 'LiteStep', 'Apache Tapestry', 'Autopackage', 'Orbiter (Simulator)', 'CDex', 'Einzelwissenschaft', 'ASURO', 'Direct-Digital-Control-Gebäudeautomation', 'Xmgrace', 'Pugs', 'Apache Lucene', 'Adobe After Effects', 'Pythagoras-Baum', 'SugarCRM', 'Tesseract (Software)', 'Funktionsprototyp', 'Apache Portals', 'Climm', 'Psi (Instant Messenger)', 'Standard Commands for Programmable Instruments', 'Medienkunst', 'JSPWiki', 'TAL (Programmiersprache)', 'Windows Script Host', 'HMailServer', 'Knowledge Query and Manipulation Language', 'SAP NetWeaver Application Server', 'Factor', 'Embedded Java', 'Git', 'Grip (Ripper)', 'Boo (Programmiersprache)', 'PCSX2', 'LHa (Kompressionsprogramm)', 'Komponente (Software)', 'P7zip', 'Visual Basic Classic', 'MapInfo', 'Anaconda (Software)', 'Mixminion', 'PyObjC', 'Bluefish', 'WebKit', 'Apache Lenya', 'Bahn (Simulation)', 'Oracle (Datenbanksystem)', 'Ausgabe (Computer)', 'James Rumbaugh', 'FLOW-MATIC', 'Avant Browser', 'Vegas Pro', 'Processing', 'FastTracker', 'LyX', 'StarDict', 'T.A.G.', 'Message Mapping', 'Hough-Transformation', 'KeePass', 'Xojo', 'Stata', 'Ruby on Rails', 'PeerGuardian', 'CppUnit', 'Ableton Live', 'OpenLaszlo', 'GOCR', 'Hardwarebeschreibungssprache', 'Cyrus (Server)', 'ClamAV', 'Twm', 'BASICODE', 'VBulletin', 'Yet Another Mailer', 'SheepShaver', 'DotNetNuke', 'GPSS', 'Lingo (Programmiersprache)', 'Shockwave', 'OLAT', 'Wireshark', 'Colloquy', 'Open Dynamics Engine', 'Tencent QQ', 'Rochade Repository', 'GnuCash', 'Codesys', 'Textpattern', 'IntarS', 'GNU Classpath', 'BitComet', 'Zugriffsmodifikator', 'Rainlendar', 'WS-Business Process Execution Language', 'GCompris', 'Portal:Konstruierte Sprachen', 'ReStructuredText', 'WikkaWiki', 'Liste der Datenbankmanagementsysteme', 'C++-Standardbibliothek', 'Peter Naur', 'Anjuta (Software)', 'Stuttgart Neural Network Simulator', 'HSQLDB', 'Thompson-Shell', 'GEOFOX', 'FTP Voyager', 'Jakarta XML Binding', 'Unäres Minus', 'CLISP', 'Eckart Modrow', 'HTBasic', 'SubSeven', 'Kolophon (Schriftstück)', 'WoltLab Burning Board', 'Finder (Mac)', 'OTRS', 'Eudora (Software)', 'Papaya CMS', 'NUnit', 'PowerShell', 'CruiseControl', 'JavaScript Object Notation', 'Apache MyFaces', 'Source (Spiel-Engine)', 'Malzeichen', 'Gajim', 'Università della Svizzera italiana', 'Bc (Unix)', 'Raycasting', '4DOS', 'X264', 'Inflektiv', 'Self (Programmiersprache)', 'Xmltv', 'BitKeeper', 'Stud.IP', 'MyCoRe', 'Off-the-Record Messaging', 'Google Earth', 'Advanced Maryland Automatic Network Disk Archiver', 'MPEG Audio Decoder', 'FreeMind', 'Kristen Nygaard', 'WinSCP', 'WEB (Programmiersprache)', 'GPE Palmtop Environment', 'TinyOS', 'NC-Management-System', 'Serendipity (Software)', 'Zugriffsfunktion', 'Lx-Office', 'Senkrechter Strich', 'Java-Technologie', 'Stratagus', 'Nullsoft Scriptable Install System', 'AfterStep', 'Verbund (Datentyp)', 'MetaPost', 'TeXnicCenter', 'KVIrc', 'Arctan2', 'Tabelle virtueller Methoden', 'Scilab', 'X.Org-Server', 'Informationssicherheit', 'Horde (Framework)', 'Crystal Space', 'Lightning (Software)', 'Wirtschaftsinformatik', 'Nautilus (Dateimanager)', 'Mod python', 'Apache Flex', 'Hugin (Software)', 'Graphviz', 'InitNG', 'Apache POI', 'SR (Programmiersprache)', 'Valgrind', 'Adblock Plus', 'ClanLib', 'EXtended FDisk', 'YaCy', 'XProfan', 'Xerces', 'Apache Geronimo', 'Basilisk II', 'Alien (Software)', 'ANTLR', '.NET Compact Framework', 'Coppermine Photo Gallery', 'Adventure Game Studio', 'ArcGIS', 'Adobe GoLive', 'GNU Common Lisp', 'CMU Common Lisp', 'Slate (Programmiersprache)', 'Tarkin', 'Operatorrangfolge', 'Operatorassoziativität', 'GNU Multiple Precision Arithmetic Library', 'Streamripper', 'Apache XMLBeans', 'DV-Konzept', 'Simple Machines Forum', 'AutoIt', 'Affenformular', 'Mapbender', 'ILIAS', 'InterNational Committee for Information Technology Standards', 'Cairo (Grafikbibliothek)', 'Aptitude', 'GKrellM', 'Datentechnischer Assistent', 'ImageJ', 'Beep Media Player', 'Visual Objects', 'PDFCreator', 'Gnome Videos', 'XLISP', 'LIRC', 'SharePoint', 'Union-Find-Struktur', 'CMSimple', 'Apache James', 'Apache Maven', 'Webmin', 'GNU Go', 'Earley-Algorithmus', 'Joomla', 'Stellarium', 'Metacity', 'R:Base', 'Runtime Type Information', 'GLX', 'CRUD', 'Strongtalk', 'QuteCom', 'KTorrent', 'DarkBASIC', 'Werbeblocker', 'OpenCV', 'DScaler', 'Atari-Heimcomputer', 'Application Response Measurement', '4images', 'Future (Programmierung)', 'DoJa', 'PowerBASIC', 'XEmacs', 'Cinelerra', 'Krusader', 'Catalyst Web Framework', 'GD Library', 'SabreTalk', 'Jahshaka', 'Strobe', 'Vienna Definition Language', 'FontForge', 'Kazehakase', 'StrongSwan', 'Fully Automatic Installation', 'Mantis Bug Tracker', 'Arithmetischer Überlauf', 'Scanner Access Now Easy', 'GnuTLS', 'Notensatzprogramm', 'FrostWire', 'Teile-und-herrsche-Verfahren', 'Code::Blocks', 'Paint.NET', 'Berkeley DB', 'Greasemonkey', 'Sprechender Name', 'Intelligenter Zeiger', 'Nero Burning ROM', 'NinJo', 'Fink (Software)', 'LAPACK', 'Basic Linear Algebra Subprograms', 'Nucleus CMS', 'WinPcap', 'Interactive Disassembler', 'PEARL', 'Elektra (Software)', 'GStreamer', 'Wilcoxon-Mann-Whitney-Test', 'Orwell Dev-C++', 'Spring (Framework)', 'Dependency Injection', 'Euphoria (Programmiersprache)', 'Maple (Software)', 'CVSup', 'GNU Guile', 'FlexWiki', 'Aperture (Software)', 'BRL-CAD', 'Steuerelement', 'Normierte Programmierung', 'Automatically Tuned Linear Algebra Software', 'LDAP Account Manager', 'PunBB', 'ISWIM', 'Loadlin', 'Ernst-Rüdiger Olderog', 'BibDesk', 'EGroupware', 'Redaxo', 'Template-Toolkit', 'Unison (Software)', 'Spieleprogrammierung', 'International Obfuscated C Code Contest', 'GanttProject', 'FreeTTS', 'Retronym', 'Datenfeld', 'CodeWarrior', 'Pacbase', 'OGRE', 'Ability Office', 'Dislin', 'Flat Assembler', 'PhpPgAdmin', 'Typinferenz', 'Ezmlm', 'Tcpdump', 'Domänenspezifische Sprache', 'Template-Engine', 'Libavcodec', 'Taxbird', 'TaskJuggler', 'Geschichte der Programmiersprachen', 'Iptables', 'Netfilter', 'Directory Opus', 'GNU gettext', 'EAccelerator', 'Mercury (Programmiersprache)', 'Darwine', 'QtiPlot', 'HTL Donaustadt', 'MacPaint', 'Isabelle (Theorembeweiser)', 'PowerDNS', 'Typentheorie', 'Libdvdcss', 'ΜTorrent', 'MacDraw', 'CrypTool', 'NetBus', 'Saxon (Software)', 'Krita', 'Sun Java Desktop', 'Batik (Software)', 'E-Mail-Injection', 'SSMTP', 'Shorewall', 'Nationale Wertungszahl', 'D-Bus', 'Gedit', 'Datalog', 'Namenskonvention (Datenverarbeitung)', 'DRBD', 'Rxvt', 'Urxvt', 'Corel Photo-Paint', 'GNUstepWeb', 'Ares Galaxy', 'Xalan', 'BitchX', 'Liferea', 'Laborautomatisierung', 'Lout', 'STOS BASIC', 'Business Basic', 'Gnash (Software)', 'Lustre (Programmiersprache)', 'Synchrone Programmiersprache', 'GvSIG', 'ABC (Yet Another BitTorrent Client)', 'Flock (Browser)', 'OpenEXR', 'Lego Spybotics', 'Nodezilla', 'Mozilla Firefox', 'Dovecot', 'Punktrechnung vor Strichrechnung', 'ADbasic', 'Strikte Funktion', 'Niki – der Roboter', 'Jed', 'Phex', 'Object Constraint Language', 'Optimized Systems Software', 'Obfuscated Perl Contest', 'System i', 'Syslog-ng', 'Picasa', 'Apache Derby', 'Single European Sky', 'XBoard', 'HTML Tidy', 'Syntaktischer Zucker', 'Annotation (Java)', 'UClibc', 'Xgl', 'SAS Institute', 'Praat', 'Pause (Tastatur)', 'Blum-Blum-Shub-Generator', 'FastStone Image Viewer', 'Arden-Syntax', 'Zusicherung (Softwaretechnik)', 'TWiki', 'VICE', 'Jelly', 'User Defined Function', 'PhpMyForum', 'JNode', 'EyeOS', 'Semantische Lücke', 'Quagga (Software)', 'Volkov Commander', 'Objekt (Programmierung)', 'Liste objektorientierter Programmiersprachen', 'TI-83', 'Notepad++', 'Adobe Photoshop Lightroom', 'Alfresco (Software)', 'DSpace (Software)', 'TI-Basic', 'ProFTPD', 'Siemens 2002', 'Compiz', 'Spring (Engine)', 'PepperShop', 'Gnucleus', 'Statusleiste', 'TIBCO', 'MMDF', 'PHP-Fusion', 'AppImage', 'DarkPlaces', 'Systeminformatiker', 'SAP ERP', 'Konversation (IRC-Client)', 'Phonon (KDE)', 'Bottom-up-Parser', 'DJGPP', 'Reinhard Wilhelm', 'Generic Mapping Tools', 'Java Command Language', 'Stackless Python', 'Selbstmodifizierender Code', 'WebERP', 'Datenelement', 'Operation Center', 'Adobe Photoshop Elements', 'Spybot – Search & Destroy', 'Xara Designer Pro', 'Twinkle (Software)', 'Rockbox', 'SquirrelMail', 'Darcs', 'Dc (Unix)', 'Coccinella (Instant Messenger)', 'Gobby', 'Manfred Broy', 'Katapult (KDE)', 'Pacemaker', 'Internet Messaging Program', 'Procmail', 'Pro Tools', 'Salome (Software)', 'Open CASCADE Technology', 'OpenFOAM', 'Google Desktop', 'CryEngine', 'Adobe ImageReady', 'TV-Browser', 'Launchpad', 'CLU (Programmiersprache)', 'Evince', 'MFchi', 'Dos Navigator', 'Propel', 'Irrlicht (Engine)', 'Lines of Code', 'Anti-Pattern', 'Lighttpd', 'Jeannette Wing', 'Pastebin', 'Less (Unix)', 'ACE (Java-Texteditor)', 'OrCAD', 'Singular (Computeralgebrasystem)', 'Pound (Software)', 'Adriaan van Wijngaarden', 'JabRef', 'Liste von integrierten Entwicklungsumgebungen', 'Pocket Viewer', 'Tandy TRS-80 Color Computer', 'OWBasic', 'XULRunner', 'WinPT', 'Grundkurs Computerpraxis', 'Cdrtools', 'Ghemical', 'ProGuard', 'GAUSSIAN', 'Fujaba', 'TED Notepad', 'Omikron BASIC', 'SAP GUI', 'Menge (Datenstruktur)', 'Adventure Game Interpreter', 'Semantic MediaWiki', 'Vpopmail', 'OpenSync', 'HTTrack Website Copier', 'Score Perfect', 'ZoneMinder', 'WebsiteBaker', 'IntelliJ IDEA', 'Hydrogen (Software)', 'BitTorrent (Client)', 'Turing (Programmiersprache)', 'EmelFM2', 'SCons', 'Widelands', 'GAUSS (Software)', 'Webalizer', 'Tokenisierung', 'Aria (Software)', 'Privoxy', 'Rational Synergy', 'Superintelligenz', 'Idiom (Softwaretechnik)', 'FAR Manager', 'Omnis', 'BlindWrite', 'SpeedFan', 'Vorschubgeschwindigkeit', 'Sakai (Software)', 'Acme (Texteditor)', 'AppArmor', 'Statische Code-Analyse', 'OCAD (Software)', 'Google Web Toolkit', 'TTCN-3', 'Mesa (Programmiersprache)', 'Trac', 'MyBB', 'G4L', 'Quiet Internet Pager', 'OpenDBX', 'Glade (Programmierwerkzeug)', 'FotoWorks XL', 'ArgoUML', 'CCleaner', 'Movable Type', 'OllyDbg', 'Fortschrittsanzeige', 'M4 (Programmiersprache)', 'Radiant (Einheit)', 'SuperTux', 'CakePHP', 'Vorlage:Infobox Programmiersprache', 'WEBrick', 'PureFTPd', 'BusyBox', 'Lftp', 'Linda (Programmiersprache)', '389 Directory Server', 'EasyTAG', 'Miro Media Player', 'Apache Formatting Objects Processor', 'Sharp PC-1403', 'Cdrdao', 'Open Hub', 'Generative Modelling Language', 'Cω', 'GtkRadiant', 'Poedit', 'Lotus Symphony', 'ATL Server', 'Gucharmap', 'Z-machine', 'PsyBNC', 'Kreuz (Notenschrift)', 'Alternative PHP Cache', 'RapidMiner', 'Standardbibliothek', 'CSpace', 'Metasploit', 'ERP5', 'Direct Rendering Manager', 'Sonar (Software)', 'Django (Framework)', 'Vvvv', 'VisualBoyAdvance', 'Xfig', 'RSSOwl', 'Action (Programmiersprache)', 'ZynAddSubFX', 'Synergy (Software)', 'Apache JMeter', 'Deegree', 'Data Display Debugger', 'OpenEmbedded', 'Electric Sheep', 'Java-Hamster-Modell', 'Minisprache', 'Gutenprint', 'PocketStudio', 'Component Pascal', 'BlackBox Component Builder', 'Openbox', 'JFreeChart', 'CalculiX', 'Upstart', 'JOnAS', 'K-d-Baum', 'End User Development', 'Adept (Software)', 'Dom4j', 'Hatari (Emulator)', 'Potrace', 'Timidity++', 'Rational Application Developer', 'Apache Wicket', 'Pango', 'GeoGebra', 'Denemo', 'Graham Scan', 'NoteEdit', 'Dwm', 'Mednafen', 'Xenorate', 'PCMan File Manager', 'Rsnapshot', 'Kino (Software)', 'Kdenlive', 'Festival (Software)', 'Prototype (Klassenbibliothek)', 'Étoilé', 'UltraVNC', 'Mpg123', 'Fire Dynamics Simulator', 'Algorithmus von Hopcroft und Karp', 'Koroutine', 'KolourPaint', 'Nuke (Software)', 'Eindeutigkeit', 'Dangling else', 'Anti-Grain Geometry', 'KiCad', 'StepTalk', 'Inno Setup', 'Vsftpd', 'Maildrop', 'MacPorts', 'Kartendrucker', 'Agentenorientierte Programmierung', 'Generation language', 'Synfig', 'GDesklets', 'Pygame', 'Beryl (Software)', 'Sharp PC-G850V', 'Dr. Dobb’s Journal', 'Vtiger CRM', 'Vectorworks', 'Advanced Visualization Studio', 'Sky Chart', 'Sweep (Software)', 'Hibiscus (Software)', 'Programmierwettbewerb', 'ADOdb Lite', 'Umbrello', 'Calvin Mooers', 'OpenBIOS', 'CFEngine', 'Kexi', 'NDISwrapper', 'UMFPACK', 'Sauerbraten Game Engine', 'Geany', 'Kaffe', 'Jimm', 'MBASIC', 'Thunar', 'Lego Mindstorms NXT', 'QF-Test', 'BBEdit', 'AMSN', 'Polyglottes Programm', 'Division mit Rest', 'KompoZer', 'OpenJUMP', 'LV2', 'User-Thread', 'Bootstrapping (Programmierung)', 'Scintilla (Software)', 'Supplikant (Computer)', 'Vidalia (Tor)', 'EZ Publish', 'PSPad', 'John-von-Neumann-Medaille', 'MusicBrainz Picard', 'Notepad2', 'Winpooch', 'ACUCOBOL', 'Jakarta XML Web Services', 'Liste von Modultest-Software', 'WinMerge', 'Transmission (Software)', 'Psyco', 'QGIS', 'Marble (Computerprogramm)', 'Open ModPlug Tracker', 'Aqua Data Studio', 'If then else', 'Tak (Funktion)', 'Skencil', 'Lucky Logic', 'Memtest86', 'DokuWiki', 'Equinox (OSGi-Framework)', 'Aqua (macOS)', 'Open Graphics Library for Embedded Systems', 'Embedded C++', 'Ablaufsprache', 'Not Quite C', 'GlassFish', 'Mudbox', 'Kamailio', 'Ccache', 'PyPy', 'F-Spot', 'GWGET', 'Palo (OLAP-Datenbank)', 'Fortress (Programmiersprache)', 'Compiler-Anweisung', 'KDE Display Manager', 'PortableApps.com', 'VirtualBox', 'Jabbin', 'PHPUnit', 'Claroline', 'Alice (Software)', 'Digitale Medien (Studiengang)', 'LifeType', 'Xymon (Software)', 'OPUS (Dokumentenserver)', 'Grails', 'Kernel-based Virtual Machine', 'Exaile', 'Phalanger (Programmiersprache)', 'PyMOL', 'Keysight VEE', 'XZ Utils', 'Libsigc++', 'Gtkmm', 'Banshee (Medienspieler)', 'GeoTools', 'RubyGems', 'Editor War', 'Apache Forrest', 'The Word', 'DataNucleus', 'Veyon', 'Gnome Commander', '.NET Micro Framework', 'CACAO', 'Microware Software', 'Instiki', 'JQuery', 'Ereignisgesteuerte Architektur', 'SPIP', 'Poppler', 'HeidiSQL', 'Microsoft BASIC', 'Qooxdoo', 'Microsoft Silverlight', 'IP.Board', 'Neverball', 'GPSBabel', 'Ejabberd', 'TOPCASED', 'TorrentFlux', 'Nuxeo EP', 'CHIP-8', 'Applesoft BASIC', 'OCRopus', 'TORCS', 'CommSy', 'Tomboy (Software)', 'NesC', 'Robot Karol', 'Elon Musk', 'Rasterung von Kreisen', 'WackoWiki', 'MWS3-Messwertsender', 'SYM-1', 'Claws Mail', 'REAPER', 'Swfdec', 'HylaFAX', 'Symfony', 'SIMH', 'Hexspeak', 'GeoServer', 'Dasher (Software)', 'Roundup (Bugtracker)', 'Formale Spezifikation', 'Template Attribute Language Expression Syntax', 'Mumble', 'Pkg-config', 'FireFTP', 'Atari Microsoft BASIC', 'TiddlyWiki', 'IBM Cassette BASIC', 'ISA Dialogmanager', 'Mercurial', 'Texmaker', 'NeWS', 'Object Pascal', 'Selbsthaltefunktion', 'Protégé (Software)', 'ISO Master', 'NTFS-3G', 'VMware Workstation', 'Deshaker', 'HTTP File Server', 'Atlas Transformation Language', 'Not eXactly C', 'Aleph (Programmiersprache)', 'Elmer (Software)', 'X-CD-Roast', 'Card 1', 'TinyMCE', 'Natural Docs', 'JavaFX', 'InfraRecorder', 'Nano (Texteditor)', 'Cyclone3', 'Cdrkit', 'OptiPNG', 'TYPO3', 'Avidemux', 'Stretch (Unternehmen)', 'PhpGedView', 'TTCN', 'Microsoft PixelSense', 'DVBViewer', 'MediaCoder', 'SQuirreL SQL Client', 'DotProject', 'Adobe Illustrator', 'Insight Segmentation and Registration Toolkit', 'PokerTH', 'CMake', 'Microprofessor III', 'Zabbix', 'Jeder-gegen-jeden-Turnier', 'Metisse (Desktop-Umgebung)', 'JTS Topology Suite', 'Db4o', 'Void (Schlüsselwort)', 'Clonezilla', 'Benevolent Dictator for Life', 'GNU Parted', 'Sawfish', 'Sound Juicer', 'Growl (Software)', 'Gentoo (Dateimanager)', 'Zend Framework', 'Allzweck-Programmiersprache', 'CKEditor', 'Quod Libet (Medienspieler)', 'Butler Lampson', 'SpiderMonkey', 'Gpg4win', 'Ntop', 'Cyberduck', 'Cryptlib', 'RetroShare', 'HCL Connections', 'AUCTeX', 'Business Intelligence and Reporting Tools', 'Boost (C++-Bibliothek)', 'Gears', 'OpenLayers', 'JDeveloper', 'OpenCA PKI', 'Scratch (Programmiersprache)', 'Video4Linux', 'SQL Phrase Index', 'Proof-Carrying Code', 'TextMate', 'AUGIAS-Archiv', 'Case sensitivity', 'Ted (Texteditor)', 'Geant4', 'PeaZip', 'Bogofilter', 'OFFSystem', 'Smn-Theorem', 'Dana Scott', 'SWIG', 'Brasero (Brennprogramm)', 'Prototypenbasierte Programmierung', 'MySQL Workbench', 'Geospatial Data Abstraction Library', 'ICEfaces', 'EAS3', 'AML (Robotik)', '&RQ', 'HipHop', 'Freevo', 'SAIL (Programmiersprache)', 'MediaPortal', 'XMail', 'Cacti', 'Ming (Softwarebibliothek)', 'Compiz Fusion', 'Request Tracker', 'Salesforce', 'RTorrent', 'Xrms', 'ILNumerics', 'PJIRC', 'Clustal', 'Poseidon for UML', 'Blockstruktur', 'Interactive Fiction', 'JBoss Seam', 'Nyquist (Programmiersprache)', 'THP', 'Roundcube', 'Liste von .NET-Sprachen', 'Baum (Steuerelement)', 'Visual J++', 'Enterprise JavaBeans Certificate Authority', 'Ultimate 3D', 'EXAPT', 'Divmod', 'MacOS', 'HandBrake', 'Radiant (CMS)', 'JSmooth', 'Mylyn', 'GFTP', 'Luminance HDR', 'Digital Command Language', 'Portable C Compiler', 'GROUP-E', 'Tiny C Compiler', 'Faruk İremet', 'Okular (Software)', 'Jira (Software)', 'JX (Betriebssystem)', 'Ultimate++', 'GUIdancer', 'AntMe!', 'GNU Core Utilities', 'Selenium', 'MODX', 'Virtual Appliance', 'Zotero', 'Vulcan.NET', 'ATunes', 'Dolphin (KDE)', 'TI-Nspire', 'Magnolia (CMS)', 'Csound', 'SYSTAT', 'SuperCollider', 'PMD (Software)', 'LON-CAPA', 'Vienna (Software)', 'Script.NET', 'Continuous Function Chart', 'XCB', 'WoltLab Community Framework', 'Conduit (GNOME)', 'Negator (Logik)', 'Munin (Software)', 'Zonnon', 'Zlib', 'Dune (Software)', 'Jean Ichbiah', 'WinDev', 'Joe (Texteditor)', 'International Components for Unicode', 'Universal Network Objects', 'SciTE', 'Mozilla Prism', 'OpenAFS', 'Homoikonizität', 'Typbibliothek', 'AutoHotkey', 'NanoVM', 'SETL', 'Dropbear', 'SilverStripe', 'Deluge', 'NonVisual Desktop Access', 'Halite', 'K9Copy', 'OpenCart', 'Meine Nächte sind schöner als deine Tage', 'XQuartz', 'Strigi', 'GeSHi', 'Openfire', 'LittleCMS', 'ROX Desktop', 'Ext JS', 'NewLISP', 'Eingabe (Computer)', 'Qucs', 'KMPlayer', 'Numerical Recipes', 'Vala (Programmiersprache)', 'Numerical Electromagnetics Code', 'TI Extended BASIC', 'Bazaar', 'Apache Muse', 'Avahi (Software)', 'Contao', 'IMule', 'Yakuake', 'Dokeos', 'MooTools', 'GtkHTML', 'Remote Application Platform', 'Facelets', 'PulseAudio', 'Edmund M. Clarke', 'Dichtestes Punktpaar', 'Vino', 'KTurtle', 'Carl Hewitt', 'Android Nim', 'E107 (Software)', 'Arachnophilia', 'After Dark (Bildschirmschoner)', 'Pfeilschreibweise', 'Echo (Informatik)', 'AWStats', 'Ark (Packprogramm)', 'Enterprise Architect', 'Haxe (Programmiersprache)', 'FreeOTFE', 'Delphin (Software)', 'Yacas', 'KDE Software Compilation 4', 'Empathy', 'Gnome Virtual File System', 'Algebraische Programmiersprache', 'UltraLightClient', 'SCHEMA ST4', 'NetNewsWire', 'MetaKit', 'Sparkle (Software)', 'G-Eclipse', 'Xrdp', 'GNU Linear Programming Kit', 'Arduino (Plattform)', 'Dvd::rip', 'APT-RPM', 'LINA', 'Szene (Computergrafik)', 'Azure DevOps Server', 'CART (Software)', 'Crossroads (Datenverarbeitung)', 'Wrapper (Software)', 'MPD (Programmiersprache)', 'Apertium', 'Geometrische Modellierung', 'Datenbankabstraktionsschicht', 'Collabtive', 'GNUMail', 'Script.aculo.us', 'XForms (Toolkit)', 'Openbravo', 'Phorum', 'JBPM', 'OpenVAS', 'XScreenSaver', 'Gnome Terminal', 'Daemontools', 'Guy Lewis Steele junior', 'RasMol', 'Free Download Manager', 'GNAT', 'Jmol', 'GNAT Programming Studio', 'Übersetzungszeit', 'Jitsi', 'Alice im Wunderland', 'JOSM', 'Kobo Deluxe', 'Apache Tuscany', 'Warmux', 'Zikula', 'WinDirStat', 'Music Player Daemon', 'Baobab (Software)', 'Opentaps', 'OpenCL', 'Nasal (Programmiersprache)', 'Dragon Player', 'Wuala', 'JDownloader', 'FluxBB', 'NetworkManager', 'Java Native Access', 'KWallet', 'Dojo Toolkit', 'File Roller', 'Ralph E. Griswold', 'COMIT (Programmiersprache)', 'RawTherapee', 'IEEE Software', 'Gnome Keyring', 'Garry Kitchen’s GameMaker', 'LLVM', 'PLANTA Project', 'Polkit', 'Xtext', 'CDBurnerXP', 'HAL (Software)', 'PackageKit', 'Ipe (Zeichenprogramm)', 'JOVIAL', 'Panda3D', 'OpenSimulator', 'Expr', 'Liberty Basic', 'JasperReports', 'IrcII', 'Jakarta Transactions API', 'Liste von Angehörigen der RWTH Aachen', 'Rubyripper', 'Bean (Software)', 'LXDE', 'LimeSurvey', 'Pandora FMS', 'TortoiseSVN', 'PyGTK', 'Google Chrome', 'Bayrische Hackerpost', 'Librsvg', 'Mitchel Resnick', 'Confluence (Atlassian)', 'UDig', 'Faust (Programmiersprache)', 'Protocol Buffers', 'Launchy', 'ChucK', 'Agavi', 'Liste von BitTorrent-Clients', 'DOSEMU', 'Apache Velocity', 'Minicom', 'Rakarrack', 'Fossil (Software)', 'Potlatch (Software)', 'Rawstudio', 'Agilo for Trac', 'M (Microsoft-Programmiersprache)', 'Tomato (Firmware)', 'Wicd', 'Euler (Programmiersprache)', 'File Commander', 'Monotone', 'Rsyslog', 'XCSoar', 'Guitar Pro', 'Heredoc', 'Punchscan', 'Algol W', 'ImpressCMS', 'Apache Hadoop', 'GrGen.NET', 'Spotify', 'Web2py', 'LINBO', 'FreeIPA', 'Bacula', 'FreeMat', 'Zimbra', 'ET-Chat', 'FBReader', 'Clang', 'Programmierung', 'Dired', 'Blue Moon Rendering Tools', 'Realsoft 3D', 'REYES (Computergrafik)', 'Pentaho', 'Songbird', 'UIMA', 'Trident (Software)', 'Jenkins (Software)', 'Computer History Museum', 'IKVM.NET', 'Yahoo User Interface Library', 'Midori (Browser)', 'EasyMock', 'IText', 'AnyLogic', 'Konstruktionismus', 'Gaphor', 'HDOS', 'Matheass', 'FOCAL (HP-41)', 'Kentico CMS', 'Dunia Engine', 'Gallery Project', 'OsiriX', 'Mpxplay', 'Celtx', 'Magic User Interface', '7-Zip', 'Go-oo', 'PSPP (Software)', 'Rubinius', 'LuaTeX', 'Jacob T. Schwartz', 'KBasic', 'Decibel', 'Lsh', 'WikidPad', 'Pootle', 'Eric (Software)', 'AsciiDoc', 'Dolphin (Emulator)', 'Orca (Screenreader)', 'Coq (Software)', 'Akonadi', 'Audacious', 'MPFR', 'Foswiki', 'Squirrel (Programmiersprache)', 'Fluent Interface', 'PhpDocumentor', 'CuneiForm', 'Matomo', 'Analog (Web Analytics)', 'Sage (Software)', 'Open Journal Systems', 'Julius (Software)', 'Libxml2', 'Qt Creator', 'VisiWin', 'Matrix Template Library', 'TuxGuitar', 'MWconn', 'Nginx', 'Yana (Framework)', 'Quassel IRC', 'GNUSim8085', 'SMILA', 'Magento', 'Dr. Tax', 'SoapUI', 'Startmenü', 'Bash (Shell)', 'Foldit', 'Internet Explorer', 'RichFaces', 'AIMP', 'SMW+', 'CamStudio', 'GNU readline', 'BKChem', 'Web Language', 'Sing-Sharp', 'ADAPTIVE Communication Environment', 'Hunspell', 'MoonShell', 'Ribbon', 'Mixin', 'System für Automatisierte Geowissenschaftliche Analysen', 'Flavors (Programmiersprache)', 'FindBugs', 'Planet (Software)', 'Rocrail', 'Umbraco', 'BBC BASIC', 'Jabbim', 'Chicken (Scheme)', 'OSM-Plugin', 'OneSwarm', 'Buildroot', 'POW!', 'OpenSceneGraph', 'NewtonScript', 'JWM', 'Remastersys', 'Doctrine (PHP)', 'LuxCoreRender', 'Industrial Robot Language', 'Vorlage:Episodenlisteneintrag', 'Vorlage:Episodenlistentabelle', 'Memcached', 'Opentracker', 'Memtest86+', 'Libtorrent', 'BitTornado', 'NoScript', 'Google Wave', 'Hiawatha Webserver', 'Simple and Fast Multimedia Library', 'Elexis Arztpraxis-Software', 'WUFI', 'Netatalk', 'GNU TeXmacs', 'Apache MyFaces Trinidad', 'CouchDB', 'Build-Engine', 'Perforce', 'Peter J. Landin', 'Beamer (LaTeX)', 'SECD-Maschine', 'O3D', 'Alpine (E-Mail-Programm)', 'Oksimo', 'MySQLDumper', 'CodeLite', 'Anvil (Spiel-Engine)', 'Christopher Strachey', 'Platform as a Service', 'Apache OFBiz', 'UnrealIRCd', 'PriMus', 'UFRaw', 'Quartz (Framework)', 'GROMACS', 'AusweisApp', 'Vaadin', 'Phpwcms', 'CDemu', 'DBpedia', 'Plant Simulation', 'Meta Tracker', 'MyBatis', 'Knuddels', 'TopLink', 'EclipseLink', 'TeXworks', 'Dcraw', 'Cantera', 'Mozilla Firefox Mobile', 'Risen (Computerspiel)', 'Bibliographix', 'Defraggler', 'Areca Backup', 'Perlin-Noise', 'Opencast', 'LinuxSampler', 'Portal (Informatik)', 'OVal (Framework)', 'Jakarta Mail', 'Hedgewars', 'Emma (Software)', 'Apache CXF', 'Games for Windows', 'NcFTP', 'Dropbox', 'InterNetNews', 'JMonkeyEngine', 'XSQL', 'Id Tech 5', 'SciDAVis', 'Anaphraseus', 'Jakarta RESTful Web Services', 'JFormDesigner', 'Sandboxie', 'JiBX', 'QBittorrent', 'Moonlight (Novell)', 'GeODin', 'OpenBabel', 'Google Web Server', 'Nobuo Yoneda', 'Uzbl', 'WeeChat', 'BlueZ', 'Resoa', 'Smuxi', 'Apache Cayenne', 'Apache OpenJPA', 'RegRunner', 'Feng Office', 'IE Tab', 'Org-mode', 'CrashPlan', 'Checkstyle', 'TeXstudio', 'Monade (Informatik)', 'FirstSpirit', 'DiskCryptor', 'GeneWeb', 'Linear Programming Language', 'WaveMaker', 'OpenJDK', 'Slowloris', 'NProtect GameGuard', 'Piwigo', 'Mp3tag', 'Go (Programmiersprache)', 'OpenMeetings', 'Ubuntu One', 'GNU Bison', 'Bigace', 'WorkPLAN', 'Boehm-Speicherbereinigung', 'Boa (Webserver)', 'Libusb', 'Artistic Style', 'Argument dependent name lookup', 'KNIME', 'Syntax', 'Xlib', 'Gio-Key-Board', 'Fire (Software)', 'Modula-2+', 'Adobe Photoshop', 'Video Decode and Presentation API for Unix', 'RoadRunner', 'Apache Camel', 'Logische Verschiebung', 'TextGrid', 'Mdadm', 'Gnome Display Manager', 'JVx', 'FreeHAL', 'K Desktop Environment', 'Andreas Solymosi', 'Redmine', 'RecordMyDesktop', 'Gretl', 'Liste von XMPP-Server-Software', 'HebOCR', 'Cheese (Software)', '9wm', 'Liferay Portal', 'Bitweaver', 'Tibetischer Sandabakus', 'Elektronischer Leitz-Ordner', 'Alloy Analyzer', 'JavaHelp System', 'Java Cryptography Extension', 'CERN httpd', 'Jigsaw (Webserver)', 'OMNeT++', 'Bachelor of Science in Information Technology', 'SonarQube', 'Informatikunterricht', 'File Alteration Monitor', 'JBEAM', 'Sympa', 'SpatiaLite', 'PyLoad', 'Nagios Business Process AddOns', 'Apple Books', 'AForge.NET', 'MP3Gain', 'Serif PhotoPlus', 'Mongrel (Webserver)', 'Tine 2.0', 'Dynamic Kernel Module Support', 'Red5', 'ConQAT', 'OpenLogos', 'Apache Cassandra', 'Geometry Engine Open Source', 'DownThemAll!', 'Gnome MPlayer', 'CHARMM', 'OpenBGPD', 'OmegaT', 'VisSim', 'Include', 'MediaWiki', 'Wubi (Ubuntu)', 'Xfburn', 'SYSLINUX', 'Debian-Installer', 'Java-Editor', 'PrestaShop', 'Apache Archiva', 'Spark (Instant Messenger)', 'Apache MINA', 'Band-in-a-Box', 'Doppelkreuz (Schriftzeichen)', 'Apache Pivot', 'Speech Dispatcher', 'Navit', 'Xarchiver', 'Music On Console', 'Plymouth (Software)', 'GitHub', 'CoreAVC', 'PhpWiki', 'MuseScore', 'Altium Designer', 'EasyBCD', 'Stockfish', 'Node.js', 'Robot Operating System', 'Environment for DeveLoping KDD-Applications Supported by Index-Structures', 'Eucalyptus (Software)', 'Produkte von Microsoft', 'Climate Data Operators', 'Greenfoot', 'Leafpad', 'QutIM', 'MariaDB', 'Mftrace', 'Prosody', 'SQLAlchemy', 'Co-array Fortran', 'World Wide Telescope', 'Anki', 'Code Aster', 'Mnemosyne (Software)', 'Waikato Environment for Knowledge Analysis', 'JetBrains', 'NEPOMUK (Framework)', 'TurboCASH', 'Firebug', 'TortoiseHg', 'Hollywood (Programmiersprache)', 'SLiM', 'X10 (Programmiersprache)', 'Oracle ADF', 'OCS Inventory NG', 'S (Programmiersprache)', 'SQL Developer', 'Open64', 'Projektron BCS', 'ARIS MashZone', 'Markaby', 'H2 Database', 'Awesome (Fenstermanager)', 'Prime95', 'GreenBrowser', 'Null', 'Jena (Framework)', 'Phusion Passenger', 'Miles Sound System', 'VirtueMart', 'ProjektPro', '99 Bottles of Beer', 'Apache Ivy', 'OpenSAGA', 'Osborne Executive', 'FreeMarker', 'DABiS800', 'Diaspora (Software)', 'Greenshot', 'UNetbootin', 'Line Mode Browser', 'Cydia', 'Enchant (Software)', 'Punkt-in-Polygon-Test nach Jordan', 'Hanspeter Mössenböck', 'YEd', 'Berner GPS-Software', 'Sumatra PDF', 'LiquidFeedback', 'Getmail', 'NagVis', 'OpenXava', 'Nuclos', 'Frash', 'BALL', 'Project X (Software)', 'Ceph', 'TIBCO Spotfire Analytics', 'MITK', 'Security Administrator Tool for Analyzing Networks', 'Dateiverwaltung', 'Puppet (Software)', 'XenForo', 'Zirkel und Lineal (Software)', 'Mod ruby', 'Das U-Boot', 'SRWare Iron', 'Registerkarte', 'Prinzipskizze', 'OpenChrom', 'Eric', 'Onepoint Projects', 'Cobian Backup', 'Lustre (Dateisystem)', 'Murray Sargent', 'Varnish', 'Brain Fuck Scheduler', 'LibreOffice', 'MikroSim', 'Clementine (Software)', 'Chromium (Browser)', 'Applied Type System', 'Systemd', 'MirrorBrain', 'XV (Software)', 'Mixxx', 'EasyImage', 'First-Class-Objekt', 'GNU Assembler', 'KDE Plasma Workspaces', 'Lomiri', 'Mutter (Software)', 'Clutter (Bibliothek)', 'Gnome Shell', 'Wayland (Display-Server-Protokoll)', 'Lightspark', 'SciPlore MindMapping', 'CodeIgniter', 'WinCDEmu', 'X2Go', 'MapServer', 'Xerox DocuShare', 'Klaus Samelson', 'Calibre', 'BDS C', 'Adobe Digital Editions', 'Conzept 16', 'Zim (Software)', 'Webtrees', 'Jad (Dekompilierer)', 'Reduce (Computeralgebrasystem)', 'Generic Workflow Description Language', 'Programmiersprachen', 'Open Source Tripwire', 'Rekonq', 'Polipo', 'Freemake Video Converter', 'OsmocomBB', 'Caffeine', 'Comix (Software)', 'PhotoRec', 'Gwibber', 'Foremost (Software)', 'WikiTrust', 'Recuva', 'Perl Mongers', 'Freemake Video Downloader', 'Cinderella (Software)', 'Zero Install', 'Second Reality', 'Integrating Vision Toolkit', 'OpenBTS', 'TestDisk', 'Lzip', 'KMyMoney', 'ALZip', 'Easytrieve', 'Software-Industrie', 'DataFinder', 'Choqok', 'XL (eXtensible Language)', 'Zuweisungskompatibilität', 'Etherpad', 'Bildungsorientierte Programmiersprache', 'Codendi', 'Hudson (Software)', 'Scream Tracker', 'OpenStack', 'CMS Made Simple', 'Viber', 'MyPaint', 'LibVNCServer', 'XDEV', 'Image SXM', 'Opus (Audioformat)', 'Debugsymbol', 'Unified Parallel C', 'Gwyddion', 'BIMserver', 'Langzahlarithmetik', 'Frostbite-Engine', 'SAM Broadcaster', 'Turtle F2F', 'Mule (Software)', 'Scuttle (Software)', 'TagLib', 'Dvd+rw-tools', 'Secret Rabbit Code', 'GNU Compact Disc Input and Control Library', 'Libsndfile', 'Libzypp', 'Xinetd', 'Gamebryo', 'Serviceware Processes', 'MikMod', 'Tosca (Software)', 'Xmarks', 'OpenNMS', 'Apport (Software)', 'Froxlor', 'Memotech MTX', 'Philips P2000', 'Thomson TO7-70', 'GeoNetwork opensource', 'Graphdatenbank', 'Sublime Text', 'Name Server Daemon', 'Symbol (Informatik)', 'Resin (Java)', 'OnlyOffice', 'Fail2ban', 'DenyHosts', 'OpenNebula', 'Exchange ActiveSync', 'SIMON', 'Der Computer – Mein Lebenswerk', 'T-Coffee', 'Zeitgeist (Software)', 'Sigil', 'Udo Müller (Wirtschaftsinformatiker)', 'Cppcheck', 'Unity (Spiel-Engine)', 'Ocrad', 'Mockito', 'The Unarchiver', 'GNU SIP Witch', 'Bombono', 'AcetoneISO', 'C−−', 'Gerrit (Software)', 'XPaint', 'ICloud', 'Newlib', 'Google Goggles', 'Archivista', 'Google Guice', 'B2evolution', 'CKAN', 'Vorlage:Episodenlisteneintrag2', 'BaseX', 'XOM (Klassenbibliothek)', 'WebEdition', 'Handeingabesteuerung', 'GPG Suite', 'Dracut (initramfs)', 'Adhocracy', 'BackupPC', 'Xmonad', 'NetBAU', 'UltraMixer', 'Amiga E', 'ReBirth RB-338', 'Text Engineering Software Laboratory', 'Intrexx', 'Gradle', 'Ntfsprogs', 'Digital Engineering', 'BRFplus', 'GnuVocabTrain', 'Adobe Muse', 'KOffice', 'I3 (Fenstermanager)', 'Discuz!', 'Ren’Py', 'Redis', 'LightDM', 'Space Engine', 'Visual Pinball', 'JQuery UI', 'FusionForge', 'CoffeeScript', 'Windows Runtime', 'Adobe Edge Animate', 'Trait (Programmierung)', 'PgAdmin', 'PyCharm', 'Neo4j', 'Executive Systems Problem Oriented Language', 'TOMOYO Linux', 'Orchard (CMS)', 'Siri (Software)', 'Apache Jackrabbit', 'Dart (Programmiersprache)', 'WPS Office', 'Microsoft Songsmith', 'OwnCloud', 'PowerMock', 'Neos Flow', 'MongoDB', 'RKWard', 'Origin (Vertriebsplattform)', 'ECMAScript for XML', 'TortoiseGit', 'Duplicati', 'The C Programming Language', 'FlashDevelop', 'I-doit', 'Gramps', 'EnterpriseDB', 'Project Voldemort', 'Asunder', 'Ehcache', 'Yii', 'MapProxy', 'Robot Framework', 'CIB pdf brewer', 'Just van Rossum', 'Censhare', 'Bericht (Informatik)', 'RExcel', 'Phoca Gallery', 'Ceylon (Programmiersprache)', 'Logisim', 'Kiwix', 'ImgBurn', 'BlueGriffon', 'Rodent', 'Logitech Media Server', 'Camping (Microframework)', 'Cobra (Programmiersprache)', 'Capistrano (Software)', 'Gallium3D', 'Apache Avro', 'Merkaartor', 'Rake (Software)', 'Ghostery', 'Interactive Ruby Shell', 'Rack (Webserver-Interface)', 'Superbase (Datenbank)', 'LMMS', 'TIOBE-Index', 'Gerichteter Graph', 'IBooks Author', 'NConf', 'Parley', 'SAP HANA', 'Software Quality Environment', 'Sinatra (Software)', 'Melodyne', 'SpiderOak', 'Debconf (Software)', 'CASIO BASIC', 'Ace (JavaScript-Texteditor)', 'Modelio', 'Barcoo', 'Bootstrap (Framework)', 'WhatsApp', 'HTTPS Everywhere', 'FHEM', 'TekBASE', 'Jetpack (Firefox-Projekt)', 'Free Studio', 'BASCOM (Microsoft)', 'Arcavias', 'Newsqueak', 'Kivitendo', 'Tomahawk (Medienplayer)', 'WICE Cloud Based CRM', 'JSLint', 'Shark Framework', 'Natural Language Toolkit', 'Diamond-square Algorithmus', 'Friendica', 'StatPascal', 'Lightbeam', 'Alef (Programmiersprache)', 'Portierung (Software)', 'Desura', 'Opsview', 'Open Graph Drawing Framework', 'Sphinx (Software)', 'FreeCAD', 'Zenity', 'LogicalDOC', 'Can Do project intelligence', 'Flask', 'TIPP10', 'Lsof', 'Microsoft Office Picture Manager', 'Canorus', 'VennMaker', 'F-Droid', 'OpenOLAT', 'UT Video', 'YAKINDU Statechart Tools', 'BlueSpice MediaWiki', 'Windows-Fotoanzeige', 'MATE Desktop Environment', 'TraXEx', 'Duplicity (Software)', 'Pharo (Programmiersprache)', 'WiMP (Musikstreaming-Service)', 'Shopware', 'PhpStorm', 'Microsoft Office 2013', 'Winestro.Cloud', 'ARLA (Programmiersprache)', 'Smultron', 'Java Decompiler', 'CiviCRM', 'NopCommerce', 'Virtaal', 'Tunngle', 'OpenShot', 'Apache Thrift', 'Kivy', 'ANX (Framework)', 'DirectFB', 'DejaGnu', 'Monkey X', 'Open Wonderland', 'Mahara (Software)', 'Mnesia', 'Pandoc', 'Critter', 'Xournal', 'Cinnamon (Desktop-Umgebung)', 'OpenITCOCKPIT', 'XMind', 'Visual Paradigm', 'Frescobaldi (Software)', 'Liste der Unicode-Eigenschaften', 'GT.M', 'Windows Medienwiedergabe', 'Coyo', 'Static (Schlüsselwort)', 'VuFind', 'CBASIC', 'OpenGL ES Shading Language', 'Entity Framework', 'Activiti', 'Apple Wallet', 'InspectIT', 'Vorzeichen (Zahl)', 'Vokabel Trainer', 'The Sleuth Kit', 'Ampache', 'Mod qos', 'Falkon (Browser)', 'Chamilo', 'Tera Term', 'OrientDB', 'SparkleShare', 'Ganglia (Software)', 'Öffi (Software)', 'DeSmuME', 'Wunderlist', 'OruxMaps', 'LibreCAD', 'Noweb', 'MuCommander', 'Liste von Dependency Injection Frameworks', 'Magic Lantern (Firmware)', 'Jigdo', 'Riak', 'ProcessWire', 'Aria Maestosa', 'Jonathan James', 'Backbone.js', 'ISPConfig', 'Collax V-Cube+', 'Apache ActiveMQ', 'Sikuli (Software)', 'Mathematische Zeichen in Unicode', 'OpenProj', 'ASP.NET MVC', 'ProjectLibre', 'Hike (Messenger)', 'MathJax', 'Koha (Bibliothekssoftware)', 'Foxmail', 'Valentin Turtschin', 'MyDefrag', 'SpeechRecorder', 'Maxine (VM)', 'Apache ServiceMix', 'Snapchat', 'Ansible', 'Google Guava', 'AIDA64', 'AngularJS', 'ViolaWWW', 'Google Notizen', 'Bird Internet Routing Daemon', 'Blackberry World', 'Rainmeter', 'Pydio', 'Little Snitch', 'Liste von Textverarbeitungsprogrammen', 'Ophcrack', 'Mailbox (App)', 'Wrike', 'Blink (Software)', 'Visuelle Sprache', 'Apache Continuum', 'StarUML', 'Cucumber (Software)', 'GetSimple CMS', 'Tornado (Webserver)', 'MusE', 'Qtractor', 'Unipps', 'Martin Odersky', 'Checkmk', 'Transbase', 'Android Studio', 'Razor-qt', 'Instantbird', 'Point Cloud Library', 'Requirements Modeling Framework', 'Glasgow Haskell Compiler', 'WORHP', 'Presto (Software)', 'XCache', 'YARV', 'Servo (Software)', 'Autocode', 'WinFunktion Mathematik', 'VTC CRM', 'TecArt-CRM', 'Cutthroats', 'Liste von Operatoren für den Rest einer Division', 'Airtime (Software)', 'Libpng', '1C:Enterprise', 'TestNG', 'WeChat', 'Ngspice', 'Schedulix', 'Open-Sankoré', 'Becky!', 'WooCommerce', 'Kaspersky Anti-Virus', 'Small Device C Compiler', 'Yandex.Browser', 'NuGet', 'Luna (Programmiersprache)', 'OpenProject', 'Underscore.js', 'Lavabit', 'K-9 Mail', 'RabbitMQ', 'Limbas', 'CampusNet', 'Combined Programming Language', 'Phalcon', 'OpenFrameworks', 'Simulation of Urban MObility', 'EGL (Programmierschnittstelle)', 'PS3 Media Server', 'Trelby', 'ESET NOD32 Antivirus', 'RequireJS', 'Libdash', 'RFEM', 'ITop', 'Generische Funktion', 'Docear', 'Adobe PhoneGap', 'Objektorientierte Sprache', 'Janus Recognition Toolkit', 'WinErs', 'F♯', 'Comindware Tracker', 'Duncan Campbell (Journalist, 1952)', 'Threema', 'Everything', 'Firefox Sync', 'Common Locale Data Repository', 'Network Security Services', 'Board (Software)', 'Andrzej Trybulec', 'Dogecoin', 'CPLEX', 'Ddrescue', 'Guayadeque (Audioplayer)', 'Uwe Nestmann', 'Kid3', 'LXC', 'OpenHAB', 'Amavis', 'TinyScheme', 'Jasmine (JavaScript)', 'Twister (Software)', 'Laravel', 'Tinder', 'Goobi', 'Gordon Plotkin', 'AdBlock', 'Prepar3D', 'Meld', 'Telegram', 'Adobe Brackets', 'Abaqus', 'Mojolicious', 'OpenShift', 'Functional Mock-up Interface', 'CMORE3D', 'Elixir (Programmiersprache)', 'Nxt (Kryptowährung)', 'LibHaru', 'Signal (Messenger)', 'Tox (Protokoll)', 'Dynamo (Programmiersprache)', 'GameMaker: Studio', 'Heartbleed', 'Mbed TLS', 'NAMD', 'LibreSSL', 'Asymptote (Vektorgrafik-Sprache)', 'Netty', 'Conversations (Instant Messenger)', 'Rzip', 'Darktable', 'Command-Query-Separation', 'CCleaner Cloud', 'Vert.x', 'Swift (Programmiersprache)', 'EasyPHP', 'Speccy', 'Energia (Plattform)', 'Pinta (Software)', 'Libvirt', 'Bullet (Physik-Engine)', 'Abstraktion (Informatik)', 'CUBRID', 'Graphenorientierte Programmierung', 'Assimp', 'Entrekursivierung', 'Captcp', 'Shotwell (Programm)', 'Sencha Touch', 'ThreadSafe', 'Neuron (Software)', 'Minit', 'Veron (Software)', 'ZPAQ', 'Libjpeg', 'Omnitracker', 'Bower (Software)', 'Gnome Ranger', 'Symbolsprache (Informationsübertragung)', 'Foundation (Framework)', 'JSON-LD', 'Emmet (Software)', 'Kuali Open Library Environment', 'Ionic (Framework)', 'Lsjbot', 'SecureDrop', 'Ghost (Blogging-Plattform)', 'Matplotlib', 'Xephyr', 'Docker (Software)', 'Arcplan (Software)', 'Saltstack', 'Wyvern (Programmiersprache)', 'Text Verification Tool', 'Homebrew (Paketverwaltung)', 'The Hessling Editor', 'SimilarWeb', 'Nemo (Dateimanager)', 'Ember.js', 'Freeplane', 'GNU Health', 'Phabricator', 'OpenSlides', 'GtkPerf', 'Seafile', 'OptiSLang', 'Ingrid’s Back', 'SciPy', 'Rdiff-backup', 'MuPDF', 'Tryton', 'Android Runtime', 'Geneva (Software)', 'Vagrant (Software)', 'G*Power', 'UPower', 'QUnit', 'PROJ.4', 'UC Browser', 'Undefiniertes Verhalten', 'Detekt', 'Bvi (Hex-Editor)', 'TVgenial', 'Cryptocat', 'Fish Fillets NG', 'Musl', 'Fritzing', 'Digitale Welt', 'CosmoShop', 'IFeedback', 'Handlebars.js', 'Komodo (Schach)', 'IPython', 'Comskee', 'Darling (Software)', 'DNF (Dandified Yum)', 'PDF.js', 'VeraCrypt', 'KDE Plasma 5', 'Dahl-Nygaard-Preis', 'CometVisu', 'Visual Computing (Studiengang)', 'Tiny Tiny RSS', 'Libinput', 'Pip (Python)', 'Habitica', 'Hubert Zitt', 'Vulkan (API)', 'Bitbucket Server', 'Zopfli', 'Kartesischer Baum', 'UMLet', 'Halcon', 'Objektbasierte Programmiersprache', 'RedPhone', 'OpenNN', 'Seed7', 'AusweisApp2', 'Eclipse (Luft- und Raumfahrtsoftware)', 'Google Docs', 'Source Filmmaker', 'Ranger (Dateimanager)', 'Newsbeuter', 'AristaFlow', 'Snappy (Datenkompressionssoftware)', 'GNU Guix', 'Shoes (Ruby)', 'B.A.T.M.A.N.', 'Flyspray', 'GIMP Drawing Kit', 'Microsoft Edge', 'LZ4', 'Neural Designer', 'Bizagi', 'DJI (Unternehmen)', 'Oliver Strachey', 'Adobe Animate', 'Express.js', 'ZNC', 'LibGDX', 'Elasticsearch', 'Liste der GNU-Pakete', 'Periscope (App)', 'PicApport', 'Syncthing', 'Godot', 'Apache Spark', 'WebAssembly', 'Master PDF Editor', 'Camunda BPM', 'MediaGoblin', 'Lm sensors', 'Atom (Texteditor)', 'Bamboo (Software)', 'Bouncy Castle', '2147483647', 'Nix (Paketmanager)', 'OpenSCAD', 'GitLab', 'RPCS3', 'CodeMirror', 'ExifTool', 'Chinese BASIC', 'Turnier-Organisations- und Informationssystem', 'Bioconductor', 'Mpv', 'Slack (Software)', 'SSHFS', 'Angry IP Scanner', 'Iperf', 'UBlock Origin', 'Vivaldi (Browser)', 'Simple Desktop Display Manager', 'Composer (Paketverwaltung)', 'SCIgen', 'Xbps', 'GNU Radio', 'Open Build Service', 'Mynigma', 'Freie-Software-Bewegung', 'Tux Paint', 'MKVToolNix', 'Npm (Software)', 'Gnome Builder', 'Mailvelope', 'ResourceSpace', 'GNUmed', 'PlayOnLinux', 'Modernizr', 'Libreboot', 'DHTMLX', 'INVEP', 'Wire (Messenger)', 'Perl Web Server Gateway Interface', 'HarfBuzz', 'Virtual Machine Manager', '.NET (Plattform)', 'Microsoft Office 2016', '.NET (Oberbegriff)', 'MSBuild', 'Visual Studio Code', 'EasyWriter', 'Redshift (Software)', 'GNU Linker', 'GNU Gnubik', '3DLDF', 'GNU Find Utilities', 'Knockout.js', 'GNU IceCat', 'Brotli', 'WebStorm', 'Famitracker', 'BANCStar', 'Logos Bibelsoftware', 'Autoruns', 'XFOIL', 'Ethereum', 'Htop', 'Apache Giraph', 'Kotlin (Programmiersprache)', 'Aimeos', 'WinBtrfs', 'Xanitizer', 'Shashlik', 'Gift-Wrapping-Algorithmus', 'Bitcoin Core', 'EdgeHTML', 'Advanced Intrusion Detection Environment', 'Gnome Disks', 'Blender Game Engine', 'Dorothy Vaughan', 'Tresorit', 'Chocolatey', 'Django CMS', 'Kommunales Bewertungs-, Organisations- und Servicesystem', 'ID (OpenStreetMap)', 'OpenBoard', 'OrangeFS', 'Open Broadcaster Software', 'EPrints', 'Brave (Browser)', 'PrivacyIDEA', 'Gollum Wiki', 'HexChat', 'BPM inspire', 'Blend4Web', 'WolfSSL', 'PV-1000', 'Libuv', 'LiveCode', 'Gregorio (Software)', 'Kitodo', 'JRebel', 'HDWiki', 'Gulp.js', 'Phraseanet', 'Nextcloud', 'Hugo (Software)', 'High-Leit', 'Snappy (Paketverwaltung)', 'Michael Roth (Kybernetiker)', 'Progressive Web App', 'Legantoo', 'Humhub', 'Pretty Easy privacy', 'OpenJPEG', 'ALLEGRO', 'Vue.js', 'Quadtree', 'RStudio', 'Apache Kafka', 'MonetDB', 'WinBUGS', 'JAGS', 'OpenBUGS', 'Stan (Software)', 'H2O (Software)', 'Epi Info', 'Mondrian (Software)', 'Meteor (Webframework)', 'PDF Split and Merge', 'TerraLib', 'FoodNotify', 'Electron (Framework)', 'GNU Social', 'Cliqz', 'Electric (Software)', 'Team Win Recovery Project', 'Beautiful Soup', 'OpenWebRTC', 'Drush', 'React', 'Sensu (Monitoring)', 'OpenLB', 'Neos (Content Application Platform)', 'Thunder (CMS)', 'RethinkDB', 'Dämmwerk', 'Google Allo', 'Leaflet', 'Rufus (Software)', 'Folio (Bibliothekssoftware)', 'NetSurf', 'NativeScript', 'X Athena Widgets', 'MediathekView', 'SinusBot', 'Ausdrucksorientierte Programmiersprache', 'Pimcore', 'Google Assistant', 'Util-linux', 'Deep Learning', 'IBus', 'Cheat Engine', 'Synaptic (Software)', 'Discord', 'OpenUI5', 'JetBrains MPS', 'Mir (Display-Server-Protokoll)', 'AnyDesk', 'Mirai (Computerwurm)', 'ADITO', 'Felder in C', 'Zeiger (C)', 'Typedef', 'Abgabenkontonummer', 'JQuery Mobile', 'Zammad', 'NumPy', 'PDF24 Creator', 'OPALS', 'GOsa', 'Datentypen in C', 'Integreat', 'GlobaLeaks', 'LastPass', 'Michael-Alexander Beisecker', 'Open vSwitch', 'Bricx Command Center', 'OPUS (CAM-Software)', 'Digitaler Organismus', 'TensorFlow', 'Erbele', 'Hamming-Gewicht', 'Apache Flink', '1CRM', 'Deeplearning4j', 'WinPlan', 'FIDYST', 'GNU Solfege', 'ABC (Programmiersprache)', 'Apache Impala', 'H5P', 'Chemistry Development Kit', 'Rasdaman', 'Wiko Bausoftware', 'MarkLogic', 'Math Kernel Library', 'Kube (Software)', 'EdX', 'Bioclipse', 'Gurobi', 'Armitage (Software)', 'LabKey-Server', 'Caffe', 'Mastodon (Software)', 'RainbowCrack', 'ETrice', 'Softwarestack', 'Travis CI', 'Scylla (Datenbank)', 'Ns-3', 'Suricata (Software)', 'Angular', 'Metamath', 'Drools', 'Pale Moon', 'A-Frame (Framework)', 'Discourse (Software)', 'OpenSMILE', 'Codegolf', 'Cdist', 'AIDS (Trojanisches Pferd)', 'JASP', 'AMBER', 'ESpeak NG', 'Kubernetes', 'Drupal Commerce', 'Mediapurge', 'Systemprogrammiersprache', 'LXQt', 'NTBackup', 'Calliope mini', 'Hamilton C shell', 'Mebis', 'Havok Vision Game Engine', 'Fish (Shell)', 'Sonic Pi', 'Moq (Software)', 'Normaliz', 'Math42', 'FH Complete', 'Ext2Fsd', 'Ed Schröder', 'Low-Code-Plattform', 'Kibana', 'EZ Platform', 'TeamCity', 'Blockly', 'Step (Software)', 'ZeroNet', 'Danny Kopec', 'Rkt (Software)', 'Briar (Instant Messenger)', 'Universal Radio Hacker', 'Corosync Cluster Engine', '1893: A World’s Fair Mystery', 'Xcas', 'Anaconda (Python-Distribution)', 'Kirby (CMS)', 'Gephi', 'PyTorch', 'Synthesia', 'AOMedia Video 1', 'GNU parallel', 'Geneland', 'EdiabasLib', 'Bulma (Framework)', 'MUSCLE (Software)', 'ISBCAD', 'InterPlanetary File System', 'OsmAnd', 'Botan (Software)', 'Bludit', 'Tabulatorzeichen', 'Socket.IO', 'PowerToys', 'Racket (Programmiersprache)', 'PETSc', 'Info (Unix)', 'CentralStationCRM', 'AdAway', 'I-mscp', 'Colobot', 'Celum DAM', 'Open Camera', 'SlimDX', 'Verge3D', 'MCNP', 'NewPipe', 'AntennaPod', 'Phillip J. Plauger', 'Pandas (Software)', 'OpenKeychain', 'Keras', 'CudaText', 'PlayCanvas', 'Mattermost', 'Ginlo', 'Redux (JavaScript-Bibliothek)', 'Node-RED', 'WIEN2k', 'Serviceware Financial', 'Rundeck', 'SymPy', 'GigaMesh Software Framework', 'IoBroker', 'Flatpak', 'Sichtbarkeit (Programmierung)', 'Scikit-learn', 'Scikit-image', 'Proton (Software)', 'ZeroMQ', 'Business Basic eXtended', 'Wikibase', 'Papyrus (UML)', 'ShareLaTeX', 'Odoo', 'E2fsprogs', 'Element (Instant-Messenger)', 'NetworkX', 'DVTk', 'Lightning Memory-Mapped Database', 'OXID eShop', 'GraphQL', 'Edoobox', 'Microsoft Teams', 'Bionic (Software)', 'Webpack', 'ERPNext', 'Johnny-Simulator', 'Singularity (Software)', 'Umbrella (Software)', 'Basic-256', 'Redengine', 'Dlib', 'IDLE (Python)', 'Nicola Pellow', 'Celery', 'Apache OpenNLP', 'Lutris', 'Puddletag', 'SRF school', 'Goverlan Reach', 'Trix (Editor)', 'Twig (Template-Engine)', 'Protogrid', 'InfluxDB', 'Seahorse (Software)', 'ARCore', 'Budgie (Desktop-Umgebung)', 'Cargo (Software)', 'Nuitka', 'OctoPrint', 'Loomio', 'Programmierung (Begriffsklärung)', 'Cryptomator', 'PeachPie', 'Pascal Script', 'Litecoin Core', 'Ghidra', 'EToro', 'Vapor', 'Firefox Send', 'Fre:ac', 'Android-Softwareentwicklung', 'Sozi (Software)', 'Factro', 'RubyMotion', 'Solar2D', 'Mandelbulber', 'VCV Rack', 'Kleopatra (Software)', 'UWSGI', 'Houdini (Software)', 'Pi-hole', 'Open-Shell', 'SoX', 'Ken Silverman', 'Cavok (Software)', 'Numba (Softwarepaket)', 'Polymer (JavaScript-Bibliothek)', 'Open Liberty', 'OHRRPGCE', 'Sayonara Player', 'PERMAS', 'Flutter (Software)', 'LibreNMS', 'Caché ObjectScript', 'Gmsh', 'Sketchometry', 'Klarschiff', 'Rosetta Code', 'XVC', 'Distributed Concurrent Versions System', 'Apache Felix', 'Z-Way', 'Sylius', 'Thomas Reardon', 'Citizen Integrator', 'NaCl (Software)', 'ShelXle', 'Tomy Tutor', 'Raku (Programmiersprache)', 'Q-Sharp', 'Emacspeak', 'Ubuntu Software Center', 'Spyder (Software)', 'Twine (Software)', 'WireGuard', 'Amy Bruckman', 'GeckoCircuits', 'Apache Directory Server', 'Gson', 'BigBlueButton', 'Jacques Loeckx', 'Stopp Corona', 'DeepFaceLab', 'Ulrich Kortenkamp', 'Philipp Kalweit', 'Disk Killer', 'Particl (Kryptowährung)', 'Deno (Software)', 'User Experience Design', 'Grafana', 'TousAntiCovid', 'Zstandard', 'Naver Whale', 'Theano (Deep Learning)', 'SHELX', 'Interaktive Kunst', 'Scrapy (Software)', 'Onshape', 'Decentraleyes', 'Mobile-App-Entwicklung', 'Robo Wunderkind', 'Prometheus (Software)', 'DipTrace', 'Quarkus', 'Lshw', 'RubiChess', 'WinEV', 'Firefox Lockwise', 'Kig', 'YARA', 'SoSci Survey', 'MicroG', 'Video DownloadHelper', 'Avogadro (Moleküleditor)', 'Home Assistant', 'Beyond Compare', 'RavenDB', 'Youtube-dl', 'Amazon Lumberyard', 'Mycroft (Sprachassistent)', 'CGAL', 'ProWin', 'SORMAS', 'Chris Pile (Programmierer)', 'AmigaTeX', 'Gitea', '1Password', 'Mercury (Kristallographieprogramm)', 'Losslesscut', 'FusionInventory', 'IPXE', 'CrateDB', 'Xournal++', 'SimpleNLG', 'Registax', 'PlanetarySystemStacker', 'OxDNA', 'ROKA3', 'OpenRefine', 'CodeMyPic', 'Popcorn Time', 'Uniswap', 'Strapi', 'Teresa Burga', 'LAMMPS', 'Cmus', 'VOTCA', 'Mautic', 'Plain old CLR object', 'Boilerplate-Code', 'LanguageTool', 'MetaMask', 'Strawberry (Software)', 'JChemPaint', 'FreeCodeCamp', 'SimThyr', 'Windows Package Manager', 'Andrei Petrowitsch Jerschow', 'Pocket', 'Anatoli Iwanowitsch Kitow', 'OpenSearch (Software)', 'Glacier Engine', 'Shotcut', 'OpenBIS', 'PeerTube', 'Jedi (Spiel-Engine)', 'COMPACT II', 'Mesonbuild', 'Svelte (Framework)', 'Wolfram Language', 'Cyberattacke auf VSA-Server 2021', 'WavePad Audio Editor', 'Mary Allen Wilkes', 'MoltenVK', 'Ashampoo Photo Commander', 'Kanboard', 'Marlin (Software)', 'Amtliche Schulverwaltung', 'Apache TomEE', 'Bio7', 'Open Source Software Image Map', 'Age (Verschlüsselung)', 'GraphHopper', 'SerenityOS', 'Moodle Workplace', 'Diagrams.net', 'Google Präsentationen', 'Google Tabellen', 'Google Formulare', 'Google Zeichnungen', 'Zig (Programmiersprache)', 'Accord.NET', 'WPScan', '@enterprise', 'Fityk', 'PDF studio', 'Newt (Software)', 'Vergleich von Programmiersprachen', 'Ventoy', 'ESLint', 'Google Docs Editors', 'Gunicorn', 'Komodo IDE', 'TigerJython', 'Microsoft Office 2021', 'Phoenix Object Basic', 'Apache Traffic Server', 'YouTrack', 'Ultimaker Cura', 'Mario Klingemann', 'PlatformIO', 'Xwiki', 'Jamovi', 'Kea (Software)', 'Eclipse Che', 'Remote Communication Interception Software', 'VOGL', 'EScriptorium', 'BlocksCAD', 'Windows Terminal', 'Befehl (Computer)', 'PlantUML', 'Joplin (Software)', 'Quite OK Image Format', 'Manfred Paul (Informatiker)', 'XGBoost', 'Eclipse Theia', 'Restic', 'Marion Créhange', 'Bareos', 'Auswahl (Bildbearbeitung)', 'SeaTable', 'Laurie Hendren', '.NET MAUI', 'RustDesk', 'Ladybird', 'Conda (Paketverwaltung)', 'I don’t care about Cookies', 'Stable Diffusion', 'Orgavision', 'Organic Maps', 'Remote Code Execution', 'PipeWire', 'Jekyll (Software)', 'Pixelfed', 'Adminer', 'LeTTo', 'Oxygen Project', 'Trinity Desktop Environment', 'Apache NiFi']\n"
     ]
    }
   ],
   "source": [
    "print(filter_all_backlinks)"
   ],
   "metadata": {
    "collapsed": false
   }
  },
  {
   "cell_type": "code",
   "execution_count": 9,
   "outputs": [
    {
     "name": "stdout",
     "output_type": "stream",
     "text": [
      "Working on... Schmetterlinge\n",
      "2022546 sum 520 Anzahl backlinks von Schmetterlinge at 0 / 197\n",
      "Working on... Buntspecht\n",
      "1234583 sum 181 Anzahl backlinks von Buntspecht at 1 / 197\n",
      "Working on... Bartkauz\n",
      "117673 sum 125 Anzahl backlinks von Bartkauz at 2 / 197\n",
      "Working on... Chibinen\n",
      "34148 sum 264 Anzahl backlinks von Chibinen at 3 / 197\n",
      "Working on... Ibiza\n",
      "1154938 sum 443 Anzahl backlinks von Ibiza at 4 / 197\n",
      "Working on... Appetenzverhalten\n",
      "105924 sum 27 Anzahl backlinks von Appetenzverhalten at 5 / 197\n",
      "Working on... Hartenstein (Mittelfranken)\n",
      "42472 sum 189 Anzahl backlinks von Hartenstein (Mittelfranken) at 6 / 197\n",
      "Working on... Nahrungskette\n",
      "338283 sum 127 Anzahl backlinks von Nahrungskette at 7 / 197\n",
      "Working on... Singvögel\n",
      "439283 sum 208 Anzahl backlinks von Singvögel at 8 / 197\n",
      "Working on... Amsel\n",
      "3668715 sum 339 Anzahl backlinks von Amsel at 9 / 197\n",
      "Working on... Kohlmeise\n",
      "1824024 sum 212 Anzahl backlinks von Kohlmeise at 10 / 197\n",
      "Working on... Vögel\n",
      "1540145 sum 346 Anzahl backlinks von Vögel at 11 / 197\n",
      "Working on... Sperber (Art)\n",
      "934239 sum 111 Anzahl backlinks von Sperber (Art) at 12 / 197\n",
      "Working on... Blaumeise\n",
      "1391025 sum 260 Anzahl backlinks von Blaumeise at 13 / 197\n",
      "Working on... Sumpfmeise\n",
      "286046 sum 121 Anzahl backlinks von Sumpfmeise at 14 / 197\n",
      "Working on... Weidenmeise\n",
      "185585 sum 82 Anzahl backlinks von Weidenmeise at 15 / 197\n",
      "Working on... Haubenmeise\n",
      "203193 sum 46 Anzahl backlinks von Haubenmeise at 16 / 197\n",
      "Working on... Tannenmeise\n",
      "336277 sum 98 Anzahl backlinks von Tannenmeise at 17 / 197\n",
      "Working on... Schwanzmeise\n",
      "516643 sum 123 Anzahl backlinks von Schwanzmeise at 18 / 197\n",
      "Working on... Schlehdorn\n",
      "1507788 sum 168 Anzahl backlinks von Schlehdorn at 19 / 197\n",
      "Working on... Federsee\n",
      "211285 sum 472 Anzahl backlinks von Federsee at 20 / 197\n",
      "Working on... Neumarkt (Südtirol)\n",
      "95046 sum 260 Anzahl backlinks von Neumarkt (Südtirol) at 21 / 197\n",
      "Working on... Wendehals (Vogel)\n",
      "223829 sum 173 Anzahl backlinks von Wendehals (Vogel) at 22 / 197\n",
      "Working on... Haussperling\n",
      "1941729 sum 301 Anzahl backlinks von Haussperling at 23 / 197\n",
      "Working on... Kleiber (Art)\n",
      "957411 sum 98 Anzahl backlinks von Kleiber (Art) at 24 / 197\n",
      "Working on... Systematik der Vögel\n",
      "276960 sum 365 Anzahl backlinks von Systematik der Vögel at 25 / 197\n",
      "Working on... Paridae\n",
      "2450 sum 1 Anzahl backlinks von Paridae at 26 / 197\n",
      "Working on... Taubergießen\n",
      "83696 sum 310 Anzahl backlinks von Taubergießen at 27 / 197\n",
      "Working on... Isergebirge\n",
      "152093 sum 197 Anzahl backlinks von Isergebirge at 28 / 197\n",
      "Working on... Maisach (Amper)\n",
      "14827 sum 48 Anzahl backlinks von Maisach (Amper) at 29 / 197\n",
      "Working on... Geographie der Vereinigten Staaten\n",
      "481528 sum 745 Anzahl backlinks von Geographie der Vereinigten Staaten at 30 / 197\n",
      "Working on... Brauner Bär (Schmetterling)\n",
      "183834 sum 69 Anzahl backlinks von Brauner Bär (Schmetterling) at 31 / 197\n",
      "Working on... Schloss Hagenburg\n",
      "30571 sum 53 Anzahl backlinks von Schloss Hagenburg at 32 / 197\n",
      "Working on... Kohldistel\n",
      "63662 sum 69 Anzahl backlinks von Kohldistel at 33 / 197\n",
      "Working on... Höhlenbrüter\n",
      "63607 sum 59 Anzahl backlinks von Höhlenbrüter at 34 / 197\n",
      "Working on... Bartmeise\n",
      "70574 sum 43 Anzahl backlinks von Bartmeise at 35 / 197\n",
      "Working on... Trauerschnäpper\n",
      "166114 sum 37 Anzahl backlinks von Trauerschnäpper at 36 / 197\n",
      "Working on... Schönberg (Ebringen)\n",
      "42206 sum 189 Anzahl backlinks von Schönberg (Ebringen) at 37 / 197\n",
      "Working on... Pinien-Prozessionsspinner\n",
      "159665 sum 76 Anzahl backlinks von Pinien-Prozessionsspinner at 38 / 197\n",
      "Working on... Kleiner Schillerfalter\n",
      "50433 sum 52 Anzahl backlinks von Kleiner Schillerfalter at 39 / 197\n",
      "Working on... Schnurrvögel\n",
      "27004 sum 67 Anzahl backlinks von Schnurrvögel at 40 / 197\n",
      "Working on... Straßenverkehrslärm\n",
      "107433 sum 120 Anzahl backlinks von Straßenverkehrslärm at 41 / 197\n",
      "Working on... Geographie Deutschlands\n",
      "546973 sum 858 Anzahl backlinks von Geographie Deutschlands at 42 / 197\n",
      "Working on... Lasurmeise\n",
      "30468 sum 27 Anzahl backlinks von Lasurmeise at 43 / 197\n",
      "Working on... Liste der Straßennamen in Ravensburg\n",
      "14498 sum 327 Anzahl backlinks von Liste der Straßennamen in Ravensburg at 44 / 197\n",
      "Working on... Dunenspecht\n",
      "15403 sum 83 Anzahl backlinks von Dunenspecht at 45 / 197\n",
      "Working on... Hans Löhrl\n",
      "4478 sum 41 Anzahl backlinks von Hans Löhrl at 46 / 197\n",
      "Working on... Handschwinge\n",
      "32135 sum 18 Anzahl backlinks von Handschwinge at 47 / 197\n",
      "Working on... Usutu-Virus\n",
      "190325 sum 109 Anzahl backlinks von Usutu-Virus at 48 / 197\n",
      "Working on... Grüner Tropfenastrild\n",
      "5679 sum 57 Anzahl backlinks von Grüner Tropfenastrild at 49 / 197\n",
      "Working on... Grauhäubchenmeise\n",
      "Working on... Meise (Begriffsklärung)\n",
      "6318 sum 14 Anzahl backlinks von Meise (Begriffsklärung) at 51 / 197\n",
      "Working on... Zweitbrut\n",
      "3595 sum 19 Anzahl backlinks von Zweitbrut at 52 / 197\n",
      "Working on... Schwarzkopfmeise\n",
      "56931 sum 21 Anzahl backlinks von Schwarzkopfmeise at 53 / 197\n",
      "Working on... Deutschland\n",
      "44606346 sum 2236 Anzahl backlinks von Deutschland at 54 / 197\n",
      "Working on... Sikora\n",
      "20016 sum 60 Anzahl backlinks von Sikora at 55 / 197\n",
      "Working on... Kokardenspecht\n",
      "6583 sum 58 Anzahl backlinks von Kokardenspecht at 56 / 197\n",
      "Working on... Baumhopfe\n",
      "21122 sum 49 Anzahl backlinks von Baumhopfe at 57 / 197\n",
      "Working on... Borodino-Buntmeise\n",
      "3966 sum 20 Anzahl backlinks von Borodino-Buntmeise at 58 / 197\n",
      "Working on... Buntmeise\n",
      "28237 sum 61 Anzahl backlinks von Buntmeise at 59 / 197\n",
      "Working on... Gebirgsmeise\n",
      "Working on... Hudsonmeise\n",
      "13244 sum 40 Anzahl backlinks von Hudsonmeise at 61 / 197\n",
      "Working on... Taiwanmeise\n",
      "11903 sum 29 Anzahl backlinks von Taiwanmeise at 62 / 197\n",
      "Working on... Es rappelt im Karton\n",
      "51752 sum 49 Anzahl backlinks von Es rappelt im Karton at 63 / 197\n",
      "Working on... Liste Ingolstädter Straßennamen\n",
      "23036 sum 917 Anzahl backlinks von Liste Ingolstädter Straßennamen at 64 / 197\n",
      "Working on... Uebachtal\n",
      "2877 sum 156 Anzahl backlinks von Uebachtal at 65 / 197\n",
      "Working on... Montgrí-Massiv\n",
      "6907 sum 57 Anzahl backlinks von Montgrí-Massiv at 66 / 197\n",
      "Working on... Lapplandmeise\n",
      "16062 sum 20 Anzahl backlinks von Lapplandmeise at 67 / 197\n",
      "Working on... Balkanmeise\n",
      "Working on... Schöndorf (an der Ruwer)\n",
      "22254 sum 194 Anzahl backlinks von Schöndorf (an der Ruwer) at 69 / 197\n",
      "Working on... Alter Friedhof (Gießen)\n",
      "24946 sum 129 Anzahl backlinks von Alter Friedhof (Gießen) at 70 / 197\n",
      "Working on... Liste der Strassennamen von Basel\n",
      "77098 sum 617 Anzahl backlinks von Liste der Strassennamen von Basel at 71 / 197\n",
      "Working on... Pechpfuhl (Ludwigsfelde)\n",
      "8015 sum 83 Anzahl backlinks von Pechpfuhl (Ludwigsfelde) at 72 / 197\n",
      "Working on... Cyanistes\n",
      "12021 sum 33 Anzahl backlinks von Cyanistes at 73 / 197\n",
      "Working on... Liste Planegger Straßennamen\n",
      "4041 sum 97 Anzahl backlinks von Liste Planegger Straßennamen at 74 / 197\n",
      "Working on... Wintergoldhähnchen\n",
      "570737 sum 66 Anzahl backlinks von Wintergoldhähnchen at 75 / 197\n",
      "Working on... Buchsbaumzünsler\n",
      "1623158 sum 92 Anzahl backlinks von Buchsbaumzünsler at 76 / 197\n",
      "Working on... Gleispark Frintrop\n",
      "11178 sum 112 Anzahl backlinks von Gleispark Frintrop at 77 / 197\n",
      "Working on... Meisenknödel\n",
      "60817 sum 21 Anzahl backlinks von Meisenknödel at 78 / 197\n",
      "Working on... Mesenholl\n",
      "4227 sum 57 Anzahl backlinks von Mesenholl at 79 / 197\n",
      "Working on... Naturschutzgebiet Jellen\n",
      "3679 sum 97 Anzahl backlinks von Naturschutzgebiet Jellen at 80 / 197\n",
      "Working on... Katy Trail State Park\n",
      "4469 sum 50 Anzahl backlinks von Katy Trail State Park at 81 / 197\n",
      "Working on... Aegithalos\n",
      "6180 sum 32 Anzahl backlinks von Aegithalos at 82 / 197\n",
      "Working on... Schwanzmeisen\n",
      "44815 sum 47 Anzahl backlinks von Schwanzmeisen at 83 / 197\n",
      "Working on... Parus\n",
      "6491 sum 5 Anzahl backlinks von Parus at 84 / 197\n",
      "Working on... Liste der Hemeraner Straßennamen\n",
      "11104 sum 328 Anzahl backlinks von Liste der Hemeraner Straßennamen at 85 / 197\n",
      "Working on... Rotbrustmeise\n",
      "16195 sum 41 Anzahl backlinks von Rotbrustmeise at 86 / 197\n",
      "Working on... Handbook of the Birds of the World\n",
      "18051 sum 236 Anzahl backlinks von Handbook of the Birds of the World at 87 / 197\n",
      "Working on... Rago-Nationalpark\n",
      "11534 sum 120 Anzahl backlinks von Rago-Nationalpark at 88 / 197\n",
      "Working on... Katavi-Nationalpark\n",
      "13337 sum 800 Anzahl backlinks von Katavi-Nationalpark at 89 / 197\n",
      "Working on... Rudolf Berndt (Ornithologe)\n",
      "3912 sum 33 Anzahl backlinks von Rudolf Berndt (Ornithologe) at 90 / 197\n",
      "Working on... Liste der Straßen in Olpe\n",
      "8927 sum 231 Anzahl backlinks von Liste der Straßen in Olpe at 91 / 197\n",
      "Working on... Hüttensänger\n",
      "62753 sum 111 Anzahl backlinks von Hüttensänger at 92 / 197\n",
      "Working on... Len Howard\n",
      "7859 sum 22 Anzahl backlinks von Len Howard at 93 / 197\n",
      "Working on... Meißwinkel (Kürten)\n",
      "3192 sum 234 Anzahl backlinks von Meißwinkel (Kürten) at 94 / 197\n",
      "Working on... Vogelschutzgehölz Hausener Auwald\n",
      "3818 sum 38 Anzahl backlinks von Vogelschutzgehölz Hausener Auwald at 95 / 197\n",
      "Working on... Meise\n",
      "31032 sum 1 Anzahl backlinks von Meise at 96 / 197\n",
      "Working on... Meisen (Begriffsklärung)\n",
      "6579 sum 9 Anzahl backlinks von Meisen (Begriffsklärung) at 97 / 197\n",
      "Working on... Kurzschwanzspecht\n",
      "4696 sum 34 Anzahl backlinks von Kurzschwanzspecht at 98 / 197\n",
      "Working on... Braunbürzelspecht\n",
      "3085 sum 33 Anzahl backlinks von Braunbürzelspecht at 99 / 197\n",
      "Working on... Dommelspecht\n",
      "3191 sum 31 Anzahl backlinks von Dommelspecht at 100 / 197\n",
      "Working on... Beutelmeisen\n",
      "32538 sum 53 Anzahl backlinks von Beutelmeisen at 101 / 197\n",
      "Working on... Liste der Straßennamen von Burgdorf (Region Hannover)\n",
      "13241 sum 164 Anzahl backlinks von Liste der Straßennamen von Burgdorf (Region Hannover) at 102 / 197\n",
      "Working on... Spechtschaden\n",
      "21588 sum 7 Anzahl backlinks von Spechtschaden at 103 / 197\n",
      "Working on... Burckhardtshöhe\n",
      "4890 sum 115 Anzahl backlinks von Burckhardtshöhe at 104 / 197\n",
      "Working on... Unglückshäher (Gattung)\n",
      "17203 sum 53 Anzahl backlinks von Unglückshäher (Gattung) at 105 / 197\n",
      "Working on... Lilla Lövö\n",
      "3062 sum 18 Anzahl backlinks von Lilla Lövö at 106 / 197\n",
      "Working on... Liste der Wirbeltierarten des Kruger-Nationalparks\n",
      "25753 sum 632 Anzahl backlinks von Liste der Wirbeltierarten des Kruger-Nationalparks at 107 / 197\n",
      "Working on... Europa- und Naturschutzgebiet Gerzkopf\n",
      "3731 sum 105 Anzahl backlinks von Europa- und Naturschutzgebiet Gerzkopf at 108 / 197\n",
      "Working on... Arten des Anhangs I der Vogelschutzrichtlinie der EU\n",
      "55434 sum 251 Anzahl backlinks von Arten des Anhangs I der Vogelschutzrichtlinie der EU at 109 / 197\n",
      "Working on... Liste der Straßen und Plätze in Berlin-Dahlem\n",
      "58459 sum 639 Anzahl backlinks von Liste der Straßen und Plätze in Berlin-Dahlem at 110 / 197\n",
      "Working on... Gordon Bay Provincial Park\n",
      "3106 sum 55 Anzahl backlinks von Gordon Bay Provincial Park at 111 / 197\n",
      "Working on... Groß Zicker\n",
      "16695 sum 27 Anzahl backlinks von Groß Zicker at 112 / 197\n",
      "Working on... Stillleben mit Obstschale, Vögeln und Fensterausblick\n",
      "10964 sum 24 Anzahl backlinks von Stillleben mit Obstschale, Vögeln und Fensterausblick at 113 / 197\n",
      "Working on... Hüttertal\n",
      "19417 sum 188 Anzahl backlinks von Hüttertal at 114 / 197\n",
      "Working on... Henry Whitely\n",
      "4000 sum 83 Anzahl backlinks von Henry Whitely at 115 / 197\n",
      "Working on... Beth Slikas\n",
      "3424 sum 37 Anzahl backlinks von Beth Slikas at 116 / 197\n",
      "Working on... Laasn\n",
      "4859 sum 60 Anzahl backlinks von Laasn at 117 / 197\n",
      "Working on... Gutshaus Friedenfelde\n",
      "5872 sum 59 Anzahl backlinks von Gutshaus Friedenfelde at 118 / 197\n",
      "Working on... Hanko-Halbinsel\n",
      "8889 sum 29 Anzahl backlinks von Hanko-Halbinsel at 119 / 197\n",
      "Working on... Neusser Stadtwald\n",
      "8545 sum 58 Anzahl backlinks von Neusser Stadtwald at 120 / 197\n",
      "Working on... Hellwinkel\n",
      "11672 sum 126 Anzahl backlinks von Hellwinkel at 121 / 197\n",
      "Working on... Josef Prokop Pražák\n",
      "1413 sum 23 Anzahl backlinks von Josef Prokop Pražák at 122 / 197\n",
      "Working on... Liste der Straßen, Plätze und Brücken in Hamburg-Barmbek-Nord\n",
      "19245 sum 277 Anzahl backlinks von Liste der Straßen, Plätze und Brücken in Hamburg-Barmbek-Nord at 123 / 197\n",
      "Working on... Liste der Straßen in Freising\n",
      "14660 sum 294 Anzahl backlinks von Liste der Straßen in Freising at 124 / 197\n",
      "Working on... Prestvannet\n",
      "5577 sum 137 Anzahl backlinks von Prestvannet at 125 / 197\n",
      "Working on... Liste der Straßennamen von Hof\n",
      "19766 sum 247 Anzahl backlinks von Liste der Straßennamen von Hof at 126 / 197\n",
      "Working on... Schwattet Gatt\n",
      "10697 sum 147 Anzahl backlinks von Schwattet Gatt at 127 / 197\n",
      "Working on... Sýkořice\n",
      "4301 sum 130 Anzahl backlinks von Sýkořice at 128 / 197\n",
      "Working on... Liebesinsel (Spree)\n",
      "22743 sum 46 Anzahl backlinks von Liebesinsel (Spree) at 129 / 197\n",
      "Working on... Notchview\n",
      "1999 sum 61 Anzahl backlinks von Notchview at 130 / 197\n",
      "Working on... Liste der Straßennamen von Schwarzenbach an der Saale\n",
      "6684 sum 132 Anzahl backlinks von Liste der Straßennamen von Schwarzenbach an der Saale at 131 / 197\n",
      "Working on... Tibetmeise\n",
      "9182 sum 48 Anzahl backlinks von Tibetmeise at 132 / 197\n",
      "Working on... Liste der Straßen in Selm\n",
      "7282 sum 169 Anzahl backlinks von Liste der Straßen in Selm at 133 / 197\n",
      "Working on... Liste der Straßen in Bergkamen\n",
      "10033 sum 278 Anzahl backlinks von Liste der Straßen in Bergkamen at 134 / 197\n",
      "Working on... Bylerward\n",
      "6116 sum 89 Anzahl backlinks von Bylerward at 135 / 197\n",
      "Working on... Kanarenmeise\n",
      "19397 sum 31 Anzahl backlinks von Kanarenmeise at 136 / 197\n",
      "Working on... Grauhaubenmeise\n",
      "Working on... Fichtenmeise\n",
      "21767 sum 49 Anzahl backlinks von Fichtenmeise at 138 / 197\n",
      "Working on... Philogène Auguste Galilée Wytsman\n",
      "3248 sum 49 Anzahl backlinks von Philogène Auguste Galilée Wytsman at 139 / 197\n",
      "Working on... Liste der Straßennamen in Solingen (A–H)\n",
      "20795 sum 623 Anzahl backlinks von Liste der Straßennamen in Solingen (A–H) at 140 / 197\n",
      "Working on... Sondernaturschutzgebiet des Parks Burcina\n",
      "2825 sum 51 Anzahl backlinks von Sondernaturschutzgebiet des Parks Burcina at 141 / 197\n",
      "Working on... Liste der Straßennamen in Solingen (R–Z)\n",
      "11816 sum 411 Anzahl backlinks von Liste der Straßennamen in Solingen (R–Z) at 142 / 197\n",
      "Working on... Blochinger Sandwinkel\n",
      "4312 sum 193 Anzahl backlinks von Blochinger Sandwinkel at 143 / 197\n",
      "Working on... Brillenmeise\n",
      "Working on... Schwarzhäubchenmeise\n",
      "10215 sum 32 Anzahl backlinks von Schwarzhäubchenmeise at 145 / 197\n",
      "Working on... Apodaca Provincial Park\n",
      "2607 sum 43 Anzahl backlinks von Apodaca Provincial Park at 146 / 197\n",
      "Working on... Sultansmeise\n",
      "10947 sum 65 Anzahl backlinks von Sultansmeise at 147 / 197\n",
      "Working on... Sambesi-Rußmeise\n",
      "2011 sum 42 Anzahl backlinks von Sambesi-Rußmeise at 148 / 197\n",
      "Working on... Liste der Straßen in Essen-Burgaltendorf\n",
      "5712 sum 104 Anzahl backlinks von Liste der Straßen in Essen-Burgaltendorf at 149 / 197\n",
      "Working on... Schloss Clerf\n",
      "28083 sum 65 Anzahl backlinks von Schloss Clerf at 150 / 197\n",
      "Working on... Königsmeise\n",
      "9505 sum 47 Anzahl backlinks von Königsmeise at 151 / 197\n",
      "Working on... Liste der Straßen und Plätze in Prohlis\n",
      "3189 sum 186 Anzahl backlinks von Liste der Straßen und Plätze in Prohlis at 152 / 197\n",
      "Working on... Elfenschnäpper (Familie)\n",
      "Working on... Goldhähnchen-Laubsänger\n",
      "11979 sum 127 Anzahl backlinks von Goldhähnchen-Laubsänger at 154 / 197\n",
      "Working on... Bergkohlmeise\n",
      "9040 sum 34 Anzahl backlinks von Bergkohlmeise at 155 / 197\n",
      "Working on... Liste der Straßennamen von Igersheim\n",
      "2944 sum 99 Anzahl backlinks von Liste der Straßennamen von Igersheim at 156 / 197\n",
      "Working on... Weichfresser\n",
      "10222 sum 56 Anzahl backlinks von Weichfresser at 157 / 197\n",
      "Working on... Vogelnest\n",
      "47385 sum 80 Anzahl backlinks von Vogelnest at 158 / 197\n",
      "Working on... Liste der Straßen, Plätze und Brücken in Hamburg-Poppenbüttel\n",
      "4538 sum 171 Anzahl backlinks von Liste der Straßen, Plätze und Brücken in Hamburg-Poppenbüttel at 159 / 197\n",
      "Working on... Raet-Nationalpark\n",
      "2018 sum 68 Anzahl backlinks von Raet-Nationalpark at 160 / 197\n",
      "Working on... Christopher M. Perrins\n",
      "1971 sum 46 Anzahl backlinks von Christopher M. Perrins at 161 / 197\n",
      "Working on... Elizabeth Lack\n",
      "949 sum 27 Anzahl backlinks von Elizabeth Lack at 162 / 197\n",
      "Working on... Stadtwald (Bad Salzuflen)\n",
      "2205 sum 147 Anzahl backlinks von Stadtwald (Bad Salzuflen) at 163 / 197\n",
      "Working on... Suttonella ornithocola\n",
      "22169 sum 36 Anzahl backlinks von Suttonella ornithocola at 164 / 197\n",
      "Working on... Liste der Straßen in Aachen-Mitte\n",
      "13782 sum 906 Anzahl backlinks von Liste der Straßen in Aachen-Mitte at 165 / 197\n",
      "Working on... Liste der Straßen und Plätze in Trier\n",
      "9197 sum 589 Anzahl backlinks von Liste der Straßen und Plätze in Trier at 166 / 197\n",
      "Working on... Hyliotas\n",
      "1025 sum 23 Anzahl backlinks von Hyliotas at 167 / 197\n",
      "Working on... Baumsänger\n",
      "978 sum 26 Anzahl backlinks von Baumsänger at 168 / 197\n",
      "Working on... Tigerzaunkönig\n",
      "1108 sum 66 Anzahl backlinks von Tigerzaunkönig at 169 / 197\n",
      "Working on... Liste der Wappen in der Verbandsgemeinde Ruwer\n",
      "1265 sum 113 Anzahl backlinks von Liste der Wappen in der Verbandsgemeinde Ruwer at 170 / 197\n",
      "Working on... Liste der Straßennamen von Heilbronn\n",
      "798 sum 849 Anzahl backlinks von Liste der Straßennamen von Heilbronn at 171 / 197\n",
      "Working on... Jacques Blondel (Ökologe)\n",
      "575 sum 33 Anzahl backlinks von Jacques Blondel (Ökologe) at 172 / 197\n",
      "Working on... Gipfel des Glockert\n",
      "490 sum 35 Anzahl backlinks von Gipfel des Glockert at 173 / 197\n",
      "Working on... Meißen (Begriffsklärung)\n",
      "7791 sum 27 Anzahl backlinks von Meißen (Begriffsklärung) at 174 / 197\n",
      "Working on... Cebukauz\n",
      "390 sum 52 Anzahl backlinks von Cebukauz at 175 / 197\n",
      "Working on... Vogelbestimmung\n",
      "642 sum 83 Anzahl backlinks von Vogelbestimmung at 176 / 197\n",
      "Working on... Liste der Straßennamen und Ortschaften Klagenfurts\n",
      "829 sum 1420 Anzahl backlinks von Liste der Straßennamen und Ortschaften Klagenfurts at 177 / 197\n",
      "Working on... Kalkklippen der Gobert\n",
      "287 sum 227 Anzahl backlinks von Kalkklippen der Gobert at 178 / 197\n",
      "Working on... Haubenvireo\n",
      "Working on... Sylviida\n",
      "Working on... Dreifarben-Brillenvanga\n",
      "Working on... Braunstirn-Brillenvanga\n",
      "Working on... Weißmantel-Rußmeise\n",
      "Working on... Somalirußmeise\n",
      "Working on... Schwarzbrust-Rußmeise\n",
      "Working on... Rostkehl-Rußmeise\n",
      "Working on... Einfarb-Rußmeise\n",
      "Working on... Weißschulter-Rußmeise\n",
      "Working on... Weißflügel-Rußmeise\n",
      "Working on... Weißbauch-Rußmeise\n",
      "Working on... Rostbauch-Rußmeise\n",
      "Working on... Miomborußmeise\n",
      "Working on... Kaprußmeise\n",
      "Working on... Akazienrußmeise\n",
      "Working on... Zimtbauch-Rußmeise\n",
      "Working on... Carprußmeise\n"
     ]
    }
   ],
   "source": [
    "num_link_data = []\n",
    "sumview_data = []\n",
    "for position, entrys in enumerate(filter_all_backlinks):\n",
    "        try:\n",
    "            print(\"Working on...\", entrys )\n",
    "            number = get_links(entrys,\"links\")\n",
    "            num_views = sum(get_views(entrys))\n",
    "            print(num_views,\"sum\" , len(number),\"Anzahl backlinks von\", entrys,\"at\" , position, \"/\", len(filter_all_backlinks))\n",
    "            num_link_data.append([entrys,len(number)]) #savin an array consisting of the article, then the number of all backlinks they have.\n",
    "            sumview_data.append([entrys,num_views]) #saving an array consisting of the Article, then the sum of all views.\n",
    "        except:\n",
    "            pass"
   ],
   "metadata": {
    "collapsed": false
   }
  },
  {
   "cell_type": "markdown",
   "source": [
    "Zipping the lists together"
   ],
   "metadata": {
    "collapsed": false
   }
  },
  {
   "cell_type": "code",
   "execution_count": 18,
   "outputs": [
    {
     "name": "stdout",
     "output_type": "stream",
     "text": [
      "No Data Availible for: Jakarta Faces\n",
      "No Data Availible for: Keysight VEE\n",
      "No Data Availible for: Bildungsorientierte Programmiersprache\n",
      "No Data Availible for: Winestro.Cloud\n",
      "No Data Availible for: Windows Medienwiedergabe\n",
      "No Data Availible for: Meld\n",
      "No Data Availible for: High-Leit\n",
      "No Data Availible for: Phoenix Object Basic\n",
      "No Data Availible for: Restic\n",
      "No Data Availible for: Marion Créhange\n",
      "No Data Availible for: Bareos\n",
      "No Data Availible for: Auswahl (Bildbearbeitung)\n",
      "No Data Availible for: SeaTable\n",
      "No Data Availible for: Laurie Hendren\n",
      "No Data Availible for: .NET MAUI\n",
      "No Data Availible for: RustDesk\n",
      "No Data Availible for: Ladybird\n",
      "No Data Availible for: Conda (Paketverwaltung)\n",
      "No Data Availible for: I don’t care about Cookies\n",
      "No Data Availible for: Stable Diffusion\n",
      "No Data Availible for: Orgavision\n",
      "No Data Availible for: Organic Maps\n",
      "No Data Availible for: PipeWire\n",
      "No Data Availible for: Pixelfed\n",
      "No Data Availible for: Adminer\n",
      "No Data Availible for: LeTTo\n",
      "No Data Availible for: Apache NiFi\n",
      "No Data Availible for: Jakarta Faces\n",
      "No Data Availible for: Keysight VEE\n",
      "No Data Availible for: Bildungsorientierte Programmiersprache\n",
      "No Data Availible for: Winestro.Cloud\n",
      "No Data Availible for: Windows Medienwiedergabe\n",
      "No Data Availible for: Meld\n",
      "No Data Availible for: High-Leit\n",
      "No Data Availible for: Phoenix Object Basic\n",
      "No Data Availible for: Restic\n",
      "No Data Availible for: Marion Créhange\n",
      "No Data Availible for: Bareos\n",
      "No Data Availible for: Auswahl (Bildbearbeitung)\n",
      "No Data Availible for: SeaTable\n",
      "No Data Availible for: Laurie Hendren\n",
      "No Data Availible for: .NET MAUI\n",
      "No Data Availible for: RustDesk\n",
      "No Data Availible for: Ladybird\n",
      "No Data Availible for: Conda (Paketverwaltung)\n",
      "No Data Availible for: I don’t care about Cookies\n",
      "No Data Availible for: Stable Diffusion\n",
      "No Data Availible for: Orgavision\n",
      "No Data Availible for: Organic Maps\n",
      "No Data Availible for: PipeWire\n",
      "No Data Availible for: Pixelfed\n",
      "No Data Availible for: Adminer\n",
      "No Data Availible for: LeTTo\n",
      "No Data Availible for: Apache NiFi\n",
      "[193306, 192279, 168999, 107113, 114291, 180773, 187065, 194000, 178636, 153779, 100835, 121963, 188676, 193975, 177321, 174252, 144614, 107986, 123302, 161692, 160559, 156553, 165487, 140306, 112122, 117929, 163394, 161610, 164961, 150949, 129093, 100398, 112790, 140914, 160400, 154120, 150195, 138478, 109810, 127998, 166179, 182531, 186138, 173372, 150768, 114892, 123877, 184922, 200556, 177032, 176465, 153307, 102228, 117417, 185767, 185316, 174245, 179468, 155967, 109875, 114528, 170013, 187023, 184163, 179661, 161504, 113274, 121481, 188834, 189907, 186180, 176698, 162036, 109012, 123245, 187922, 197362, 200508, 199048, 168598, 115731, 127346, 182978, 201604, 201279, 194849, 165520, 115625, 125682, 189350, 194021, 195869, 187253, 161885, 164740, 132077, 198790, 197449, 203956, 184818, 166757, 118815, 125953, 180642, 190005, 198143, 186380, 166896, 124490, 138580, 186454, 192661, 191121, 187425, 165551, 125832, 151052, 208448, 208414, 231796, 192745, 169238, 119651, 140931, 210427, 217131, 223307, 209560, 177638, 139633, 153842, 213324, 215477, 208665, 199615, 192056, 128010, 153029, 209594, 207923, 218982, 219218, 195994, 136936, 161150, 230313, 220257, 213312, 212984, 193509, 129770, 151579, 223812, 218708, 264032, 203408, 190752, 126278, 140863, 200831, 213409, 210074, 238274, 184355, 128305, 151740, 216108, 202637, 215703, 197323, 167500, 119195, 138756, 157529, 170564, 135875, 98773, 116608, 123304, 131390, 140417, 142922, 137697, 108210, 124706, 144800, 152465, 213375, 221597, 206914, 215964, 204429, 145324, 160558, 238454, 235839, 231050, 222436, 204699, 145634, 160468, 233092, 238860, 236707, 227934, 191197, 146890, 160224, 226287, 234829, 228790, 221330, 193697, 141520, 159657, 223219, 227773, 227185, 217072, 185101, 139007, 147601, 191116, 201743, 206319, 202309, 182179, 139983, 163903, 228688, 227104, 226871, 214270, 193042, 143584, 157133, 226010, 230558, 248690, 219034, 192273, 134242, 149453, 246000, 229122, 226375, 234191, 191114, 141942, 153013, 225703, 248866, 217739, 211963, 183839, 135403, 144980, 211118, 216405, 211278, 197349, 178986, 130143, 141795, 200865, 197082, 187886, 167163, 137198, 113147, 118098, 137010, 193591, 202492, 191868, 191889, 124704, 131274, 208023, 207757, 214817, 211973, 191613, 132684, 137853, 204490, 211399, 212565, 212805, 190067, 122747, 141757, 208699, 220181, 212518, 201626, 177222, 132188, 172626, 222796, 222381, 206078, 205562, 172763, 121569, 133278, 195257, 214762, 185613, 121465, 128770, 104781, 118722, 196199, 214393, 210750, 238325, 208852, 167765, 142028, 141812, 172995, 176889, 176616, 157899, 107486, 132357, 207212, 212921, 259172, 157326, 155388, 111169, 129782, 203954, 213164, 201718, 200122, 175823, 115407, 128867, 198904, 199256, 331119, 195260, 157251, 115886, 132067, 197406, 205753, 197241, 188112, 172963, 116090, 133673, 202275, 197087, 195037, 185268, 152729, 115765, 120278, 185841, 194323, 188011, 172369, 155545, 108854, 122290, 181185, 195805, 198442, 168680, 152123, 104809, 111940, 180265, 184542, 188028, 181331, 155721, 104471, 119007, 175992, 161422, 162420, 166975, 145308, 105176, 121649, 179370, 178467, 180006, 169990, 149927, 101632, 113375, 165752, 184398, 180289, 161841, 151591, 103903, 106819, 149136, 158920, 160021, 157331, 147823, 102307, 114340, 146610, 154870, 154928, 151767, 139008, 106475, 114920, 161216, 158066, 155065, 156411, 136607, 99495, 112855, 169774, 183262, 176828, 178499, 161414, 105129, 127657, 190042, 193691, 188548, 176249, 149483, 105660, 117462, 179154, 194729, 183666, 180401, 172515, 122781, 135026, 195655, 200141, 196534, 195147, 171692, 115353, 124605, 191068, 200480, 212377, 194328, 170016, 119744, 130138, 157611, 205077, 197515, 203351, 182498, 134634, 136099, 205268, 206704, 211089, 190907, 200098, 131597, 140258, 211038, 206214, 214432, 209002, 180592, 131324, 144102, 200225, 198875, 199859, 191940, 166802, 125415, 146093, 192138, 199348, 214699, 215243, 192794, 141685, 173892, 215176, 219272, 204801, 200376, 175381, 145332, 155691, 237033, 228800, 226991, 231624, 181159, 133655, 150610, 216823, 228901, 218353, 201954, 179598, 126471, 141006, 212370, 215855, 204087, 197707, 173726, 124649, 141058, 199627, 195398, 201122, 192419, 164870, 122354, 142450, 231385, 196420, 204439, 193581, 170876, 124744, 138437, 193766, 172465, 174509, 158232, 119171, 91744, 108311, 116619, 146614, 147293, 131158, 121262, 100308, 113238, 161980, 193110, 197504, 172362, 155200, 135716, 150793, 222650, 231040, 221315, 214166, 191290, 146035, 157072, 224519, 222310, 225276, 208021, 186455, 137207, 151260, 218985, 220884, 218717, 216279, 205996, 169901, 148684, 217221, 223792, 202604, 210049, 191033, 136141, 149040, 213429, 213521, 218354, 200616, 187023, 133294, 146697, 209425, 210077, 210909, 209799, 184654, 138615, 146663, 210480, 223418, 224778, 201089, 203331, 204238, 137230, 182069, 208832, 210196, 218496, 190979, 124694, 141369, 206378, 219806, 224025, 207091, 173580, 123604, 135824, 197768, 187507, 185019, 175435, 160030, 134490, 145948, 208687, 198210, 207980, 193617, 171820, 118796, 129472, 199076, 206171, 192528, 187045, 170554, 110459, 123617, 181616, 201131, 194303, 179769, 168383, 108855, 111427, 182942, 185492, 176532, 157176, 128340, 113871, 116562, 135242, 188087, 210884, 191169, 185931, 127946, 136940, 213187, 204206, 198682, 190306, 169556, 114001, 114005, 143843, 209859, 205350, 200829, 176156, 118835, 135519, 203596, 210666, 196174, 189343, 169183, 115151, 124551, 187102, 189233, 185851, 187256, 171443, 114823, 122896, 181931, 188301, 171182, 112959, 120643, 100017, 117062, 182243, 207036, 192187, 181923, 160150, 103201, 117344, 125586, 184111, 189711, 184241, 159009, 106305, 116813, 185590, 186283, 169735, 150330, 146886, 108459, 119694, 173927, 179400, 181411, 179254, 154140, 104891, 121169, 179288, 185150, 185123, 172606, 154249, 107682, 124956, 196807, 183969, 161174, 171946, 151077, 120343, 118998, 181445, 181415, 179005, 170808, 156244, 105098, 113167, 171728, 168268, 168495, 167857, 151831, 108268, 117751, 172693, 177223, 176722, 164822, 140771, 100836, 108409, 142689, 149527, 147273, 145721, 131244, 98076, 110653, 149835, 151867, 153540, 151703, 136682, 100638, 103350, 139149, 141632, 149493, 152438, 134156, 98192, 106070, 164726, 164655, 163105, 167724, 144263, 96828, 110292, 158279, 154830, 163730, 172650, 153703, 100303, 106809, 170857, 181287, 183752, 167980, 162879, 107705, 116628, 182232, 188263, 184248, 181411, 158849, 104454, 119096, 169001, 172079, 166472, 177217, 160593, 109330, 107460, 176806, 186396, 183457, 172865, 154876, 105239, 110694, 138419, 137484, 186263, 181137, 165382, 120006, 127019, 193089, 199748, 196614, 188237, 164038, 106137, 117934, 170509, 176908, 176891, 176439, 156819, 116544, 134426, 195857, 194563, 192635, 183227, 165682, 110211, 127973, 161358, 133231, 170220, 184828, 176082, 118065, 140693, 201883, 206207, 211337, 203495, 175460, 121298, 141619, 204679, 211444, 207382, 198831, 180715, 122945, 146493, 201498, 207536, 207542, 188718, 169055, 120634, 145692, 201348, 206159, 196791, 182847, 162159, 113962, 132639, 201498, 196802, 183870, 181140, 162364, 112594, 130229, 198142, 196524, 186424, 181240, 159261, 109413, 128427, 182308, 173815, 163410, 150699, 115876, 103123, 93511, 103062, 109810, 140264, 140341, 125039, 109090, 96062, 101775, 146094, 175656, 179768, 170072, 124117, 137966, 199054, 201158, 208853, 195755, 178670, 124374, 142913, 213852, 204509, 208536, 189369, 176450, 122047, 136890, 199484, 333571, 202456, 192362, 175612, 121073, 137571, 196778, 203370, 200029, 190802, 172601, 125881, 136458, 193942, 216680, 240653, 209580, 180400, 128519, 142128, 198866, 195663, 192134, 187617, 165386, 123285, 130101, 194944, 194448, 173614, 185650, 168750, 128104, 131228, 182312, 192166, 181505, 184206, 169656, 120243, 127326, 180944, 173152, 194347, 188664, 166498, 115614, 128968, 192187, 196526, 198005, 173032, 167107, 117114, 131104, 191157, 191493, 187838, 186627, 167332, 117579, 124485, 179136, 178734, 174744, 173539, 122212, 109621, 112917, 124032, 179423, 173527, 167514, 142338, 97774, 110437, 181756, 190274, 189274, 181530, 165582, 108443, 126200, 188200, 185059, 181967, 175762, 151563, 100247, 115451, 189003, 183389, 181709, 177383, 141904, 99981, 110500, 142921, 129728, 179705, 188403, 154674, 102644, 117356, 161655, 161211, 148362, 120171, 127501, 103371, 120883, 176379, 180769, 181133, 163734, 144564, 96839, 106793, 115643, 166191, 190755, 173774, 154932, 100783, 119007, 168665, 169842, 156114, 138965, 140651, 108589, 123539, 182229, 183771, 174555, 169191, 145958, 103957, 117926, 164642, 173012, 179317, 164189, 139661, 95180, 109120, 161003, 164485, 158662, 154082, 145034, 95091, 116573, 157440, 166158, 145192, 166561, 142878, 107306, 118511, 157979, 160482, 165166, 161935, 143134, 103635, 112084, 154728, 172659, 158960, 147903, 129561, 104038, 107635, 205714, 150215, 152631, 144541, 128136, 103145, 109954, 144771, 144339, 138153, 139000, 122625, 95381, 105022, 160382, 148526, 139878, 155857, 129588, 91868, 97103, 147785, 148491, 159531, 152707, 136624, 92661, 101523, 152558, 162332, 149206, 143930, 148661, 100954, 110025, 151092, 162477, 155668, 153373, 141330, 100739, 108110, 157956, 154169, 155145, 164707, 144468, 97243, 105847, 162110, 172013, 174066, 164784, 149678, 101355, 111122, 174053, 181013, 192769, 175087, 151623, 99097, 111587, 172049, 197165, 182023, 170733, 146392, 104250, 117595, 173284, 174796, 171240, 153570, 147690, 102419, 127027, 163674, 155299, 128371, 152134, 137246, 102731, 116420, 174426, 183653, 181268, 177952, 157229, 104843, 114601, 178380, 202275, 197280, 188243, 167667, 112865, 129714, 197467, 203241, 201178, 186991, 165583, 116198, 134440, 195996, 194075, 149673, 166666, 151242, 117879, 137027, 187753, 202480, 198326, 188511, 172036, 123004, 135994, 197919, 198390, 196322, 194386, 171260, 117625, 135513, 189997, 191533, 195981, 187696, 167735, 119090, 137630, 196192, 208797, 209169, 196647, 169377, 125266, 139566, 200028, 207723, 186858, 193237, 176832, 127344, 143911, 200527, 203342, 196267, 173529, 166393, 121146, 133459, 187044, 190918, 177675, 166300, 144726, 109707, 122843, 106860, 118682, 121473, 128067, 127255, 124774, 129176, 107560, 118650, 172688, 182567, 175577, 139892, 150092, 234476, 220049, 212277, 206269, 192499, 138539, 158045, 213305, 199312, 199914, 215482, 175483, 134977, 149474, 207078, 218431, 209572, 207883, 174325, 134687, 167187, 192088, 194842, 179501, 174007, 160703, 133442, 148394, 187610, 185916, 193360, 179484, 162827, 133801, 144235, 188866, 189089, 182932, 169355, 156989, 118511, 128521, 173450, 179103, 175716, 176432, 161455, 128119, 142527, 169963, 182029, 175614, 164718, 158715, 127787, 146030, 178679, 183458, 181562, 183819, 172966, 134449, 148896, 199885, 213187, 193677, 180115, 162887, 128684, 146115, 191712, 184157, 167899, 148448, 140020, 113246, 126442, 176466, 177824, 175620, 172128, 147737, 108099, 121152, 178720, 176218, 174845, 174049, 158326, 113624, 123501, 172242, 176954, 174574, 168925, 161267, 123925, 129986, 158190, 157734, 157599, 141335, 113057, 100050, 112476, 134655, 167021, 163924, 165205, 178081, 125869, 133655, 175724, 163064, 130642, 162969, 156504, 123233, 143070, 175761, 172655, 170685, 165312, 152311, 121151, 125537, 168491, 176480, 186053, 192195, 177903, 133441, 143393, 203698, 201144, 198270, 186818, 172231, 132134, 129921, 169120, 171763, 160264, 125083, 131340, 110311, 121673, 164343, 170606, 166161, 170299, 148364, 104502, 109340, 124304, 157180, 164235, 163855, 143630, 105253, 119563, 156293, 154528, 150466, 134986, 131661, 107326, 118121, 154820, 154824, 149411, 146559, 134200, 101937, 111317, 155557, 159077, 161967, 158015, 140855, 107737, 117430, 160641, 163502, 162537, 164086, 145827, 113873, 122224, 155449, 153633, 152946, 152559, 147516, 110640, 125205, 149786, 149315, 148810, 141967, 129627, 108329, 118442, 147560, 149363, 149960, 141696, 137378, 105710, 112208, 149353, 155490, 153105, 144365, 132384, 103053, 112336, 152767, 152689, 149018, 144581, 136499, 107849, 119361, 156520, 161947, 153955, 150348, 138423, 102386, 120192, 152575, 164702, 161160, 160794, 138263, 102570, 113842, 155345, 162765, 156694, 160063, 132040, 107289, 120517, 163721, 166507, 163829, 162407, 258321, 106519, 116317, 162777, 169491, 170367, 167812, 149868, 111967, 123837, 170604, 176169, 175135, 165446, 149734, 115845, 123739, 161120, 166773, 161161, 133000, 147129, 129828, 131316, 166785, 176973, 177037, 175726, 155365, 116378, 130427, 173966, 179162, 178959, 176352, 165540, 130409, 138219, 194517, 190928, 188602, 190628, 171546, 127560, 149695, 189530, 203492, 178492, 157675, 148714, 133073, 146382, 187340, 190234, 185026, 184567, 168598, 132833, 139323, 186710, 192650, 223367, 214942, 180468, 136281, 152365, 195483, 188665, 183918, 182258, 169776, 172583, 166653, 196311, 193546, 186761, 176870, 156092, 125358, 139241, 180999, 191768, 187055, 183096, 164937, 136126, 143232, 193949, 184872, 184206, 177375, 159064, 125099, 142301, 191140, 179032, 169590, 160669, 138015, 119154, 130631, 132133, 112454, 122436, 120875, 128278, 125902, 133018, 133559, 117386, 125016, 154169, 153050, 136900, 148392, 174073, 193878, 191918, 198670, 182038, 139388, 154841, 195670, 200923, 199373, 201188, 172815, 135918, 143300, 185845, 178974, 218939, 196157, 168624, 128373, 134046, 176946, 196977, 189701, 174993, 153540, 123863, 138318, 177563, 179207, 178170, 168362, 152605, 123909, 128083, 162071, 167545, 176059, 170811, 154679, 117465, 130806, 167968, 174644, 166101, 165983, 146442, 114291, 124188, 177819, 162751, 156713, 149115, 138511, 104523, 115850, 147961, 152483, 152294, 151243, 142026, 108664, 116389, 150689, 154973, 152833, 144761, 131661, 114491, 121137, 151688, 155837, 154007, 160555, 161804, 144725, 143307, 175348, 173451, 172475, 176164, 163922, 133625, 162148, 186801, 184359, 179394, 182521, 173639, 142992, 138081, 167633, 170813, 168148, 162277, 145482, 147789, 179760, 173569, 188989, 183828, 178754, 169190, 144084, 160125, 197981, 197111, 192173, 188016, 178990, 148555, 157418, 201462, 208437, 198135, 203511, 163863, 158360, 169491, 209195, 240737, 245308, 244705, 212197, 185634, 200223, 227506, 227036, 222668, 214406, 218194, 146200, 153678, 182236, 175912, 314557, 135094, 147863, 153517, 150957, 191970, 188524, 203020, 182473, 154879, 161709, 184814, 148130, 166785, 169444, 174319, 167552, 136711, 152409, 174735, 172735, 166649, 157546, 137627, 122593, 152381, 173112, 171544, 168795, 165890, 153257, 127823, 126347, 156389, 154909, 152987, 157852, 137877, 111394, 125703, 157470, 155275, 159478, 156325, 145186, 112355, 122940, 155668, 155336, 154920, 149793, 141875, 116676, 116629, 145681, 154504, 153866, 149466, 138107, 112838, 124263, 156498, 159597, 150892, 148822, 135333, 111012, 120491, 133866, 135855, 132771, 127546, 118070, 96152, 115350, 147485, 135983, 128069, 124429, 115734, 98576, 104321, 136034, 142355, 135190, 136446, 126373, 99601, 107531, 137381, 143348, 134156, 130872, 118349, 95840, 106314, 137539, 138303, 197809, 132912, 127299, 106535, 114229, 147456, 148642, 152588, 155336, 130784, 105172, 109804, 146805, 146171, 142225, 141376, 126109, 96795, 104508, 142534, 142884, 145580, 142542, 130497, 97198, 106380, 146928, 146582, 151418, 146339, 132636, 106289, 114951, 144775, 147427, 141147, 140022, 132467, 104601, 108490, 146433, 148723, 151461, 146630, 137005, 108006, 115051, 151075, 147593, 147141, 148673, 142512, 108946, 118164, 147380, 152163, 151074, 146166, 137862, 111327, 123937, 158794, 153667, 156932, 150562, 138266, 107328, 122072, 160050, 158969, 153036, 154303, 147014, 115896, 127867, 166143, 169294, 163012, 165825, 152018, 124743, 133962, 172636, 188137, 166385, 189607, 152047, 128077, 144902, 164660, 174951, 175051, 162889, 146423, 119679, 129813, 160651, 159859, 161287, 159843, 143989, 120440, 138589, 167523, 157842, 159281, 163310, 141884, 115803, 124023, 163443, 155041, 157414, 150682, 133803, 109862, 120646, 132160, 130866, 123870, 95094, 106029, 107755, 114640, 120078, 121535, 124084, 101735, 108150, 120483, 127638, 150437, 155467, 150738, 182767, 204487, 160334, 177960, 212442, 208843, 211096, 196929, 177678, 145216, 150583, 188734, 183773, 174212, 175050, 168395, 145412, 152187, 187764, 188287, 188165, 190926, 187731, 149550, 150268, 188821, 190624, 193483, 198217, 175968, 146156, 162056, 191586, 194026, 192765, 189389, 170952, 135593, 148353, 206870, 192783, 202959, 201468, 183107, 151870, 154728, 198676, 197234, 227473, 184100, 168151, 139388, 146051, 180256, 180948, 183273, 186187, 171603, 131317, 146807, 185708, 190636, 178761, 167207, 162455, 130280, 135322, 171248, 197202, 177132, 172497, 161320, 127249, 142754, 169195, 163458, 161811, 161018, 145741, 128913, 123676, 148261, 139605, 133490, 131888, 122398, 111580, 134496, 135386, 152639, 161772, 154234, 146484, 123323, 130843, 168801, 168663, 163152, 156908, 156711, 119851, 128425, 169222, 169654, 171502, 164878, 146358, 114637, 123194, 161455, 162673, 159602, 159163, 137987, 114559, 125966, 163330, 229620, 185637, 172291, 154954, 117427, 126771, 165783, 160695, 150044, 131891, 132424, 114810, 123199, 164873, 161513, 152410, 150569, 133143, 109039, 111630, 117485, 147916, 151305, 146985, 133711, 103900, 107699, 136560, 134342, 131767, 122949, 121290, 106545, 119871, 149923, 146660, 142332, 137928, 122111, 98987, 104608, 133158, 133413, 144084, 150170, 134542, 108618, 121383, 146971, 140870, 133172, 138971, 123740, 92677, 100743, 138983, 133729, 133041, 129542, 115790, 105670, 102904, 129814, 129438, 129311, 127566, 119050, 93799, 103445, 124597, 130387, 129503, 124282, 112780, 90369, 97388, 124925, 124129, 120522, 124468, 111430, 90305, 97773, 122993, 132550, 123002, 108393, 100247, 84246, 89532, 109458, 112850, 109864, 114174, 103091, 81413, 91585, 109567, 113781, 110187, 110221, 115580, 98670, 99769, 117000, 119519, 115703, 114140, 105756, 82679, 92232, 117218, 116345, 117398, 122234, 114898, 92671, 102583, 125132, 123530, 122008, 121516, 113645, 90764, 99521, 124702, 128409, 125944, 127058, 121680, 100278, 105567, 128909, 129657, 132666, 134714, 123834, 96982, 104505, 134105, 136083, 136055, 129814, 124622, 101997, 98392, 129710, 132810, 131534, 131863, 120940, 96380, 104257, 167755, 158334, 147184, 139406, 131070, 107470, 112816, 144062, 146450, 145277, 149726, 128015, 102970, 112818, 149307, 146211, 142669, 143250, 131026, 108517, 113112, 145383, 149856, 148158, 149071, 135354, 109778, 114219, 136897, 157433, 158668, 148903, 135223, 109155, 123311, 159294, 154418, 147770, 149805, 133471, 113318, 121969, 150386, 155820, 149200, 144069, 133774, 109289, 121338, 146638, 143367, 146964, 143375, 178793, 277903, 224359, 213302, 178762, 163463, 157363, 146145, 121730, 128688, 149291, 156112, 152243, 157875, 146023, 121667, 145784, 211568, 215306, 187552, 163710, 145987, 116531, 123626, 148922, 144291, 136178, 122698, 97900, 105837, 109983, 118524, 120353, 115458, 114222, 98978, 122552, 122036, 140342, 146481, 148722, 137927, 134651, 116074, 125153, 150753, 155607, 151771, 150836, 140975, 115805, 120418, 152931, 152713, 154751, 150986, 144842, 116442, 123738, 149955, 150663, 148669, 147613, 139709, 117251, 121755, 145941, 146554, 145685, 145846, 139370, 113207, 119455, 146727, 148817, 142616, 143941, 135657, 108664, 112743, 137948, 144528, 144683, 139369, 132198, 113147, 117050, 143029, 137963, 136451, 150415, 130257, 108209, 125219, 126504, 128288, 128177, 128109, 118972, 100494, 106466, 127669, 133012, 130510, 142979, 139625, 111812, 112656, 135110, 147802, 136730, 133377, 121084, 98322, 104759, 133028, 153877, 144024, 129739, 115349, 103241, 105056, 124438, 126649, 128839, 128700, 120472, 97875, 106635, 135726, 136535, 131392, 130167, 119055, 95708, 99357, 121098, 117056, 112314, 144163, 121758, 100219, 96006, 101934, 123265, 122201, 125598, 119550, 96529, 106254, 165503, 242252, 172668, 149550, 133294, 106529, 112746, 132465, 136073, 129310, 127549, 115782, 93851, 96664, 123022, 124800, 123302, 119339, 118581, 89029, 94746, 142588, 131430, 122326, 124981, 113734, 94095, 92107, 115570, 120326, 111177, 93844, 97133, 86365, 96566, 121932, 119787, 118390, 117695, 103996, 80277, 89985, 93676, 115614, 114598, 111655, 98876, 80541, 86682, 114529, 114095, 111821, 94640, 97014, 82579, 91884, 113704, 121877, 115319, 106148, 92313, 71122, 78558, 98578, 102684, 98617, 94688, 87758]\n"
     ]
    }
   ],
   "source": [
    "mainviews = get_views(article)\n",
    "backlinksMainview = filterlinks(get_links(article,\"linkshere\"))\n",
    "\n",
    "len1 = len(mainviews)\n",
    "for entry in backlinksMainview:\n",
    "    views = get_views(entry)\n",
    "    len2 = len(views)\n",
    "    if len2 < len1:\n",
    "        diff = len1 - len2\n",
    "        for i in range(0, diff):\n",
    "            views.append(0) #APPENDING and Not FILLING In MISSING VALUEs\n",
    "\n",
    "entrys = [0]*len(mainviews) # creating an empty array with length of the mainpage\n",
    "\n",
    "for entry in backlinksMainview:\n",
    "    list = get_views(entry)\n",
    "    for i in range(0,len(list)):\n",
    "        entrys[i] = entrys[i] + list[i]\n",
    "print(entrys)"
   ],
   "metadata": {
    "collapsed": false
   }
  },
  {
   "cell_type": "code",
   "execution_count": 19,
   "outputs": [],
   "source": [
    "Corr2list = []\n",
    "for e in range(len(entrys)):\n",
    "    numvieww = mainviews[e]\n",
    "    sumbl = entrys[e]\n",
    "    Corr2list.append([numvieww,sumbl])"
   ],
   "metadata": {
    "collapsed": false
   }
  },
  {
   "cell_type": "code",
   "execution_count": 20,
   "outputs": [
    {
     "data": {
      "text/plain": "      main dataframe views  Sum backlinks pageview\n0                      458                  193306\n1                      424                  192279\n2                      362                  168999\n3                      261                  107113\n4                      293                  114291\n...                    ...                     ...\n2553                   257                   98578\n2554                   289                  102684\n2555                   318                   98617\n2556                   274                   94688\n2557                   227                   87758\n\n[2558 rows x 2 columns]",
      "text/html": "<div>\n<style scoped>\n    .dataframe tbody tr th:only-of-type {\n        vertical-align: middle;\n    }\n\n    .dataframe tbody tr th {\n        vertical-align: top;\n    }\n\n    .dataframe thead th {\n        text-align: right;\n    }\n</style>\n<table border=\"1\" class=\"dataframe\">\n  <thead>\n    <tr style=\"text-align: right;\">\n      <th></th>\n      <th>main dataframe views</th>\n      <th>Sum backlinks pageview</th>\n    </tr>\n  </thead>\n  <tbody>\n    <tr>\n      <th>0</th>\n      <td>458</td>\n      <td>193306</td>\n    </tr>\n    <tr>\n      <th>1</th>\n      <td>424</td>\n      <td>192279</td>\n    </tr>\n    <tr>\n      <th>2</th>\n      <td>362</td>\n      <td>168999</td>\n    </tr>\n    <tr>\n      <th>3</th>\n      <td>261</td>\n      <td>107113</td>\n    </tr>\n    <tr>\n      <th>4</th>\n      <td>293</td>\n      <td>114291</td>\n    </tr>\n    <tr>\n      <th>...</th>\n      <td>...</td>\n      <td>...</td>\n    </tr>\n    <tr>\n      <th>2553</th>\n      <td>257</td>\n      <td>98578</td>\n    </tr>\n    <tr>\n      <th>2554</th>\n      <td>289</td>\n      <td>102684</td>\n    </tr>\n    <tr>\n      <th>2555</th>\n      <td>318</td>\n      <td>98617</td>\n    </tr>\n    <tr>\n      <th>2556</th>\n      <td>274</td>\n      <td>94688</td>\n    </tr>\n    <tr>\n      <th>2557</th>\n      <td>227</td>\n      <td>87758</td>\n    </tr>\n  </tbody>\n</table>\n<p>2558 rows × 2 columns</p>\n</div>"
     },
     "execution_count": 20,
     "metadata": {},
     "output_type": "execute_result"
    }
   ],
   "source": [
    "corr2 = pd.DataFrame(Corr2list,columns=[\"main dataframe views\",\"Sum backlinks pageview\"])\n",
    "corr2"
   ],
   "metadata": {
    "collapsed": false
   }
  },
  {
   "cell_type": "code",
   "execution_count": 22,
   "outputs": [
    {
     "data": {
      "text/plain": "                        main dataframe views  Sum backlinks pageview\nmain dataframe views                1.000000                0.694968\nSum backlinks pageview              0.694968                1.000000",
      "text/html": "<div>\n<style scoped>\n    .dataframe tbody tr th:only-of-type {\n        vertical-align: middle;\n    }\n\n    .dataframe tbody tr th {\n        vertical-align: top;\n    }\n\n    .dataframe thead th {\n        text-align: right;\n    }\n</style>\n<table border=\"1\" class=\"dataframe\">\n  <thead>\n    <tr style=\"text-align: right;\">\n      <th></th>\n      <th>main dataframe views</th>\n      <th>Sum backlinks pageview</th>\n    </tr>\n  </thead>\n  <tbody>\n    <tr>\n      <th>main dataframe views</th>\n      <td>1.000000</td>\n      <td>0.694968</td>\n    </tr>\n    <tr>\n      <th>Sum backlinks pageview</th>\n      <td>0.694968</td>\n      <td>1.000000</td>\n    </tr>\n  </tbody>\n</table>\n</div>"
     },
     "execution_count": 22,
     "metadata": {},
     "output_type": "execute_result"
    }
   ],
   "source": [
    "corr2.corr(method=\"pearson\")"
   ],
   "metadata": {
    "collapsed": false
   }
  },
  {
   "cell_type": "code",
   "execution_count": null,
   "outputs": [],
   "source": [
    "joinedlist = []\n",
    "for e in range(len(num_link_data)):\n",
    "    numbl = num_link_data[e][1]\n",
    "    sumbl = sumview_data[e][1]\n",
    "    joinedlist.append([numbl,sumbl])"
   ],
   "metadata": {
    "collapsed": false
   }
  },
  {
   "cell_type": "code",
   "execution_count": null,
   "outputs": [],
   "source": [
    "joinedlist"
   ],
   "metadata": {
    "collapsed": false
   }
  },
  {
   "cell_type": "code",
   "execution_count": null,
   "outputs": [],
   "source": [
    "joineddf = pd.DataFrame(joinedlist,columns=[\"NumofForwardlinks\",\"Sumviews\"],index=name)\n",
    "joineddf"
   ],
   "metadata": {
    "collapsed": false
   }
  },
  {
   "cell_type": "code",
   "execution_count": null,
   "outputs": [],
   "source": [
    "checklink = \"Kim_Kardashian\" #Type in the Page you want to get more Information of\n",
    "check = filterlinks(get_links(checklink,\"links\"))\n",
    "print( \"these are all forwardlinks of the defined page:\",check)\n",
    "check2 = filterlinks(get_links(checklink,\"linkshere\"))\n",
    "print(\"The Number of Forwardlinks=\", len(check))"
   ],
   "metadata": {
    "collapsed": false
   }
  },
  {
   "cell_type": "code",
   "execution_count": null,
   "outputs": [],
   "source": [
    "joineddf.corr(method=\"pearson\")"
   ],
   "metadata": {
    "collapsed": false
   }
  },
  {
   "cell_type": "code",
   "execution_count": null,
   "outputs": [],
   "source": [
    "#saving the fetched data in csv to save progess\n",
    "dataframe = pd.DataFrame(num_link_data, columns=[\"Page\",\"Backlinks\"])\n",
    "dataframe2 =pd.DataFrame(sumview_data,columns=[\"Page\", \"Sumviews\"])\n",
    "dataframe\n",
    "dataframe2"
   ],
   "metadata": {
    "collapsed": false
   }
  },
  {
   "cell_type": "code",
   "execution_count": null,
   "outputs": [],
   "source": [
    "path = r\"datafiles\\Deutschland\"\n",
    "dataframe.to_csv(path + '/' f'{\"num_backlink_data\"}' + '.csv', index=False)\n",
    "dataframe2.to_csv(path + '/' f'{\"sumview_data\"}' + '.csv', index=False)"
   ],
   "metadata": {
    "collapsed": false
   }
  },
  {
   "cell_type": "code",
   "execution_count": null,
   "outputs": [],
   "source": [
    "backlinks_data_saved = num_backlink_data"
   ],
   "metadata": {
    "collapsed": false
   }
  },
  {
   "cell_type": "code",
   "execution_count": null,
   "outputs": [],
   "source": [
    "print(len(all_main_backlinks))\n",
    "print(len(num_backlink_data))"
   ],
   "metadata": {
    "collapsed": false
   }
  }
 ],
 "metadata": {
  "kernelspec": {
   "display_name": "Python 3",
   "language": "python",
   "name": "python3"
  },
  "language_info": {
   "codemirror_mode": {
    "name": "ipython",
    "version": 2
   },
   "file_extension": ".py",
   "mimetype": "text/x-python",
   "name": "python",
   "nbconvert_exporter": "python",
   "pygments_lexer": "ipython2",
   "version": "2.7.6"
  }
 },
 "nbformat": 4,
 "nbformat_minor": 0
}
