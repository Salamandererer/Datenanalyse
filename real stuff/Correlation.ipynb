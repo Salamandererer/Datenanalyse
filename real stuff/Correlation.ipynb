{
 "cells": [
  {
   "cell_type": "code",
   "execution_count": 2,
   "metadata": {
    "collapsed": true
   },
   "outputs": [],
   "source": [
    "import glob\n",
    "import os\n",
    "import pandas as pd\n",
    "from linkmethods import get_back_links,get_pageviews, get_target, get_backlink_strings,get_views,filterbacklinks,get_links"
   ]
  },
  {
   "cell_type": "code",
   "execution_count": 3,
   "outputs": [],
   "source": [
    "article = \"Meisen\" #wenn ein : im titel dann bugg"
   ],
   "metadata": {
    "collapsed": false
   }
  },
  {
   "cell_type": "code",
   "execution_count": 4,
   "outputs": [],
   "source": [
    "all_main_backlinks = get_links(article,\"linkshere\") #grab all backlinks from one page"
   ],
   "metadata": {
    "collapsed": false
   }
  },
  {
   "cell_type": "code",
   "execution_count": 5,
   "outputs": [],
   "source": [
    "filter_all_backlinks = filterbacklinks(all_main_backlinks)\n",
    "df = pd.DataFrame(filter_all_backlinks,columns=[\"backlinks\"]) #filter not neseccary Backlinks from the list and write it to a csv for later use\n",
    "path = fr\"C:\\Users\\Marvin\\PycharmProjects\\pythonProject\\real stuff\\datafiles\\{article}\"\n",
    "try:\n",
    "    os.mkdir(path)\n",
    "except:\n",
    "    pass\n",
    "df.to_csv(path + '/' f'{article}bldata.csv', index=False)"
   ],
   "metadata": {
    "collapsed": false
   }
  },
  {
   "cell_type": "code",
   "execution_count": 6,
   "outputs": [
    {
     "name": "stdout",
     "output_type": "stream",
     "text": [
      "284\n",
      "199\n"
     ]
    }
   ],
   "source": [
    "print(len(all_main_backlinks))\n",
    "print((len(filter_all_backlinks)))  #see number that got filtererd"
   ],
   "metadata": {
    "collapsed": false
   }
  },
  {
   "cell_type": "code",
   "execution_count": 7,
   "outputs": [],
   "source": [
    "filter_all_backlinks = pd.read_csv(fr\"C:\\Users\\Marvin\\PycharmProjects\\pythonProject\\real stuff\\datafiles\\{article}\\{article}bldata.csv\") #read the csv from disk\n",
    "filter_all_backlinks = filter_all_backlinks['backlinks'].values.tolist()"
   ],
   "metadata": {
    "collapsed": false
   }
  },
  {
   "cell_type": "markdown",
   "source": [
    "printing all backlinks from article"
   ],
   "metadata": {
    "collapsed": false
   }
  },
  {
   "cell_type": "code",
   "execution_count": 22,
   "outputs": [
    {
     "name": "stdout",
     "output_type": "stream",
     "text": [
      "['Schmetterlinge', 'Buntspecht', 'Bartkauz', 'Chibinen', 'Ibiza', 'Appetenzverhalten', 'Hartenstein (Mittelfranken)', 'Nahrungskette', 'Singvögel', 'Amsel', 'Kohlmeise', 'Vögel', 'Sperber (Art)', 'Blaumeise', 'Sumpfmeise', 'Weidenmeise', 'Haubenmeise', 'Tannenmeise', 'Schwanzmeise', 'Schlehdorn', 'Federsee', 'Neumarkt (Südtirol)', 'Wendehals (Vogel)', 'Haussperling', 'Kleiber (Art)', 'Systematik der Vögel', 'Paridae', 'Taubergießen', 'Isergebirge', 'Maisach (Amper)', 'Geographie der Vereinigten Staaten', 'Brauner Bär (Schmetterling)', 'Schloss Hagenburg', 'Kohldistel', 'Höhlenbrüter', 'Bartmeise', 'Trauerschnäpper', 'Schönberg (Ebringen)', 'Pinien-Prozessionsspinner', 'Kleiner Schillerfalter', 'Schnurrvögel', 'Straßenverkehrslärm', 'Geographie Deutschlands', 'Lasurmeise', 'Liste der Straßennamen in Ravensburg', 'Dunenspecht', 'Hans Löhrl', 'Handschwinge', 'Usutu-Virus', 'Grüner Tropfenastrild', 'Grauhäubchenmeise', 'Meise (Begriffsklärung)', 'Zweitbrut', 'Schwarzkopfmeise', 'Kategorie:Meisen', 'Deutschland', 'Sikora', 'Kokardenspecht', 'Baumhopfe', 'Borodino-Buntmeise', 'Buntmeise', 'Gebirgsmeise', 'Hudsonmeise', 'Taiwanmeise', 'Es rappelt im Karton', 'Kategorie:Paridae', 'Liste Ingolstädter Straßennamen', 'Uebachtal', 'Montgrí-Massiv', 'Lapplandmeise', 'Balkanmeise', 'Schöndorf (an der Ruwer)', 'Alter Friedhof (Gießen)', 'Liste der Strassennamen von Basel', 'Pechpfuhl (Ludwigsfelde)', 'Cyanistes', 'Liste Planegger Straßennamen', 'Wintergoldhähnchen', 'Buchsbaumzünsler', 'Gleispark Frintrop', 'Meisenknödel', 'Mesenholl', 'Naturschutzgebiet Jellen', 'Katy Trail State Park', 'Aegithalos', 'Schwanzmeisen', 'Parus', 'Liste der Hemeraner Straßennamen', 'Rotbrustmeise', 'Handbook of the Birds of the World', 'Rago-Nationalpark', 'Katavi-Nationalpark', 'Rudolf Berndt (Ornithologe)', 'Liste der Straßen in Olpe', 'Hüttensänger', 'Len Howard', 'Meißwinkel (Kürten)', 'Vogelschutzgehölz Hausener Auwald', 'Meise', 'Meisen (Begriffsklärung)', 'Kurzschwanzspecht', 'Braunbürzelspecht', 'Dommelspecht', 'Beutelmeisen', 'Liste der Straßennamen von Burgdorf (Region Hannover)', 'Spechtschaden', 'Burckhardtshöhe', 'Unglückshäher (Gattung)', 'Lilla Lövö', 'Liste der Wirbeltierarten des Kruger-Nationalparks', 'Europa- und Naturschutzgebiet Gerzkopf', 'Arten des Anhangs I der Vogelschutzrichtlinie der EU', 'Liste der Straßen und Plätze in Berlin-Dahlem', 'Gordon Bay Provincial Park', 'Groß Zicker', 'Stillleben mit Obstschale, Vögeln und Fensterausblick', 'Hüttertal', 'Henry Whitely', 'Beth Slikas', 'Laasn', 'Gutshaus Friedenfelde', 'Hanko-Halbinsel', 'Neusser Stadtwald', 'Hellwinkel', 'Josef Prokop Pražák', 'Liste der Straßen, Plätze und Brücken in Hamburg-Barmbek-Nord', 'Liste der Straßen in Freising', 'Prestvannet', 'Liste der Straßennamen von Hof', 'Schwattet Gatt', 'Sýkořice', 'Liebesinsel (Spree)', 'Notchview', 'Liste der Straßennamen von Schwarzenbach an der Saale', 'Tibetmeise', 'Liste der Straßen in Selm', 'Liste der Straßen in Bergkamen', 'Bylerward', 'Kanarenmeise', 'Grauhaubenmeise', 'Fichtenmeise', 'Philogène Auguste Galilée Wytsman', 'Liste der Straßennamen in Solingen (A–H)', 'Sondernaturschutzgebiet des Parks Burcina', 'Liste der Straßennamen in Solingen (R–Z)', 'Blochinger Sandwinkel', 'Brillenmeise', 'Schwarzhäubchenmeise', 'Apodaca Provincial Park', 'Sultansmeise', 'Sambesi-Rußmeise', 'Liste der Straßen in Essen-Burgaltendorf', 'Schloss Clerf', 'Königsmeise', 'Liste der Straßen und Plätze in Prohlis', 'Elfenschnäpper (Familie)', 'Goldhähnchen-Laubsänger', 'Bergkohlmeise', 'Liste der Straßennamen von Igersheim', 'Weichfresser', 'Vogelnest', 'Liste der Straßen, Plätze und Brücken in Hamburg-Poppenbüttel', 'Raet-Nationalpark', 'Christopher M. Perrins', 'Elizabeth Lack', 'Stadtwald (Bad Salzuflen)', 'Suttonella ornithocola', 'Liste der Straßen in Aachen-Mitte', 'Liste der Straßen und Plätze in Trier', 'Hyliotas', 'Baumsänger', 'Tigerzaunkönig', 'Liste der Wappen in der Verbandsgemeinde Ruwer', 'Liste der Straßennamen von Heilbronn', 'Jacques Blondel (Ökologe)', 'Gipfel des Glockert', 'Meißen (Begriffsklärung)', 'Cebukauz', 'Vogelbestimmung', 'Liste der Straßennamen und Ortschaften Klagenfurts', 'Kalkklippen der Gobert', 'Haubenvireo', 'Sylviida', 'Dreifarben-Brillenvanga', 'Braunstirn-Brillenvanga', 'Weißmantel-Rußmeise', 'Somalirußmeise', 'Schwarzbrust-Rußmeise', 'Rostkehl-Rußmeise', 'Einfarb-Rußmeise', 'Weißschulter-Rußmeise', 'Weißflügel-Rußmeise', 'Weißbauch-Rußmeise', 'Rostbauch-Rußmeise', 'Miomborußmeise', 'Kaprußmeise', 'Akazienrußmeise', 'Zimtbauch-Rußmeise', 'Carprußmeise']\n"
     ]
    }
   ],
   "source": [
    "print(filter_all_backlinks)"
   ],
   "metadata": {
    "collapsed": false
   }
  },
  {
   "cell_type": "markdown",
   "source": [
    "['Schmetterlinge', 'Buntspecht', 'Bartkauz', 'Chibinen', 'Ibiza', 'Appetenzverhalten', 'Hartenstein (Mittelfranken)', 'Nahrungskette', 'Singvögel', 'Amsel', 'Kohlmeise', 'Vögel', 'Sperber (Art)', 'Blaumeise', 'Sumpfmeise', 'Weidenmeise', 'Haubenmeise', 'Tannenmeise', 'Schwanzmeise', 'Schlehdorn', 'Federsee', 'Neumarkt (Südtirol)', 'Wendehals (Vogel)', 'Benutzer:Matthias079', 'Haussperling', 'Kleiber (Art)', 'Systematik der Vögel', 'Paridae', 'Taubergießen', 'Isergebirge', 'Magdeburger Straßen/M', 'Maisach (Amper)', 'Geographie der Vereinigten Staaten', 'Brauner Bär (Schmetterling)', 'Schloss Hagenburg', 'Kohldistel', 'Benutzer Diskussion:Nina/Archiv2', 'Diskussion:Taubergießen', 'Höhlenbrüter', 'Bartmeise', 'Trauerschnäpper', 'Schönberg (Ebringen)', 'Pinien-Prozessionsspinner', 'Benutzer:Rhaessner', 'Benutzer:Borisbaran', 'Kleiner Schillerfalter', 'Schnurrvögel', 'Straßenverkehrslärm', 'Benutzer:Atamari/Liste der Vögel in Gambia', 'Geographie Deutschlands', 'Lasurmeise', 'Benutzer:Apfel3748', 'Liste der Straßennamen in Ravensburg', 'Dunenspecht', 'Benutzer:Fabchief', 'Benutzer:AnKaiLong', 'Hans Löhrl', 'Benutzer:Meleagros/Vorlage:Meise', 'Handschwinge', 'Usutu-Virus', 'Benutzer:Borisbaran/Vorlage:Babelfun', 'Grüner Tropfenastrild', 'Benutzer:Raubfisch/Vorlagen', 'Benutzer:Raubfisch/Vorlage:Meise', 'Grauhäubchenmeise', 'Meise (Begriffsklärung)', 'Zweitbrut', 'Schwarzkopfmeise', 'Kategorie:Meisen', 'Deutschland', 'Benutzer:Jan.ndl/Babel/Babel', 'Sikora', 'Benutzer:Benji/LaberBabel', 'Kokardenspecht', 'Baumhopfe', 'Borodino-Buntmeise', 'Buntmeise', 'Gebirgsmeise', 'Hudsonmeise', 'Benutzer:Wutzofant/Babelwahn', 'Benutzer:KowaKowalski', 'Benutzer:Plusone', 'Liste der Straßennamen von Wien/Hietzing', 'Benutzer:Anarcholiberaler', 'Benutzer Diskussion:Secundus macht Quark', 'Benutzer:Illuminated Beast/tab2', 'Taiwanmeise', 'Benutzer:Bobi211/Babel', 'Es rappelt im Karton', 'Benutzer:TwilightFreak', 'Kategorie:Paridae', 'Diskussion:Blaumeise', 'Wikipedia:Redaktion Biologie/lange Artikel', 'Liste Ingolstädter Straßennamen', 'Benutzer:Pepe-CH', 'Uebachtal', 'Montgrí-Massiv', 'Benutzer:Before I Forget', 'Lapplandmeise', 'Balkanmeise', 'Schöndorf (an der Ruwer)', 'Alter Friedhof (Gießen)', 'Benutzer:Mungho', 'Diskussion:Düshorn', 'Liste der Strassennamen von Basel', 'Pechpfuhl (Ludwigsfelde)', 'Benutzer:Moschitz/Babel', 'Cyanistes', 'Liste Planegger Straßennamen', 'Wintergoldhähnchen', 'Buchsbaumzünsler', 'Diskussion:Amsel/Textvorschlag', 'Wikipedia:Einbänder/Stichworte', 'Wikipedia:Einbänder/Stichworte/M', 'Benutzer:Tlustulimu/Babels', 'Benutzer:Lemmi~dewiki', 'Gleispark Frintrop', 'Meisenknödel', 'Mesenholl', 'Naturschutzgebiet Jellen', 'Benutzer:Udo.Schiller/Bücher/Piepmatzbande', 'Katy Trail State Park', 'Benutzerin:Lady Whistler', 'Benutzer:Uwetter/Bücher/Lena', 'Aegithalos', 'Schwanzmeisen', 'Wikipedia:Bücher/Vögel im heimischen Revier', 'Parus', 'Wikipedia Diskussion:Redaktion Biologie/Archiv/August 2009', 'Liste der Hemeraner Straßennamen', 'Benutzer:Uwe1959/Bücher/Vögel', 'Rotbrustmeise', 'Benutzer:A.Fiebig/Babelvorlagen', 'Handbook of the Birds of the World', 'Rago-Nationalpark', 'Katavi-Nationalpark', 'Rudolf Berndt (Ornithologe)', 'Benutzerin:Waithamai', 'Benutzer:Derbrauni', 'Liste der Straßen in Olpe', 'Hüttensänger', 'Len Howard', 'Meißwinkel (Kürten)', 'Vogelschutzgehölz Hausener Auwald', 'Meise', 'Meisen (Begriffsklärung)', 'Kurzschwanzspecht', 'Wikipedia:Suchhilfe/Archiv/2010/09/23', 'Liste Münchner Straßennamen/M', 'Braunbürzelspecht', 'Dommelspecht', 'Benutzer:Mathor/Liste der Straßen in Heilbronn', 'Beutelmeisen', 'Liste der Straßennamen von Burgdorf (Region Hannover)', 'Wikipedia:Auskunft/Archiv/2011/Woche 14', 'Benutzer:Regiomontanus/Bearbeitete Artikel/Ökologie', 'Spechtschaden', 'Burckhardtshöhe', 'Unglückshäher (Gattung)', 'Lilla Lövö', 'Liste der Wirbeltierarten des Kruger-Nationalparks', 'Europa- und Naturschutzgebiet Gerzkopf', 'Arten des Anhangs I der Vogelschutzrichtlinie der EU', 'Benutzer:Troopers/Babel', 'Liste der Straßen und Plätze in Berlin-Dahlem', 'Gordon Bay Provincial Park', 'Groß Zicker', 'Stillleben mit Obstschale, Vögeln und Fensterausblick', 'Benutzer:Tommes/Babels', 'Hüttertal', 'Henry Whitely', 'Wikipedia Diskussion:Redaktion Biologie/Archiv/Juli 2012', 'Beth Slikas', 'Laasn', 'Gutshaus Friedenfelde', 'Hanko-Halbinsel', 'Neusser Stadtwald', 'Hellwinkel', 'Josef Prokop Pražák', 'Liste der Straßen, Plätze und Brücken in Hamburg-Barmbek-Nord', 'Wikipedia:Artikel, die es in allen Wikipedias geben sollte/Erweitert', 'Wikipedia:Artikel, die es in allen Wikipedias geben sollte/Erweitert/Biologie und Gesundheitswissenschaften', 'Liste der Straßen in Freising', 'Benutzer:Greeny69', 'Prestvannet', 'Liste der Straßennamen von Hof', 'Schwattet Gatt', 'Sýkořice', 'Benutzer:Uwe1959/Bücher/Vogelarten', 'Benutzer:Josiwi09/Bücher/Singvögel', 'Benutzer:DaBroMfld/Liste der Straßen in Harsewinkel', 'Wikipedia:Fragen zur Wikipedia/Archiv/2013/Woche 38', 'Wikipedia:Vandalismusmeldung/Archiv/2013/09/23', 'Diskussion:Taupunkt/Archiv/3', 'Diskussion:Abgastaupunkt', 'Benutzer Diskussion:Graphikus/Archiv/2013/November', 'Benutzer:Psychrometer/Archive', 'Wikipedia:Vandalismusmeldung/Archiv/2013/11/22', 'Liebesinsel (Spree)', 'Notchview', 'Liste der Straßennamen von Schwarzenbach an der Saale', 'Tibetmeise', 'Benutzer:Croesch/Leere Einzelnachweise', 'Liste der Straßen und Plätze in Flensburg/M', 'Liste der Straßen in Selm', 'Liste der Straßen in Bergkamen', 'Bylerward', 'Wikipedia:Bücher/Vögel am Staffel', 'Kanarenmeise', 'Grauhaubenmeise', 'Fichtenmeise', 'Philogène Auguste Galilée Wytsman', 'Benutzer:Oli0703/Bücher/Vögel', 'Liste der Straßennamen in Solingen (A–H)', 'Sondernaturschutzgebiet des Parks Burcina', 'Liste der Straßennamen in Solingen (R–Z)', 'Benutzer:Timmifee/Bücher/Meisen', 'Blochinger Sandwinkel', 'Benutzer:Charly1299', 'Brillenmeise', 'Schwarzhäubchenmeise', 'Apodaca Provincial Park', 'Sultansmeise', 'Sambesi-Rußmeise', 'Liste der Straßen in Essen-Burgaltendorf', 'Schloss Clerf', 'Benutzer:Stse/test', 'Königsmeise', 'Benutzer:Libro/Liste von Benutzerbausteinen', 'Wikipedia:Café/Archiv 2017 Q3', 'Liste der Straßen und Plätze in Prohlis', 'Wikipedia:Taxoboxen/Taxobot/Systematik/Sperlingsvögel', 'Elfenschnäpper (Familie)', 'Goldhähnchen-Laubsänger', 'Bergkohlmeise', 'Liste der Straßennamen von Igersheim', 'Weichfresser', 'Vogelnest', 'Liste der Straßen, Plätze und Brücken in Hamburg-Poppenbüttel', 'Raet-Nationalpark', 'Christopher M. Perrins', 'Elizabeth Lack', 'Stadtwald (Bad Salzuflen)', 'Suttonella ornithocola', 'Liste der Straßen in Aachen-Mitte', 'Liste der Straßen und Plätze in Trier', 'Benutzer:Z thomas/DE-SN-Straßen-Dresden', 'Hyliotas', 'Baumsänger', 'Tigerzaunkönig', 'Liste der Wappen in der Verbandsgemeinde Ruwer', 'Liste der Straßennamen von Heilbronn', 'Jacques Blondel (Ökologe)', 'Gipfel des Glockert', 'Benutzer:Z thomas/DE-NI-Straßen-Hannover-Ricklingen', 'Meißen (Begriffsklärung)', 'Benutzer:Z thomas/DE-BY-Straßen-Hof (Saale)', 'Benutzer:Achim Raschka/Straßenlexikon Erftstadt', 'Cebukauz', 'Vogelbestimmung', 'Benutzer:MVmath20/Artbestimmung (Vögel)', 'Liste der Straßennamen und Ortschaften Klagenfurts', 'Kalkklippen der Gobert', 'Liste der Straßen und Plätze in Fürstenwalde/Spree', 'Haubenvireo', 'Benutzer:Cactus26/Taxobot.20221119.Sperlingsvögel.Hinweise', 'Benutzer:Cactus26/Taxobot.20221120.Sperlingsvögel.Hinweise', 'Sylviida', 'Dreifarben-Brillenvanga', 'Braunstirn-Brillenvanga', 'Weißmantel-Rußmeise', 'Somalirußmeise', 'Schwarzbrust-Rußmeise', 'Rostkehl-Rußmeise', 'Einfarb-Rußmeise', 'Weißschulter-Rußmeise', 'Weißflügel-Rußmeise', 'Weißbauch-Rußmeise', 'Rostbauch-Rußmeise', 'Miomborußmeise', 'Kaprußmeise', 'Akazienrußmeise', 'Zimtbauch-Rußmeise', 'Carprußmeise']"
   ],
   "metadata": {
    "collapsed": false
   }
  },
  {
   "cell_type": "code",
   "execution_count": 9,
   "outputs": [
    {
     "name": "stdout",
     "output_type": "stream",
     "text": [
      "Working on... Schmetterlinge\n",
      "2022546 sum 520 Anzahl backlinks von Schmetterlinge at 0 / 199\n",
      "Working on... Buntspecht\n",
      "1234583 sum 181 Anzahl backlinks von Buntspecht at 1 / 199\n",
      "Working on... Bartkauz\n",
      "117673 sum 125 Anzahl backlinks von Bartkauz at 2 / 199\n",
      "Working on... Chibinen\n",
      "34148 sum 264 Anzahl backlinks von Chibinen at 3 / 199\n",
      "Working on... Ibiza\n",
      "1154938 sum 443 Anzahl backlinks von Ibiza at 4 / 199\n",
      "Working on... Appetenzverhalten\n",
      "105924 sum 27 Anzahl backlinks von Appetenzverhalten at 5 / 199\n",
      "Working on... Hartenstein (Mittelfranken)\n",
      "42472 sum 189 Anzahl backlinks von Hartenstein (Mittelfranken) at 6 / 199\n",
      "Working on... Nahrungskette\n",
      "338283 sum 127 Anzahl backlinks von Nahrungskette at 7 / 199\n",
      "Working on... Singvögel\n",
      "439283 sum 208 Anzahl backlinks von Singvögel at 8 / 199\n",
      "Working on... Amsel\n",
      "3668715 sum 339 Anzahl backlinks von Amsel at 9 / 199\n",
      "Working on... Kohlmeise\n",
      "1824024 sum 212 Anzahl backlinks von Kohlmeise at 10 / 199\n",
      "Working on... Vögel\n",
      "1540145 sum 346 Anzahl backlinks von Vögel at 11 / 199\n",
      "Working on... Sperber (Art)\n",
      "934239 sum 111 Anzahl backlinks von Sperber (Art) at 12 / 199\n",
      "Working on... Blaumeise\n",
      "1391025 sum 260 Anzahl backlinks von Blaumeise at 13 / 199\n",
      "Working on... Sumpfmeise\n",
      "286046 sum 121 Anzahl backlinks von Sumpfmeise at 14 / 199\n",
      "Working on... Weidenmeise\n",
      "185585 sum 82 Anzahl backlinks von Weidenmeise at 15 / 199\n",
      "Working on... Haubenmeise\n",
      "203193 sum 46 Anzahl backlinks von Haubenmeise at 16 / 199\n",
      "Working on... Tannenmeise\n",
      "336277 sum 98 Anzahl backlinks von Tannenmeise at 17 / 199\n",
      "Working on... Schwanzmeise\n",
      "516643 sum 123 Anzahl backlinks von Schwanzmeise at 18 / 199\n",
      "Working on... Schlehdorn\n",
      "1507788 sum 168 Anzahl backlinks von Schlehdorn at 19 / 199\n",
      "Working on... Federsee\n",
      "211285 sum 472 Anzahl backlinks von Federsee at 20 / 199\n",
      "Working on... Neumarkt (Südtirol)\n",
      "95046 sum 260 Anzahl backlinks von Neumarkt (Südtirol) at 21 / 199\n",
      "Working on... Wendehals (Vogel)\n",
      "223829 sum 173 Anzahl backlinks von Wendehals (Vogel) at 22 / 199\n",
      "Working on... Haussperling\n",
      "1941729 sum 301 Anzahl backlinks von Haussperling at 23 / 199\n",
      "Working on... Kleiber (Art)\n",
      "957411 sum 98 Anzahl backlinks von Kleiber (Art) at 24 / 199\n",
      "Working on... Systematik der Vögel\n",
      "276960 sum 365 Anzahl backlinks von Systematik der Vögel at 25 / 199\n",
      "Working on... Paridae\n",
      "2450 sum 1 Anzahl backlinks von Paridae at 26 / 199\n",
      "Working on... Taubergießen\n",
      "83696 sum 310 Anzahl backlinks von Taubergießen at 27 / 199\n",
      "Working on... Isergebirge\n",
      "152093 sum 197 Anzahl backlinks von Isergebirge at 28 / 199\n",
      "Working on... Maisach (Amper)\n",
      "14827 sum 48 Anzahl backlinks von Maisach (Amper) at 29 / 199\n",
      "Working on... Geographie der Vereinigten Staaten\n",
      "481528 sum 745 Anzahl backlinks von Geographie der Vereinigten Staaten at 30 / 199\n",
      "Working on... Brauner Bär (Schmetterling)\n",
      "183834 sum 69 Anzahl backlinks von Brauner Bär (Schmetterling) at 31 / 199\n",
      "Working on... Schloss Hagenburg\n",
      "30571 sum 53 Anzahl backlinks von Schloss Hagenburg at 32 / 199\n",
      "Working on... Kohldistel\n",
      "63662 sum 69 Anzahl backlinks von Kohldistel at 33 / 199\n",
      "Working on... Höhlenbrüter\n",
      "63607 sum 59 Anzahl backlinks von Höhlenbrüter at 34 / 199\n",
      "Working on... Bartmeise\n",
      "70574 sum 43 Anzahl backlinks von Bartmeise at 35 / 199\n",
      "Working on... Trauerschnäpper\n",
      "166114 sum 37 Anzahl backlinks von Trauerschnäpper at 36 / 199\n",
      "Working on... Schönberg (Ebringen)\n",
      "42206 sum 189 Anzahl backlinks von Schönberg (Ebringen) at 37 / 199\n",
      "Working on... Pinien-Prozessionsspinner\n",
      "159665 sum 76 Anzahl backlinks von Pinien-Prozessionsspinner at 38 / 199\n",
      "Working on... Kleiner Schillerfalter\n",
      "50433 sum 52 Anzahl backlinks von Kleiner Schillerfalter at 39 / 199\n",
      "Working on... Schnurrvögel\n",
      "27004 sum 67 Anzahl backlinks von Schnurrvögel at 40 / 199\n",
      "Working on... Straßenverkehrslärm\n",
      "107433 sum 120 Anzahl backlinks von Straßenverkehrslärm at 41 / 199\n",
      "Working on... Geographie Deutschlands\n",
      "546973 sum 858 Anzahl backlinks von Geographie Deutschlands at 42 / 199\n",
      "Working on... Lasurmeise\n",
      "30468 sum 27 Anzahl backlinks von Lasurmeise at 43 / 199\n",
      "Working on... Liste der Straßennamen in Ravensburg\n",
      "14498 sum 327 Anzahl backlinks von Liste der Straßennamen in Ravensburg at 44 / 199\n",
      "Working on... Dunenspecht\n",
      "15403 sum 83 Anzahl backlinks von Dunenspecht at 45 / 199\n",
      "Working on... Hans Löhrl\n",
      "4478 sum 41 Anzahl backlinks von Hans Löhrl at 46 / 199\n",
      "Working on... Handschwinge\n",
      "32135 sum 18 Anzahl backlinks von Handschwinge at 47 / 199\n",
      "Working on... Usutu-Virus\n",
      "190325 sum 109 Anzahl backlinks von Usutu-Virus at 48 / 199\n",
      "Working on... Grüner Tropfenastrild\n",
      "5679 sum 57 Anzahl backlinks von Grüner Tropfenastrild at 49 / 199\n",
      "Working on... Grauhäubchenmeise\n",
      "Working on... Meise (Begriffsklärung)\n",
      "6318 sum 14 Anzahl backlinks von Meise (Begriffsklärung) at 51 / 199\n",
      "Working on... Zweitbrut\n",
      "3595 sum 19 Anzahl backlinks von Zweitbrut at 52 / 199\n",
      "Working on... Schwarzkopfmeise\n",
      "56931 sum 21 Anzahl backlinks von Schwarzkopfmeise at 53 / 199\n",
      "Working on... Kategorie:Meisen\n",
      "7381 sum 5 Anzahl backlinks von Kategorie:Meisen at 54 / 199\n",
      "Working on... Deutschland\n",
      "44606346 sum 2236 Anzahl backlinks von Deutschland at 55 / 199\n",
      "Working on... Sikora\n",
      "20016 sum 60 Anzahl backlinks von Sikora at 56 / 199\n",
      "Working on... Kokardenspecht\n",
      "6583 sum 58 Anzahl backlinks von Kokardenspecht at 57 / 199\n",
      "Working on... Baumhopfe\n",
      "21122 sum 49 Anzahl backlinks von Baumhopfe at 58 / 199\n",
      "Working on... Borodino-Buntmeise\n",
      "3966 sum 20 Anzahl backlinks von Borodino-Buntmeise at 59 / 199\n",
      "Working on... Buntmeise\n",
      "28237 sum 61 Anzahl backlinks von Buntmeise at 60 / 199\n",
      "Working on... Gebirgsmeise\n",
      "Working on... Hudsonmeise\n",
      "13244 sum 40 Anzahl backlinks von Hudsonmeise at 62 / 199\n",
      "Working on... Taiwanmeise\n",
      "11903 sum 29 Anzahl backlinks von Taiwanmeise at 63 / 199\n",
      "Working on... Es rappelt im Karton\n",
      "51752 sum 49 Anzahl backlinks von Es rappelt im Karton at 64 / 199\n",
      "Working on... Kategorie:Paridae\n",
      "927 sum 5 Anzahl backlinks von Kategorie:Paridae at 65 / 199\n",
      "Working on... Liste Ingolstädter Straßennamen\n",
      "23036 sum 917 Anzahl backlinks von Liste Ingolstädter Straßennamen at 66 / 199\n",
      "Working on... Uebachtal\n",
      "2877 sum 156 Anzahl backlinks von Uebachtal at 67 / 199\n",
      "Working on... Montgrí-Massiv\n",
      "6907 sum 57 Anzahl backlinks von Montgrí-Massiv at 68 / 199\n",
      "Working on... Lapplandmeise\n",
      "16062 sum 20 Anzahl backlinks von Lapplandmeise at 69 / 199\n",
      "Working on... Balkanmeise\n",
      "Working on... Schöndorf (an der Ruwer)\n",
      "22254 sum 194 Anzahl backlinks von Schöndorf (an der Ruwer) at 71 / 199\n",
      "Working on... Alter Friedhof (Gießen)\n",
      "24946 sum 129 Anzahl backlinks von Alter Friedhof (Gießen) at 72 / 199\n",
      "Working on... Liste der Strassennamen von Basel\n",
      "77098 sum 617 Anzahl backlinks von Liste der Strassennamen von Basel at 73 / 199\n",
      "Working on... Pechpfuhl (Ludwigsfelde)\n",
      "8015 sum 83 Anzahl backlinks von Pechpfuhl (Ludwigsfelde) at 74 / 199\n",
      "Working on... Cyanistes\n",
      "12021 sum 33 Anzahl backlinks von Cyanistes at 75 / 199\n",
      "Working on... Liste Planegger Straßennamen\n",
      "4041 sum 97 Anzahl backlinks von Liste Planegger Straßennamen at 76 / 199\n",
      "Working on... Wintergoldhähnchen\n",
      "570737 sum 66 Anzahl backlinks von Wintergoldhähnchen at 77 / 199\n",
      "Working on... Buchsbaumzünsler\n",
      "1623158 sum 92 Anzahl backlinks von Buchsbaumzünsler at 78 / 199\n",
      "Working on... Gleispark Frintrop\n",
      "11178 sum 112 Anzahl backlinks von Gleispark Frintrop at 79 / 199\n",
      "Working on... Meisenknödel\n",
      "60817 sum 21 Anzahl backlinks von Meisenknödel at 80 / 199\n",
      "Working on... Mesenholl\n",
      "4227 sum 57 Anzahl backlinks von Mesenholl at 81 / 199\n",
      "Working on... Naturschutzgebiet Jellen\n",
      "3679 sum 97 Anzahl backlinks von Naturschutzgebiet Jellen at 82 / 199\n",
      "Working on... Katy Trail State Park\n",
      "4469 sum 50 Anzahl backlinks von Katy Trail State Park at 83 / 199\n",
      "Working on... Aegithalos\n",
      "6180 sum 32 Anzahl backlinks von Aegithalos at 84 / 199\n",
      "Working on... Schwanzmeisen\n",
      "44815 sum 47 Anzahl backlinks von Schwanzmeisen at 85 / 199\n",
      "Working on... Parus\n",
      "6491 sum 5 Anzahl backlinks von Parus at 86 / 199\n",
      "Working on... Liste der Hemeraner Straßennamen\n",
      "11104 sum 328 Anzahl backlinks von Liste der Hemeraner Straßennamen at 87 / 199\n",
      "Working on... Rotbrustmeise\n",
      "16195 sum 41 Anzahl backlinks von Rotbrustmeise at 88 / 199\n",
      "Working on... Handbook of the Birds of the World\n",
      "18051 sum 236 Anzahl backlinks von Handbook of the Birds of the World at 89 / 199\n",
      "Working on... Rago-Nationalpark\n",
      "11534 sum 120 Anzahl backlinks von Rago-Nationalpark at 90 / 199\n",
      "Working on... Katavi-Nationalpark\n",
      "13337 sum 800 Anzahl backlinks von Katavi-Nationalpark at 91 / 199\n",
      "Working on... Rudolf Berndt (Ornithologe)\n",
      "3912 sum 33 Anzahl backlinks von Rudolf Berndt (Ornithologe) at 92 / 199\n",
      "Working on... Liste der Straßen in Olpe\n",
      "8927 sum 231 Anzahl backlinks von Liste der Straßen in Olpe at 93 / 199\n",
      "Working on... Hüttensänger\n",
      "62753 sum 111 Anzahl backlinks von Hüttensänger at 94 / 199\n",
      "Working on... Len Howard\n",
      "7859 sum 22 Anzahl backlinks von Len Howard at 95 / 199\n",
      "Working on... Meißwinkel (Kürten)\n",
      "3192 sum 234 Anzahl backlinks von Meißwinkel (Kürten) at 96 / 199\n",
      "Working on... Vogelschutzgehölz Hausener Auwald\n",
      "3818 sum 38 Anzahl backlinks von Vogelschutzgehölz Hausener Auwald at 97 / 199\n",
      "Working on... Meise\n",
      "31032 sum 1 Anzahl backlinks von Meise at 98 / 199\n",
      "Working on... Meisen (Begriffsklärung)\n",
      "6579 sum 9 Anzahl backlinks von Meisen (Begriffsklärung) at 99 / 199\n",
      "Working on... Kurzschwanzspecht\n",
      "4696 sum 34 Anzahl backlinks von Kurzschwanzspecht at 100 / 199\n",
      "Working on... Braunbürzelspecht\n",
      "3085 sum 33 Anzahl backlinks von Braunbürzelspecht at 101 / 199\n",
      "Working on... Dommelspecht\n",
      "3191 sum 31 Anzahl backlinks von Dommelspecht at 102 / 199\n",
      "Working on... Beutelmeisen\n",
      "32538 sum 53 Anzahl backlinks von Beutelmeisen at 103 / 199\n",
      "Working on... Liste der Straßennamen von Burgdorf (Region Hannover)\n",
      "13241 sum 164 Anzahl backlinks von Liste der Straßennamen von Burgdorf (Region Hannover) at 104 / 199\n",
      "Working on... Spechtschaden\n",
      "21588 sum 7 Anzahl backlinks von Spechtschaden at 105 / 199\n",
      "Working on... Burckhardtshöhe\n",
      "4890 sum 115 Anzahl backlinks von Burckhardtshöhe at 106 / 199\n",
      "Working on... Unglückshäher (Gattung)\n",
      "17203 sum 53 Anzahl backlinks von Unglückshäher (Gattung) at 107 / 199\n",
      "Working on... Lilla Lövö\n",
      "3062 sum 18 Anzahl backlinks von Lilla Lövö at 108 / 199\n",
      "Working on... Liste der Wirbeltierarten des Kruger-Nationalparks\n",
      "25753 sum 632 Anzahl backlinks von Liste der Wirbeltierarten des Kruger-Nationalparks at 109 / 199\n",
      "Working on... Europa- und Naturschutzgebiet Gerzkopf\n",
      "3731 sum 105 Anzahl backlinks von Europa- und Naturschutzgebiet Gerzkopf at 110 / 199\n",
      "Working on... Arten des Anhangs I der Vogelschutzrichtlinie der EU\n",
      "55434 sum 251 Anzahl backlinks von Arten des Anhangs I der Vogelschutzrichtlinie der EU at 111 / 199\n",
      "Working on... Liste der Straßen und Plätze in Berlin-Dahlem\n",
      "58459 sum 639 Anzahl backlinks von Liste der Straßen und Plätze in Berlin-Dahlem at 112 / 199\n",
      "Working on... Gordon Bay Provincial Park\n",
      "3106 sum 55 Anzahl backlinks von Gordon Bay Provincial Park at 113 / 199\n",
      "Working on... Groß Zicker\n",
      "16695 sum 27 Anzahl backlinks von Groß Zicker at 114 / 199\n",
      "Working on... Stillleben mit Obstschale, Vögeln und Fensterausblick\n",
      "10964 sum 24 Anzahl backlinks von Stillleben mit Obstschale, Vögeln und Fensterausblick at 115 / 199\n",
      "Working on... Hüttertal\n",
      "19417 sum 188 Anzahl backlinks von Hüttertal at 116 / 199\n",
      "Working on... Henry Whitely\n",
      "4000 sum 83 Anzahl backlinks von Henry Whitely at 117 / 199\n",
      "Working on... Beth Slikas\n",
      "3424 sum 37 Anzahl backlinks von Beth Slikas at 118 / 199\n",
      "Working on... Laasn\n",
      "4859 sum 60 Anzahl backlinks von Laasn at 119 / 199\n",
      "Working on... Gutshaus Friedenfelde\n",
      "5872 sum 59 Anzahl backlinks von Gutshaus Friedenfelde at 120 / 199\n",
      "Working on... Hanko-Halbinsel\n",
      "8889 sum 29 Anzahl backlinks von Hanko-Halbinsel at 121 / 199\n",
      "Working on... Neusser Stadtwald\n",
      "8545 sum 58 Anzahl backlinks von Neusser Stadtwald at 122 / 199\n",
      "Working on... Hellwinkel\n",
      "11672 sum 126 Anzahl backlinks von Hellwinkel at 123 / 199\n",
      "Working on... Josef Prokop Pražák\n",
      "1413 sum 23 Anzahl backlinks von Josef Prokop Pražák at 124 / 199\n",
      "Working on... Liste der Straßen, Plätze und Brücken in Hamburg-Barmbek-Nord\n",
      "19245 sum 277 Anzahl backlinks von Liste der Straßen, Plätze und Brücken in Hamburg-Barmbek-Nord at 125 / 199\n",
      "Working on... Liste der Straßen in Freising\n",
      "14660 sum 294 Anzahl backlinks von Liste der Straßen in Freising at 126 / 199\n",
      "Working on... Prestvannet\n",
      "5577 sum 137 Anzahl backlinks von Prestvannet at 127 / 199\n",
      "Working on... Liste der Straßennamen von Hof\n",
      "19766 sum 247 Anzahl backlinks von Liste der Straßennamen von Hof at 128 / 199\n",
      "Working on... Schwattet Gatt\n",
      "10697 sum 147 Anzahl backlinks von Schwattet Gatt at 129 / 199\n",
      "Working on... Sýkořice\n",
      "4301 sum 130 Anzahl backlinks von Sýkořice at 130 / 199\n",
      "Working on... Liebesinsel (Spree)\n",
      "22743 sum 46 Anzahl backlinks von Liebesinsel (Spree) at 131 / 199\n",
      "Working on... Notchview\n",
      "1999 sum 61 Anzahl backlinks von Notchview at 132 / 199\n",
      "Working on... Liste der Straßennamen von Schwarzenbach an der Saale\n",
      "6684 sum 132 Anzahl backlinks von Liste der Straßennamen von Schwarzenbach an der Saale at 133 / 199\n",
      "Working on... Tibetmeise\n",
      "9182 sum 48 Anzahl backlinks von Tibetmeise at 134 / 199\n",
      "Working on... Liste der Straßen in Selm\n",
      "7282 sum 169 Anzahl backlinks von Liste der Straßen in Selm at 135 / 199\n",
      "Working on... Liste der Straßen in Bergkamen\n",
      "10033 sum 278 Anzahl backlinks von Liste der Straßen in Bergkamen at 136 / 199\n",
      "Working on... Bylerward\n",
      "6116 sum 89 Anzahl backlinks von Bylerward at 137 / 199\n",
      "Working on... Kanarenmeise\n",
      "19397 sum 31 Anzahl backlinks von Kanarenmeise at 138 / 199\n",
      "Working on... Grauhaubenmeise\n",
      "Working on... Fichtenmeise\n",
      "21767 sum 49 Anzahl backlinks von Fichtenmeise at 140 / 199\n",
      "Working on... Philogène Auguste Galilée Wytsman\n",
      "3248 sum 49 Anzahl backlinks von Philogène Auguste Galilée Wytsman at 141 / 199\n",
      "Working on... Liste der Straßennamen in Solingen (A–H)\n",
      "20795 sum 623 Anzahl backlinks von Liste der Straßennamen in Solingen (A–H) at 142 / 199\n",
      "Working on... Sondernaturschutzgebiet des Parks Burcina\n",
      "2825 sum 51 Anzahl backlinks von Sondernaturschutzgebiet des Parks Burcina at 143 / 199\n",
      "Working on... Liste der Straßennamen in Solingen (R–Z)\n",
      "11816 sum 411 Anzahl backlinks von Liste der Straßennamen in Solingen (R–Z) at 144 / 199\n",
      "Working on... Blochinger Sandwinkel\n",
      "4312 sum 193 Anzahl backlinks von Blochinger Sandwinkel at 145 / 199\n",
      "Working on... Brillenmeise\n",
      "Working on... Schwarzhäubchenmeise\n",
      "10215 sum 32 Anzahl backlinks von Schwarzhäubchenmeise at 147 / 199\n",
      "Working on... Apodaca Provincial Park\n",
      "2607 sum 43 Anzahl backlinks von Apodaca Provincial Park at 148 / 199\n",
      "Working on... Sultansmeise\n",
      "10947 sum 65 Anzahl backlinks von Sultansmeise at 149 / 199\n",
      "Working on... Sambesi-Rußmeise\n",
      "2011 sum 42 Anzahl backlinks von Sambesi-Rußmeise at 150 / 199\n",
      "Working on... Liste der Straßen in Essen-Burgaltendorf\n",
      "5712 sum 104 Anzahl backlinks von Liste der Straßen in Essen-Burgaltendorf at 151 / 199\n",
      "Working on... Schloss Clerf\n",
      "28083 sum 65 Anzahl backlinks von Schloss Clerf at 152 / 199\n",
      "Working on... Königsmeise\n",
      "9505 sum 47 Anzahl backlinks von Königsmeise at 153 / 199\n",
      "Working on... Liste der Straßen und Plätze in Prohlis\n",
      "3189 sum 186 Anzahl backlinks von Liste der Straßen und Plätze in Prohlis at 154 / 199\n",
      "Working on... Elfenschnäpper (Familie)\n",
      "Working on... Goldhähnchen-Laubsänger\n",
      "11979 sum 127 Anzahl backlinks von Goldhähnchen-Laubsänger at 156 / 199\n",
      "Working on... Bergkohlmeise\n",
      "9040 sum 34 Anzahl backlinks von Bergkohlmeise at 157 / 199\n",
      "Working on... Liste der Straßennamen von Igersheim\n",
      "2944 sum 99 Anzahl backlinks von Liste der Straßennamen von Igersheim at 158 / 199\n",
      "Working on... Weichfresser\n",
      "10222 sum 56 Anzahl backlinks von Weichfresser at 159 / 199\n",
      "Working on... Vogelnest\n",
      "47385 sum 80 Anzahl backlinks von Vogelnest at 160 / 199\n",
      "Working on... Liste der Straßen, Plätze und Brücken in Hamburg-Poppenbüttel\n",
      "4538 sum 170 Anzahl backlinks von Liste der Straßen, Plätze und Brücken in Hamburg-Poppenbüttel at 161 / 199\n",
      "Working on... Raet-Nationalpark\n",
      "2018 sum 68 Anzahl backlinks von Raet-Nationalpark at 162 / 199\n",
      "Working on... Christopher M. Perrins\n",
      "1971 sum 46 Anzahl backlinks von Christopher M. Perrins at 163 / 199\n",
      "Working on... Elizabeth Lack\n",
      "949 sum 27 Anzahl backlinks von Elizabeth Lack at 164 / 199\n",
      "Working on... Stadtwald (Bad Salzuflen)\n",
      "2205 sum 147 Anzahl backlinks von Stadtwald (Bad Salzuflen) at 165 / 199\n",
      "Working on... Suttonella ornithocola\n",
      "22169 sum 36 Anzahl backlinks von Suttonella ornithocola at 166 / 199\n",
      "Working on... Liste der Straßen in Aachen-Mitte\n",
      "13782 sum 906 Anzahl backlinks von Liste der Straßen in Aachen-Mitte at 167 / 199\n",
      "Working on... Liste der Straßen und Plätze in Trier\n",
      "9197 sum 589 Anzahl backlinks von Liste der Straßen und Plätze in Trier at 168 / 199\n",
      "Working on... Hyliotas\n",
      "1025 sum 23 Anzahl backlinks von Hyliotas at 169 / 199\n",
      "Working on... Baumsänger\n",
      "978 sum 26 Anzahl backlinks von Baumsänger at 170 / 199\n",
      "Working on... Tigerzaunkönig\n",
      "1108 sum 66 Anzahl backlinks von Tigerzaunkönig at 171 / 199\n",
      "Working on... Liste der Wappen in der Verbandsgemeinde Ruwer\n",
      "1265 sum 113 Anzahl backlinks von Liste der Wappen in der Verbandsgemeinde Ruwer at 172 / 199\n",
      "Working on... Liste der Straßennamen von Heilbronn\n",
      "798 sum 849 Anzahl backlinks von Liste der Straßennamen von Heilbronn at 173 / 199\n",
      "Working on... Jacques Blondel (Ökologe)\n",
      "575 sum 33 Anzahl backlinks von Jacques Blondel (Ökologe) at 174 / 199\n",
      "Working on... Gipfel des Glockert\n",
      "490 sum 35 Anzahl backlinks von Gipfel des Glockert at 175 / 199\n",
      "Working on... Meißen (Begriffsklärung)\n",
      "7791 sum 27 Anzahl backlinks von Meißen (Begriffsklärung) at 176 / 199\n",
      "Working on... Cebukauz\n",
      "390 sum 52 Anzahl backlinks von Cebukauz at 177 / 199\n",
      "Working on... Vogelbestimmung\n",
      "642 sum 83 Anzahl backlinks von Vogelbestimmung at 178 / 199\n",
      "Working on... Liste der Straßennamen und Ortschaften Klagenfurts\n",
      "829 sum 1420 Anzahl backlinks von Liste der Straßennamen und Ortschaften Klagenfurts at 179 / 199\n",
      "Working on... Kalkklippen der Gobert\n",
      "287 sum 227 Anzahl backlinks von Kalkklippen der Gobert at 180 / 199\n",
      "Working on... Haubenvireo\n",
      "Working on... Sylviida\n",
      "Working on... Dreifarben-Brillenvanga\n",
      "Working on... Braunstirn-Brillenvanga\n",
      "Working on... Weißmantel-Rußmeise\n",
      "Working on... Somalirußmeise\n",
      "Working on... Schwarzbrust-Rußmeise\n",
      "Working on... Rostkehl-Rußmeise\n",
      "Working on... Einfarb-Rußmeise\n",
      "Working on... Weißschulter-Rußmeise\n",
      "Working on... Weißflügel-Rußmeise\n",
      "Working on... Weißbauch-Rußmeise\n",
      "Working on... Rostbauch-Rußmeise\n",
      "Working on... Miomborußmeise\n",
      "Working on... Kaprußmeise\n",
      "Working on... Akazienrußmeise\n",
      "Working on... Zimtbauch-Rußmeise\n",
      "Working on... Carprußmeise\n"
     ]
    }
   ],
   "source": [
    "num_backlink_data = []\n",
    "sumview_data = []\n",
    "for position, entrys in enumerate(filter_all_backlinks):\n",
    "        try:\n",
    "            print(\"Working on...\", entrys )\n",
    "            number = get_links(entrys,\"links\")\n",
    "            num_views = sum(get_views(entrys))\n",
    "            print(num_views,\"sum\" , len(number),\"Anzahl backlinks von\", entrys,\"at\" , position, \"/\", len(filter_all_backlinks))\n",
    "            num_backlink_data.append([entrys,len(number)]) #savin an array consisting of the article, then the number of all backlinks they have.\n",
    "            sumview_data.append([entrys,num_views]) #saving an array consisting of the Article, then the sum of all views.\n",
    "        except:\n",
    "            pass"
   ],
   "metadata": {
    "collapsed": false
   }
  },
  {
   "cell_type": "code",
   "execution_count": 10,
   "outputs": [
    {
     "name": "stdout",
     "output_type": "stream",
     "text": [
      "<class 'str'>\n"
     ]
    }
   ],
   "source": [
    "print(type(num_backlink_data[0][0]))"
   ],
   "metadata": {
    "collapsed": false
   }
  },
  {
   "cell_type": "code",
   "execution_count": 11,
   "outputs": [],
   "source": [
    "joinedlist = []\n",
    "for e in range(len(num_backlink_data)):\n",
    "    numbl = num_backlink_data[e][1]\n",
    "    sumbl = sumview_data[e][1]\n",
    "    joinedlist.append([numbl,sumbl])"
   ],
   "metadata": {
    "collapsed": false
   }
  },
  {
   "cell_type": "code",
   "execution_count": 12,
   "outputs": [
    {
     "name": "stdout",
     "output_type": "stream",
     "text": [
      "175\n",
      "175\n"
     ]
    }
   ],
   "source": [
    "print(len(num_backlink_data))\n",
    "print(len(sumview_data))"
   ],
   "metadata": {
    "collapsed": false
   }
  },
  {
   "cell_type": "code",
   "execution_count": 13,
   "outputs": [
    {
     "data": {
      "text/plain": "[[520, 2022546],\n [181, 1234583],\n [125, 117673],\n [264, 34148],\n [443, 1154938],\n [27, 105924],\n [189, 42472],\n [127, 338283],\n [208, 439283],\n [339, 3668715],\n [212, 1824024],\n [346, 1540145],\n [111, 934239],\n [260, 1391025],\n [121, 286046],\n [82, 185585],\n [46, 203193],\n [98, 336277],\n [123, 516643],\n [168, 1507788],\n [472, 211285],\n [260, 95046],\n [173, 223829],\n [301, 1941729],\n [98, 957411],\n [365, 276960],\n [1, 2450],\n [310, 83696],\n [197, 152093],\n [48, 14827],\n [745, 481528],\n [69, 183834],\n [53, 30571],\n [69, 63662],\n [59, 63607],\n [43, 70574],\n [37, 166114],\n [189, 42206],\n [76, 159665],\n [52, 50433],\n [67, 27004],\n [120, 107433],\n [858, 546973],\n [27, 30468],\n [327, 14498],\n [83, 15403],\n [41, 4478],\n [18, 32135],\n [109, 190325],\n [57, 5679],\n [14, 6318],\n [19, 3595],\n [21, 56931],\n [5, 7381],\n [2236, 44606346],\n [60, 20016],\n [58, 6583],\n [49, 21122],\n [20, 3966],\n [61, 28237],\n [40, 13244],\n [29, 11903],\n [49, 51752],\n [5, 927],\n [917, 23036],\n [156, 2877],\n [57, 6907],\n [20, 16062],\n [194, 22254],\n [129, 24946],\n [617, 77098],\n [83, 8015],\n [33, 12021],\n [97, 4041],\n [66, 570737],\n [92, 1623158],\n [112, 11178],\n [21, 60817],\n [57, 4227],\n [97, 3679],\n [50, 4469],\n [32, 6180],\n [47, 44815],\n [5, 6491],\n [328, 11104],\n [41, 16195],\n [236, 18051],\n [120, 11534],\n [800, 13337],\n [33, 3912],\n [231, 8927],\n [111, 62753],\n [22, 7859],\n [234, 3192],\n [38, 3818],\n [1, 31032],\n [9, 6579],\n [34, 4696],\n [33, 3085],\n [31, 3191],\n [53, 32538],\n [164, 13241],\n [7, 21588],\n [115, 4890],\n [53, 17203],\n [18, 3062],\n [632, 25753],\n [105, 3731],\n [251, 55434],\n [639, 58459],\n [55, 3106],\n [27, 16695],\n [24, 10964],\n [188, 19417],\n [83, 4000],\n [37, 3424],\n [60, 4859],\n [59, 5872],\n [29, 8889],\n [58, 8545],\n [126, 11672],\n [23, 1413],\n [277, 19245],\n [294, 14660],\n [137, 5577],\n [247, 19766],\n [147, 10697],\n [130, 4301],\n [46, 22743],\n [61, 1999],\n [132, 6684],\n [48, 9182],\n [169, 7282],\n [278, 10033],\n [89, 6116],\n [31, 19397],\n [49, 21767],\n [49, 3248],\n [623, 20795],\n [51, 2825],\n [411, 11816],\n [193, 4312],\n [32, 10215],\n [43, 2607],\n [65, 10947],\n [42, 2011],\n [104, 5712],\n [65, 28083],\n [47, 9505],\n [186, 3189],\n [127, 11979],\n [34, 9040],\n [99, 2944],\n [56, 10222],\n [80, 47385],\n [170, 4538],\n [68, 2018],\n [46, 1971],\n [27, 949],\n [147, 2205],\n [36, 22169],\n [906, 13782],\n [589, 9197],\n [23, 1025],\n [26, 978],\n [66, 1108],\n [113, 1265],\n [849, 798],\n [33, 575],\n [35, 490],\n [27, 7791],\n [52, 390],\n [83, 642],\n [1420, 829],\n [227, 287]]"
     },
     "execution_count": 13,
     "metadata": {},
     "output_type": "execute_result"
    }
   ],
   "source": [
    "joinedlist"
   ],
   "metadata": {
    "collapsed": false
   }
  },
  {
   "cell_type": "code",
   "execution_count": 14,
   "outputs": [
    {
     "data": {
      "text/plain": "     NumofBacklinks  Sumviews\n0               520   2022546\n1               181   1234583\n2               125    117673\n3               264     34148\n4               443   1154938\n..              ...       ...\n170              27      7791\n171              52       390\n172              83       642\n173            1420       829\n174             227       287\n\n[175 rows x 2 columns]",
      "text/html": "<div>\n<style scoped>\n    .dataframe tbody tr th:only-of-type {\n        vertical-align: middle;\n    }\n\n    .dataframe tbody tr th {\n        vertical-align: top;\n    }\n\n    .dataframe thead th {\n        text-align: right;\n    }\n</style>\n<table border=\"1\" class=\"dataframe\">\n  <thead>\n    <tr style=\"text-align: right;\">\n      <th></th>\n      <th>NumofBacklinks</th>\n      <th>Sumviews</th>\n    </tr>\n  </thead>\n  <tbody>\n    <tr>\n      <th>0</th>\n      <td>520</td>\n      <td>2022546</td>\n    </tr>\n    <tr>\n      <th>1</th>\n      <td>181</td>\n      <td>1234583</td>\n    </tr>\n    <tr>\n      <th>2</th>\n      <td>125</td>\n      <td>117673</td>\n    </tr>\n    <tr>\n      <th>3</th>\n      <td>264</td>\n      <td>34148</td>\n    </tr>\n    <tr>\n      <th>4</th>\n      <td>443</td>\n      <td>1154938</td>\n    </tr>\n    <tr>\n      <th>...</th>\n      <td>...</td>\n      <td>...</td>\n    </tr>\n    <tr>\n      <th>170</th>\n      <td>27</td>\n      <td>7791</td>\n    </tr>\n    <tr>\n      <th>171</th>\n      <td>52</td>\n      <td>390</td>\n    </tr>\n    <tr>\n      <th>172</th>\n      <td>83</td>\n      <td>642</td>\n    </tr>\n    <tr>\n      <th>173</th>\n      <td>1420</td>\n      <td>829</td>\n    </tr>\n    <tr>\n      <th>174</th>\n      <td>227</td>\n      <td>287</td>\n    </tr>\n  </tbody>\n</table>\n<p>175 rows × 2 columns</p>\n</div>"
     },
     "execution_count": 14,
     "metadata": {},
     "output_type": "execute_result"
    }
   ],
   "source": [
    "joineddf = pd.DataFrame(joinedlist,columns=[\"NumofBacklinks\",\"Sumviews\"])\n",
    "joineddf"
   ],
   "metadata": {
    "collapsed": false
   }
  },
  {
   "cell_type": "code",
   "execution_count": 15,
   "outputs": [
    {
     "data": {
      "text/plain": "                NumofBacklinks  Sumviews\nNumofBacklinks        1.000000  0.615804\nSumviews              0.615804  1.000000",
      "text/html": "<div>\n<style scoped>\n    .dataframe tbody tr th:only-of-type {\n        vertical-align: middle;\n    }\n\n    .dataframe tbody tr th {\n        vertical-align: top;\n    }\n\n    .dataframe thead th {\n        text-align: right;\n    }\n</style>\n<table border=\"1\" class=\"dataframe\">\n  <thead>\n    <tr style=\"text-align: right;\">\n      <th></th>\n      <th>NumofBacklinks</th>\n      <th>Sumviews</th>\n    </tr>\n  </thead>\n  <tbody>\n    <tr>\n      <th>NumofBacklinks</th>\n      <td>1.000000</td>\n      <td>0.615804</td>\n    </tr>\n    <tr>\n      <th>Sumviews</th>\n      <td>0.615804</td>\n      <td>1.000000</td>\n    </tr>\n  </tbody>\n</table>\n</div>"
     },
     "execution_count": 15,
     "metadata": {},
     "output_type": "execute_result"
    }
   ],
   "source": [
    "joineddf.corr(method=\"pearson\")"
   ],
   "metadata": {
    "collapsed": false
   }
  },
  {
   "cell_type": "code",
   "execution_count": 16,
   "outputs": [
    {
     "data": {
      "text/plain": "                                                  Page  Sumviews\n0                                       Schmetterlinge   2022546\n1                                           Buntspecht   1234583\n2                                             Bartkauz    117673\n3                                             Chibinen     34148\n4                                                Ibiza   1154938\n..                                                 ...       ...\n170                           Meißen (Begriffsklärung)      7791\n171                                           Cebukauz       390\n172                                    Vogelbestimmung       642\n173  Liste der Straßennamen und Ortschaften Klagenf...       829\n174                             Kalkklippen der Gobert       287\n\n[175 rows x 2 columns]",
      "text/html": "<div>\n<style scoped>\n    .dataframe tbody tr th:only-of-type {\n        vertical-align: middle;\n    }\n\n    .dataframe tbody tr th {\n        vertical-align: top;\n    }\n\n    .dataframe thead th {\n        text-align: right;\n    }\n</style>\n<table border=\"1\" class=\"dataframe\">\n  <thead>\n    <tr style=\"text-align: right;\">\n      <th></th>\n      <th>Page</th>\n      <th>Sumviews</th>\n    </tr>\n  </thead>\n  <tbody>\n    <tr>\n      <th>0</th>\n      <td>Schmetterlinge</td>\n      <td>2022546</td>\n    </tr>\n    <tr>\n      <th>1</th>\n      <td>Buntspecht</td>\n      <td>1234583</td>\n    </tr>\n    <tr>\n      <th>2</th>\n      <td>Bartkauz</td>\n      <td>117673</td>\n    </tr>\n    <tr>\n      <th>3</th>\n      <td>Chibinen</td>\n      <td>34148</td>\n    </tr>\n    <tr>\n      <th>4</th>\n      <td>Ibiza</td>\n      <td>1154938</td>\n    </tr>\n    <tr>\n      <th>...</th>\n      <td>...</td>\n      <td>...</td>\n    </tr>\n    <tr>\n      <th>170</th>\n      <td>Meißen (Begriffsklärung)</td>\n      <td>7791</td>\n    </tr>\n    <tr>\n      <th>171</th>\n      <td>Cebukauz</td>\n      <td>390</td>\n    </tr>\n    <tr>\n      <th>172</th>\n      <td>Vogelbestimmung</td>\n      <td>642</td>\n    </tr>\n    <tr>\n      <th>173</th>\n      <td>Liste der Straßennamen und Ortschaften Klagenf...</td>\n      <td>829</td>\n    </tr>\n    <tr>\n      <th>174</th>\n      <td>Kalkklippen der Gobert</td>\n      <td>287</td>\n    </tr>\n  </tbody>\n</table>\n<p>175 rows × 2 columns</p>\n</div>"
     },
     "execution_count": 16,
     "metadata": {},
     "output_type": "execute_result"
    }
   ],
   "source": [
    "#saving the fetched data in csv to save progess\n",
    "dataframe = pd.DataFrame(num_backlink_data, columns=[\"Page\",\"Backlinks\"])\n",
    "dataframe2 =pd.DataFrame(sumview_data,columns=[\"Page\", \"Sumviews\"])\n",
    "dataframe\n",
    "dataframe2"
   ],
   "metadata": {
    "collapsed": false
   }
  },
  {
   "cell_type": "code",
   "execution_count": 17,
   "outputs": [],
   "source": [
    "path = r\"C:\\Users\\Marvin\\PycharmProjects\\pythonProject\\real stuff\\datafiles\\Deutschland\"\n",
    "dataframe.to_csv(path + '/' f'{\"num_backlink_data\"}' + '.csv', index=False)\n",
    "dataframe2.to_csv(path + '/' f'{\"sumview_data\"}' + '.csv', index=False)"
   ],
   "metadata": {
    "collapsed": false
   }
  },
  {
   "cell_type": "code",
   "execution_count": 18,
   "outputs": [],
   "source": [
    "backlinks_data_saved = num_backlink_data"
   ],
   "metadata": {
    "collapsed": false
   }
  },
  {
   "cell_type": "code",
   "execution_count": 19,
   "outputs": [
    {
     "name": "stdout",
     "output_type": "stream",
     "text": [
      "284\n",
      "175\n"
     ]
    }
   ],
   "source": [
    "print(len(all_main_backlinks))\n",
    "print(len(num_backlink_data))"
   ],
   "metadata": {
    "collapsed": false
   }
  }
 ],
 "metadata": {
  "kernelspec": {
   "display_name": "Python 3",
   "language": "python",
   "name": "python3"
  },
  "language_info": {
   "codemirror_mode": {
    "name": "ipython",
    "version": 2
   },
   "file_extension": ".py",
   "mimetype": "text/x-python",
   "name": "python",
   "nbconvert_exporter": "python",
   "pygments_lexer": "ipython2",
   "version": "2.7.6"
  }
 },
 "nbformat": 4,
 "nbformat_minor": 0
}
