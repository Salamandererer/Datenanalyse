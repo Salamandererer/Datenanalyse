{
 "cells": [
  {
   "cell_type": "markdown",
   "source": [
    "# Korrelation\n",
    "\n",
    "\n",
    "Hier befindet sich die Berechnung zur Korrelation  zwischen den Views einer gewählten Seite und der aufsummierten Views aller Backlinks berechnet. Die Eingabe dieser Seiter erfolgt unter \"article\", welche man in zwei Zellen unter dieser hier findet.\n",
    "\n",
    "Hier werden zudem Backlinks rausgefiltert, die zu viele leere Einträge haben. Diese Grenze liegt bei ca 180 Einträgen, also einem halben Jahr.\n",
    "\n",
    "\n",
    "Die Korrelation liefert den linearen Zusammenhang zwischen zwei Variablen.\n",
    "\n",
    "\n",
    "Die Korrelation liegt immer zwischen -1 und 1. Wobei 0 bedeutet, dass kein linearer Zusammenhang besteht. -1 oder 1 bedeuten, dass ein stärkerer linearer Zusammenhang oder ein schwächerer besteht."
   ],
   "metadata": {
    "collapsed": false
   }
  },
  {
   "cell_type": "code",
   "execution_count": null,
   "outputs": [],
   "source": [
    "import os\n",
    "import pandas as pd\n",
    "\n",
    "from linkmethods import get_views,filterlinks,get_links"
   ],
   "metadata": {
    "collapsed": false
   }
  },
  {
   "cell_type": "code",
   "execution_count": null,
   "outputs": [],
   "source": [
    "#Type in the Wikipedia page you want to get data from"
   ],
   "metadata": {
    "collapsed": false
   }
  },
  {
   "cell_type": "code",
   "execution_count": null,
   "outputs": [],
   "source": [
    "article = \"Exekutive\""
   ],
   "metadata": {
    "collapsed": false
   }
  },
  {
   "cell_type": "code",
   "execution_count": null,
   "outputs": [],
   "source": [
    "#grab all backlinks from one page"
   ],
   "metadata": {
    "collapsed": false
   }
  },
  {
   "cell_type": "code",
   "execution_count": null,
   "outputs": [],
   "source": [
    "all_main_backlinks = get_links(article,\"linkshere\")"
   ],
   "metadata": {
    "collapsed": false
   }
  },
  {
   "cell_type": "code",
   "execution_count": null,
   "outputs": [],
   "source": [
    "#writing the data to a csv for later use to save time, also filtering not necessary backlinks from the list"
   ],
   "metadata": {
    "collapsed": false
   }
  },
  {
   "cell_type": "code",
   "execution_count": null,
   "outputs": [],
   "source": [
    "filter_all_backlinks = filterlinks(all_main_backlinks)\n",
    "df = pd.DataFrame(filter_all_backlinks,columns=[\"backlinks\"])\n",
    "path = fr\"datafiles\\{article}\"\n",
    "try:\n",
    "    os.mkdir(path) #write it to a csv for later use\n",
    "except:\n",
    "    pass\n",
    "df.to_csv(path + '/' f'{article}bldata.csv', index=False)"
   ],
   "metadata": {
    "collapsed": false
   }
  },
  {
   "cell_type": "code",
   "execution_count": null,
   "outputs": [],
   "source": [
    "#Comparing the amount of all links and the amount of links after they got filtered"
   ],
   "metadata": {
    "collapsed": false
   }
  },
  {
   "cell_type": "code",
   "execution_count": null,
   "outputs": [],
   "source": [
    "print(\"Number of unfiltered Pages:\",len(all_main_backlinks))\n",
    "print(\"Number of pages after filter:\",(len(filter_all_backlinks)))"
   ],
   "metadata": {
    "collapsed": false
   }
  },
  {
   "cell_type": "markdown",
   "source": [
    "Consider the Runtime increases proportional to the amount of unfiltered Pages"
   ],
   "metadata": {
    "collapsed": false
   }
  },
  {
   "cell_type": "code",
   "execution_count": null,
   "outputs": [],
   "source": [
    "filter_all_backlinks = pd.read_csv(fr\"datafiles\\{article}\\{article}bldata.csv\")\n",
    "filter_all_backlinks = filter_all_backlinks['backlinks'].values.tolist()"
   ],
   "metadata": {
    "collapsed": false
   }
  },
  {
   "cell_type": "code",
   "execution_count": null,
   "outputs": [],
   "source": [
    "print(pd.DataFrame(filter_all_backlinks,columns=[f\"Backlinks from {article}\"]))\n",
    "#Getting a look at the Backlinks"
   ],
   "metadata": {
    "collapsed": false
   }
  },
  {
   "cell_type": "code",
   "execution_count": null,
   "outputs": [],
   "source": [
    "#Filling up the array with 0's on the days no data is availible -  meaning there were no pageviews on that day\n",
    "#Additionally we are not using pages where the page has more than 1/14 missing entrys (line 10)"
   ],
   "metadata": {
    "collapsed": false
   }
  },
  {
   "cell_type": "code",
   "execution_count": null,
   "outputs": [],
   "source": [
    "mainviews = get_views(article)\n",
    "backlinksMainview = filterlinks(get_links(article,\"linkshere\"))\n",
    "\n",
    "len1 = len(mainviews)\n",
    "for entry in backlinksMainview:\n",
    "    views = get_views(entry)\n",
    "    len2 = len(views)\n",
    "    if len2 < len1:\n",
    "        diff = len1 - len2\n",
    "        if diff < len(mainviews)/14:\n",
    "            print(\"Filling in\",diff,\"Missing Values for:\",entry)\n",
    "            for i in range(0, diff):\n",
    "                views.append(0)\n",
    "        else:\n",
    "            backlinksMainview.remove(entry)\n",
    "\n",
    "entrys = [0]*len(mainviews)\n",
    "\n",
    "for position,entry in enumerate(backlinksMainview):\n",
    "    print(\"Working on...\", entry)\n",
    "    list = get_views(entry)\n",
    "    print(\"at\" ,position ,\"/\", len(backlinksMainview))\n",
    "    for i in range(0,len(list)):\n",
    "        entrys[i] = entrys[i] + list[i]"
   ],
   "metadata": {
    "collapsed": false
   }
  },
  {
   "cell_type": "code",
   "execution_count": null,
   "outputs": [],
   "source": [
    "#Comparing the Amount of actual Dataset used with all backlinks from the main Page"
   ],
   "metadata": {
    "collapsed": false
   }
  },
  {
   "cell_type": "code",
   "execution_count": null,
   "outputs": [],
   "source": [
    "print(\"Amount of pages that got searched\",len(filter_all_backlinks))\n",
    "print(\"Amount of pages that we got data from\",len(backlinksMainview))"
   ],
   "metadata": {
    "collapsed": false
   }
  },
  {
   "cell_type": "code",
   "execution_count": null,
   "outputs": [],
   "source": [
    "#Zipping both lists together"
   ],
   "metadata": {
    "collapsed": false
   }
  },
  {
   "cell_type": "code",
   "execution_count": null,
   "outputs": [],
   "source": [
    "Corr2list = []\n",
    "for e in range(len(entrys)):\n",
    "    numvieww = mainviews[e]\n",
    "    sumbl = entrys[e]\n",
    "    Corr2list.append([numvieww,sumbl])"
   ],
   "metadata": {
    "collapsed": false
   }
  },
  {
   "cell_type": "code",
   "execution_count": null,
   "outputs": [],
   "source": [
    "corr2 = pd.DataFrame(Corr2list, columns=[f'{article} views', \"Sum backlinks pageview\"])\n",
    "corr2"
   ],
   "metadata": {
    "collapsed": false
   }
  },
  {
   "cell_type": "code",
   "execution_count": null,
   "outputs": [],
   "source": [
    "#Showing the Correlation between the views of the searched article and the sum of views from Backlinks for each day."
   ],
   "metadata": {
    "collapsed": false
   }
  },
  {
   "cell_type": "code",
   "execution_count": null,
   "outputs": [],
   "source": [
    "corr2.corr(method=\"pearson\")"
   ],
   "metadata": {
    "collapsed": false
   }
  }
 ],
 "metadata": {
  "kernelspec": {
   "display_name": "Python 3",
   "language": "python",
   "name": "python3"
  },
  "language_info": {
   "codemirror_mode": {
    "name": "ipython",
    "version": 2
   },
   "file_extension": ".py",
   "mimetype": "text/x-python",
   "name": "python",
   "nbconvert_exporter": "python",
   "pygments_lexer": "ipython2",
   "version": "2.7.6"
  }
 },
 "nbformat": 4,
 "nbformat_minor": 0
}
